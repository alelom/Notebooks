{
  "nbformat": 4,
  "nbformat_minor": 0,
  "metadata": {
    "anaconda-cloud": {},
    "kernelspec": {
      "display_name": "Python [default]",
      "language": "python",
      "name": "python3"
    },
    "language_info": {
      "codemirror_mode": {
        "name": "ipython",
        "version": 3
      },
      "file_extension": ".py",
      "mimetype": "text/x-python",
      "name": "python",
      "nbconvert_exporter": "python",
      "pygments_lexer": "ipython3",
      "version": "3.5.4"
    },
    "pycharm": {
      "stem_cell": {
        "cell_type": "raw",
        "source": [],
        "metadata": {
          "collapsed": false
        }
      }
    },
    "colab": {
      "name": "pytorch.ipynb",
      "provenance": []
    }
  },
  "cells": [
    {
      "cell_type": "markdown",
      "metadata": {
        "collapsed": false,
        "pycharm": {
          "name": "#%% md\n"
        },
        "id": "DH3IRh-2Ba2b"
      },
      "source": [
        "# livelossplot example: PyTorch\n",
        "\n",
        "Last update: `livelossplot 0.5.0`. For code and documentation, see [livelossplot GitHub repository](https://github.com/stared/livelossplot).\n",
        "\n",
        "<a href=\"https://colab.research.google.com/github/stared/livelossplot/blob/master/examples/pytorch.ipynb\" target=\"_parent\">\n",
        "    <img src=\"https://colab.research.google.com/assets/colab-badge.svg\"/>\n",
        "</a>"
      ]
    },
    {
      "cell_type": "code",
      "metadata": {
        "pycharm": {
          "name": "#%%\n"
        },
        "id": "xIW03Kq7Ba2g"
      },
      "source": [
        "!pip install livelossplot --quiet"
      ],
      "execution_count": 30,
      "outputs": []
    },
    {
      "cell_type": "code",
      "metadata": {
        "pycharm": {
          "is_executing": false
        },
        "id": "wce11JuuBa2j"
      },
      "source": [
        "import numpy as np\n",
        "from sklearn.model_selection import train_test_split\n",
        "\n",
        "import torch\n",
        "from torch import nn\n",
        "from torch import optim\n",
        "from torch.utils.data import TensorDataset, DataLoader\n",
        "\n",
        "from livelossplot import PlotLosses"
      ],
      "execution_count": 31,
      "outputs": []
    },
    {
      "cell_type": "code",
      "metadata": {
        "pycharm": {
          "is_executing": false
        },
        "id": "-a-j2TPHBa2l"
      },
      "source": [
        "base_string = \"()()\" + (32 - 4) * \" \"\n",
        "\n",
        "def shuffle_string(s):\n",
        "    indices = np.arange(len(s), dtype='uint8')\n",
        "    np.random.shuffle(indices)\n",
        "    return \"\".join(base_string[i] for i in indices)\n",
        "\n",
        "def is_correct(seq):\n",
        "    open_brackets = 0\n",
        "    val = {\"(\": 1, \" \": 0, \")\": -1}\n",
        "    for c in seq:\n",
        "        open_brackets += val[c]\n",
        "        if open_brackets < 0:\n",
        "            return False\n",
        "    return open_brackets == 0\n",
        "\n",
        "char2id = {\" \": 0, \"(\": 1, \")\": 2}\n",
        "\n",
        "def generate_pairs(size):\n",
        "    X = np.zeros((size, 3, len(base_string)), dtype='float32')\n",
        "    Y = np.zeros((size), dtype='int64')\n",
        "    for i in range(size):\n",
        "        s = shuffle_string(base_string)\n",
        "        Y[i] = int(is_correct(s))\n",
        "        for j, c in enumerate(s):\n",
        "            X[i, char2id[c], j] = 1.\n",
        "    return X, Y\n",
        "\n",
        "def generate_train_test_pairs(size):\n",
        "    X, Y = generate_pairs(size)\n",
        "    return train_test_split(X, Y, test_size=0.25, random_state=42)"
      ],
      "execution_count": 32,
      "outputs": []
    },
    {
      "cell_type": "code",
      "metadata": {
        "pycharm": {
          "is_executing": false
        },
        "id": "KJfFYSepBa2r",
        "outputId": "662c416f-a378-4d79-a4c0-ee055e76f2a8",
        "colab": {
          "base_uri": "https://localhost:8080/"
        }
      },
      "source": [
        "x = shuffle_string(base_string)\n",
        "print(x, \"- correct\" if is_correct(x) else \"- incorrect\")"
      ],
      "execution_count": 33,
      "outputs": [
        {
          "output_type": "stream",
          "text": [
            "  ()      ) (                    - incorrect\n"
          ],
          "name": "stdout"
        }
      ]
    },
    {
      "cell_type": "code",
      "metadata": {
        "pycharm": {
          "is_executing": false
        },
        "id": "oIuESXC5Ba2v"
      },
      "source": [
        "X_train, X_test, Y_train, Y_test = generate_train_test_pairs(1000)\n",
        "\n",
        "trainloader = DataLoader(TensorDataset(torch.from_numpy(X_train), torch.from_numpy(Y_train)),\n",
        "                         batch_size=32, shuffle=True)\n",
        "testloader = DataLoader(TensorDataset(torch.from_numpy(X_test), torch.from_numpy(Y_test)),\n",
        "                         batch_size=32, shuffle=False)\n",
        "\n",
        "dataloaders = {\n",
        "    \"train\": trainloader,\n",
        "    \"validation\": testloader\n",
        "}"
      ],
      "execution_count": 34,
      "outputs": []
    },
    {
      "cell_type": "code",
      "metadata": {
        "pycharm": {
          "is_executing": false
        },
        "id": "_1prCML3Ba20"
      },
      "source": [
        "class Recurrent(nn.Module):\n",
        "    def __init__(self, rnn_size):\n",
        "        super(Recurrent, self).__init__()\n",
        "        self.gru = nn.GRU(input_size=3, hidden_size=rnn_size)\n",
        "        self.fc = nn.Linear(rnn_size, 2)\n",
        "\n",
        "    def forward(self, x):\n",
        "        x = x.permute(2, 0, 1)\n",
        "        output, hidden = self.gru(x)\n",
        "        return self.fc(hidden.squeeze(0))"
      ],
      "execution_count": 35,
      "outputs": []
    },
    {
      "cell_type": "code",
      "metadata": {
        "pycharm": {
          "is_executing": false
        },
        "id": "hZseH0jMBa23"
      },
      "source": [
        "# train on cuda if available\n",
        "device = torch.device('cuda:0' if torch.cuda.is_available() else 'cpu')\n",
        "\n",
        "def train_model(model, criterion, optimizer, num_epochs=10):\n",
        "    liveloss = PlotLosses()\n",
        "    model = model.to(device)\n",
        "    phase = \"train\"\n",
        "    \n",
        "    for epoch in range(num_epochs):\n",
        "        logs = {}\n",
        "        model.train()\n",
        "        running_loss = 0.0\n",
        "        running_corrects = 0\n",
        "\n",
        "        for inputs, labels in dataloaders[phase]:\n",
        "            inputs = inputs.to(device)\n",
        "            labels = labels.to(device)\n",
        "\n",
        "            outputs = model(inputs)\n",
        "            loss = criterion(outputs, labels)\n",
        "\n",
        "            if phase == 'train':\n",
        "                optimizer.zero_grad()\n",
        "                loss.backward()\n",
        "                optimizer.step()\n",
        "\n",
        "            _, preds = torch.max(outputs, 1)\n",
        "            running_loss += loss.detach() * inputs.size(0)\n",
        "            running_corrects += torch.sum(preds == labels.data)\n",
        "\n",
        "        epoch_loss = running_loss / len(dataloaders[phase].dataset)\n",
        "        epoch_acc = running_corrects.float() / len(dataloaders[phase].dataset)\n",
        "        \n",
        "        logs['log loss'] = epoch_loss.item()\n",
        "        logs['accuracy'] = epoch_acc.item()\n",
        "        \n",
        "        liveloss.update(logs)\n",
        "        liveloss.send()"
      ],
      "execution_count": 39,
      "outputs": []
    },
    {
      "cell_type": "code",
      "metadata": {
        "pycharm": {
          "is_executing": false
        },
        "id": "Re7yytZYBa25"
      },
      "source": [
        "model = Recurrent(8)\n",
        "criterion = nn.CrossEntropyLoss()\n",
        "optimizer = optim.Adam(model.parameters(), lr=0.003)"
      ],
      "execution_count": 40,
      "outputs": []
    },
    {
      "cell_type": "code",
      "metadata": {
        "pycharm": {
          "is_executing": false,
          "name": "#%%\n"
        },
        "id": "BnqnWIuTBa28",
        "outputId": "fc566f11-fec9-46c8-e36f-c63357ced714",
        "colab": {
          "base_uri": "https://localhost:8080/",
          "height": 653
        }
      },
      "source": [
        "train_model(model, criterion, optimizer, num_epochs=20)"
      ],
      "execution_count": 41,
      "outputs": [
        {
          "output_type": "display_data",
          "data": {
            "image/png": "[encoded data removed]",
            "text/plain": [
              "<Figure size 864x576 with 2 Axes>"
            ]
          },
          "metadata": {
            "needs_background": "light"
          }
        },
        {
          "output_type": "stream",
          "text": [
            "accuracy\n",
            "\taccuracy         \t (min:    0.633, max:    1.000, cur:    0.999)\n",
            "log loss\n",
            "\tlog loss         \t (min:    0.020, max:    0.657, cur:    0.020)\n"
          ],
          "name": "stdout"
        }
      ]
    },
    {
      "cell_type": "code",
      "metadata": {
        "id": "ZalyXvtXR2AY"
      },
      "source": [
        ""
      ],
      "execution_count": null,
      "outputs": []
    }
  ]
}