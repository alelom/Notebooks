{
  "nbformat": 4,
  "nbformat_minor": 0,
  "metadata": {
    "colab": {
      "name": "Tensorboard_for_PyTorch.ipynb",
      "provenance": [],
      "collapsed_sections": []
    },
    "kernelspec": {
      "name": "python3",
      "display_name": "Python 3"
    }
  },
  "cells": [
    {
      "cell_type": "markdown",
      "metadata": {
        "id": "Ipdyvsyb67ej"
      },
      "source": [
        "Visualizating learning is a great way to gain better understaning of your machine learning model's inputs, outputs and/or the model parameters. In this article we discuss \n",
        "- how to use TensorboardX, a wrapper around [Tensorboard](https://www.tensorflow.org/guide/summaries_and_tensorboard), to visualize training of your existing [PyTorch](https://pytorch.org/) models. \n",
        "- how to use a conda environment to install tensorboard in case of installation clashes. \n",
        "- how to remotely access the web interfcae for tensorboard. \n",
        "\n",
        "Tensorboard is a tool that comes with the automatic differentiation library [Tensorflow](https://www.tensorflow.org/). To use it with PyTorch codes, you will first have to install an extension of tensorboard for PyTorch called [tensorboardX](https://github.com/lanpa/tensorboardX). \n",
        "Note: All the commands listed here, for installation and otherwise, were tried on Debian GNU/Linux 9.6 (stretch). "
      ]
    },
    {
      "cell_type": "markdown",
      "metadata": {
        "id": "9xgamJ_B_ygB"
      },
      "source": [
        "## Installation\n",
        "Open a linux terminal. To install tensorboardX run:"
      ]
    },
    {
      "cell_type": "code",
      "metadata": {
        "id": "OX8eg446_3Ju"
      },
      "source": [
        "pip install tensorboardX"
      ],
      "execution_count": null,
      "outputs": []
    },
    {
      "cell_type": "markdown",
      "metadata": {
        "id": "hyHXfw-vAQXT"
      },
      "source": [
        "To use the lastest version, you might have to build from the source or run:"
      ]
    },
    {
      "cell_type": "code",
      "metadata": {
        "id": "Bm9xBnI3AeQk"
      },
      "source": [
        "pip install tensorboardX --no-cache-dir"
      ],
      "execution_count": null,
      "outputs": []
    },
    {
      "cell_type": "markdown",
      "metadata": {
        "id": "C2vMxN9VAkL2"
      },
      "source": [
        "To access tensorboard's web interface you will have to install Tensorflow. "
      ]
    },
    {
      "cell_type": "markdown",
      "metadata": {
        "id": "krclYWjpCAZN"
      },
      "source": [
        "To install tensorboard run:"
      ]
    },
    {
      "cell_type": "code",
      "metadata": {
        "id": "RCLaw-1-D7Q5"
      },
      "source": [
        "pip install tensorboard "
      ],
      "execution_count": null,
      "outputs": []
    },
    {
      "cell_type": "markdown",
      "metadata": {
        "id": "BnUIvbe3Efe7"
      },
      "source": [
        "In case the command above does not work becuse of python version mismatch, you can create a conda environment to install the latest Tensorflow. Tensorboard is then accessed through Tensorflow. Run the following command to create a conda environment named 'Tensorflow' with Python version 3.6:"
      ]
    },
    {
      "cell_type": "code",
      "metadata": {
        "id": "R5b-oMskFWaE"
      },
      "source": [
        "conda create -n Tensorflow anaconda python=3.6 "
      ],
      "execution_count": null,
      "outputs": []
    },
    {
      "cell_type": "markdown",
      "metadata": {
        "id": "dQenk-z9FdU5"
      },
      "source": [
        "To activate or de-activate the environment, the following commands can be used:\n"
      ]
    },
    {
      "cell_type": "code",
      "metadata": {
        "id": "TaKnKvvUFlld"
      },
      "source": [
        "conda activate Tensorflow\n",
        "conda deactivate Tensorflow "
      ],
      "execution_count": null,
      "outputs": []
    },
    {
      "cell_type": "markdown",
      "metadata": {
        "id": "7xobWCZcFt4N"
      },
      "source": [
        "Tensorflow can then be installed in the conda environment using the following command:"
      ]
    },
    {
      "cell_type": "code",
      "metadata": {
        "id": "WSbJS8VJF-2K"
      },
      "source": [
        "conda install -c conda-forge tensorflow "
      ],
      "execution_count": null,
      "outputs": []
    },
    {
      "cell_type": "markdown",
      "metadata": {
        "id": "OSARX4_oF_7h"
      },
      "source": [
        "## Creating and writing summaries \n",
        "Tensorboard summary writers can be used to summarize various types of data types: scalar, histogram, image, graph, etc. I am including examples of scalar and histogram variables here. The reader can refer to [this](https://tensorboard-pytorch.readthedocs.io/en/latest/tutorial.html) document for logging the other data types. \n",
        "\n",
        "First, you need to import tensorboardX's summary writer in your code. The import command is:"
      ]
    },
    {
      "cell_type": "code",
      "metadata": {
        "id": "5FKHkqgeIUpz"
      },
      "source": [
        "from tensorboardX import SummaryWriter "
      ],
      "execution_count": null,
      "outputs": []
    },
    {
      "cell_type": "markdown",
      "metadata": {
        "id": "vX20sxPdIky9"
      },
      "source": [
        "Now create a writer variable where the data summaries would be saved using:"
      ]
    },
    {
      "cell_type": "code",
      "metadata": {
        "id": "rOfFe-6pIvuT"
      },
      "source": [
        "writer = SummaryWriter() # Saves the summaries to default directory names 'runs' in the current parent directory \n",
        "writer1 = SummaryWriter('runs/exp-1') # Saves the summaries to the directory 'runs/exp-1' in the current parent directory \n",
        "writer2 = SummaryWriter(comment='I hope the model works this time around') # Saves the summaries to folder named 'runs/Jan07-18-13-40-I hope the model works this time around'\n"
      ],
      "execution_count": null,
      "outputs": []
    },
    {
      "cell_type": "markdown",
      "metadata": {
        "id": "YuATDImQKEpx"
      },
      "source": [
        "The general format to save any type of data is: "
      ]
    },
    {
      "cell_type": "code",
      "metadata": {
        "id": "HIN24VHaKLdR"
      },
      "source": [
        "add_something(name, object, iteration number) # something = scalar, histogram, image, etc"
      ],
      "execution_count": null,
      "outputs": []
    },
    {
      "cell_type": "markdown",
      "metadata": {
        "id": "5vGGBpaVKeRC"
      },
      "source": [
        "To write scalar variable 'good_god' to the summary named 'writer' at epoch number 'e', run:"
      ]
    },
    {
      "cell_type": "code",
      "metadata": {
        "id": "txKY1WAdKlPP"
      },
      "source": [
        "writer.add_scalar('Good_God', good_god, e)"
      ],
      "execution_count": null,
      "outputs": []
    },
    {
      "cell_type": "markdown",
      "metadata": {
        "id": "wzbhyRo3LCBy"
      },
      "source": [
        "Remember to extract data from a PyTorch tensor using .item() before passing it to the writer. \n",
        "To save histogram summaries, use:"
      ]
    },
    {
      "cell_type": "code",
      "metadata": {
        "id": "aWV1w1AvLfiN"
      },
      "source": [
        "writer.add_histogram(hist_name, f, e) "
      ],
      "execution_count": null,
      "outputs": []
    },
    {
      "cell_type": "markdown",
      "metadata": {
        "id": "5VDU0o-ZL7MB"
      },
      "source": [
        "If you are aiming to save a neural network (NN) weights, biases or gradients, you can use a code similar to the following:"
      ]
    },
    {
      "cell_type": "code",
      "metadata": {
        "id": "C1zFRnmiMKjy"
      },
      "source": [
        "for f in model.parameters(): # model is the NN model, f is one set of parameters of the model\n",
        "  # Create a dynamic name for the histogram summary \n",
        "  # Use current parameter shape to identify the variale  \n",
        "  hist_name = 'hist' + str(list(f.grad.data.size()))\n",
        "  \n",
        "  # Save the entire list of gradients of parameters f \n",
        "  writer.add_histogram(hist_name, f, e)\n",
        "            \n",
        "  # Save the norm of list of gradients of parameters f \n",
        "  scalar_name = 'scalar' + str(list(f.grad.data.size()))\n",
        "  writer.add_scalar(scalar_name, torch.norm(f.grad.data).item(), e)\n",
        "  \n",
        "  # parameter update step\n",
        "  f.data.sub_(f.grad.data * LR)"
      ],
      "execution_count": null,
      "outputs": []
    },
    {
      "cell_type": "markdown",
      "metadata": {
        "id": "3qEXEXmCNJQ5"
      },
      "source": [
        "## Running tensorboard web interface \n",
        "To run the tensorboard web interface, from the correct directory, simple run:"
      ]
    },
    {
      "cell_type": "code",
      "metadata": {
        "id": "JcE1PliHNWNp"
      },
      "source": [
        "tensorboard --logdir runs # runs is the name of the folder that has summaries saved \n",
        "# -> TensorBoard 1.10.0 at http://wks-40-817:6006 (Press CTRL+C to quit)"
      ],
      "execution_count": null,
      "outputs": []
    },
    {
      "cell_type": "markdown",
      "metadata": {
        "id": "VdMnigx1N1xN"
      },
      "source": [
        "Tensorboard can be accessed from your web browser at the link mentioned above, where 6006 is the default port used for running the web interface. In case you need to explicitly specify a port or need to run web interface with different folders, you can specify a different port using the following command:"
      ]
    },
    {
      "cell_type": "code",
      "metadata": {
        "id": "1DBABJq_NwS5"
      },
      "source": [
        "tensorboard --logdir runs --port 6007"
      ],
      "execution_count": null,
      "outputs": []
    },
    {
      "cell_type": "markdown",
      "metadata": {
        "id": "eLjoKXYSOeXx"
      },
      "source": [
        "In case you need to access the web interface when you are working remotely, you can ssh into the server using: "
      ]
    },
    {
      "cell_type": "code",
      "metadata": {
        "id": "HNLEw0UaOtAF"
      },
      "source": [
        "ssh -X -L 16006:127.0.0.1:6007 cosmos@my_server_ip"
      ],
      "execution_count": null,
      "outputs": []
    },
    {
      "cell_type": "markdown",
      "metadata": {
        "id": "fHoUHa7IO3Ho"
      },
      "source": [
        "Tensorboard can now be successfully web accessed using http://127.0.0.1:16007 on your local system. "
      ]
    }
  ]
}