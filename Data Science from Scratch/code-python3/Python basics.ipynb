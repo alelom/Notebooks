{
 "cells": [
  {
   "cell_type": "code",
   "execution_count": 1,
   "metadata": {
    "collapsed": true
   },
   "outputs": [],
   "source": [
    "import matplotlib.pyplot as plt\n",
    "from collections import defaultdict, Counter\n",
    "import re as regex\n",
    "\n",
    "from linear_algebra import *\n",
    "from statistics import *"
   ]
  },
  {
   "cell_type": "markdown",
   "metadata": {},
   "source": [
    "# Data containers in Python"
   ]
  },
  {
   "cell_type": "markdown",
   "metadata": {},
   "source": [
    "## Lists"
   ]
  },
  {
   "cell_type": "code",
   "execution_count": 4,
   "metadata": {
    "collapsed": true
   },
   "outputs": [],
   "source": [
    "integer_list = [1, 2, 3]\n",
    "heterogeneous_list = [\"string\", 0.1, True]\n",
    "list_of_lists = [ integer_list, heterogeneous_list, [] ]\n",
    "list_length = len(integer_list) # equals 3\n",
    "list_sum = sum(integer_list) # equals 6"
   ]
  },
  {
   "cell_type": "markdown",
   "metadata": {},
   "source": [
    "In Python 3, `range` is a \"generator object\", and does not return a List anymore (as in Python 2).\n",
    "\n",
    "You need to convert it in a list:"
   ]
  },
  {
   "cell_type": "code",
   "execution_count": 140,
   "metadata": {
    "collapsed": true
   },
   "outputs": [],
   "source": [
    "x = range(10) # is a generator object [0, 1, ..., 9]. MUST BE CONVERTED IN LIST IN PYTHON 3\n",
    "\n",
    "x = list(x) # is the list [0, 1, ..., 9]\n",
    "\n",
    "zero = x[0] # equals 0, lists are 0-indexed\n",
    "one = x[1] # equals 1\n",
    "nine = x[-1] # equals 9, 'Pythonic' for last element\n",
    "eight = x[-2] # equals 8, 'Pythonic' for next-to-last element\n",
    "x[0] = -1 # now x is [-1, 1, 2, 3, ..., 9]"
   ]
  },
  {
   "cell_type": "markdown",
   "metadata": {},
   "source": [
    "Slicing:"
   ]
  },
  {
   "cell_type": "code",
   "execution_count": 14,
   "metadata": {
    "collapsed": true
   },
   "outputs": [],
   "source": [
    "first_three = x[:3] # [-1, 1, 2]\n",
    "three_to_end = x[3:] # [3, 4, ..., 9]\n",
    "one_to_four = x[1:5] # [1, 2, 3, 4]\n",
    "last_three = x[-3:] # [7, 8, 9]\n",
    "without_first_and_last = x[1:-1] # [1, 2, ..., 8]\n",
    "copy_of_x = x[:] # [-1, 1, 2, ..., 9]"
   ]
  },
  {
   "cell_type": "markdown",
   "metadata": {},
   "source": [
    "List membership:"
   ]
  },
  {
   "cell_type": "code",
   "execution_count": 16,
   "metadata": {},
   "outputs": [
    {
     "data": {
      "text/plain": [
       "True"
      ]
     },
     "execution_count": 16,
     "metadata": {},
     "output_type": "execute_result"
    }
   ],
   "source": [
    "1 in [1, 2, 3] # True"
   ]
  },
  {
   "cell_type": "markdown",
   "metadata": {},
   "source": [
    "Concatenate list:"
   ]
  },
  {
   "cell_type": "code",
   "execution_count": 17,
   "metadata": {},
   "outputs": [
    {
     "name": "stdout",
     "output_type": "stream",
     "text": [
      "[1, 2, 3, 4, 5, 6]\n",
      "[1, 2, 3, 0]\n"
     ]
    }
   ],
   "source": [
    "x = [1, 2, 3]\n",
    "x.extend([4, 5, 6]) # x is now [1,2,3,4,5,6]\n",
    "print (x)\n",
    "\n",
    "y = [1, 2, 3]\n",
    "y.append(0) # x is now [1, 2, 3, 0]\n",
    "print (y)"
   ]
  },
  {
   "cell_type": "markdown",
   "metadata": {},
   "source": [
    "## Tuples"
   ]
  },
  {
   "cell_type": "markdown",
   "metadata": {},
   "source": [
    "Same as lists, but immutable. Tuples are a convenient way to return multiple values from functions. "
   ]
  },
  {
   "cell_type": "code",
   "execution_count": 4,
   "metadata": {},
   "outputs": [
    {
     "name": "stdout",
     "output_type": "stream",
     "text": [
      "1\n",
      "3\n"
     ]
    }
   ],
   "source": [
    "my_list = [1, 2]\n",
    "my_tuple = (3, 4)\n",
    "other_tuple = 3, 4\n",
    "print (my_list[0])\n",
    "print (my_tuple[0])"
   ]
  },
  {
   "cell_type": "code",
   "execution_count": 7,
   "metadata": {},
   "outputs": [
    {
     "ename": "TypeError",
     "evalue": "'tuple' object does not support item assignment",
     "output_type": "error",
     "traceback": [
      "\u001b[1;31m---------------------------------------------------------------------------\u001b[0m",
      "\u001b[1;31mTypeError\u001b[0m                                 Traceback (most recent call last)",
      "\u001b[1;32m<ipython-input-7-d448a1bb775d>\u001b[0m in \u001b[0;36m<module>\u001b[1;34m()\u001b[0m\n\u001b[1;32m----> 1\u001b[1;33m \u001b[0mmy_tuple\u001b[0m\u001b[1;33m[\u001b[0m\u001b[1;36m0\u001b[0m\u001b[1;33m]\u001b[0m \u001b[1;33m=\u001b[0m \u001b[1;36m5\u001b[0m \u001b[1;31m#Tuples are immutable. Cannot assign\u001b[0m\u001b[1;33m\u001b[0m\u001b[0m\n\u001b[0m",
      "\u001b[1;31mTypeError\u001b[0m: 'tuple' object does not support item assignment"
     ]
    }
   ],
   "source": [
    "my_tuple[0] = 5 #Tuples are immutable. Cannot assign"
   ]
  },
  {
   "cell_type": "code",
   "execution_count": 35,
   "metadata": {},
   "outputs": [
    {
     "name": "stdout",
     "output_type": "stream",
     "text": [
      "(6, 9)\n"
     ]
    }
   ],
   "source": [
    "def sum_and_product(x, y):\n",
    "    return (x + y),(x * y)\n",
    "\n",
    "print (sum_and_product(3, 3))"
   ]
  },
  {
   "cell_type": "markdown",
   "metadata": {},
   "source": [
    "### Enumerate"
   ]
  },
  {
   "cell_type": "markdown",
   "metadata": {},
   "source": [
    "`Enumerate()` is used to iterate enumerables, making use of both the iterated element and its index. "
   ]
  },
  {
   "cell_type": "code",
   "execution_count": 86,
   "metadata": {},
   "outputs": [
    {
     "name": "stdout",
     "output_type": "stream",
     "text": [
      "<enumerate object at 0x000001FFF8C025A0>\n",
      "0\n",
      "L\n",
      "1\n",
      "o\n",
      "2\n",
      "r\n",
      "3\n",
      "e\n",
      "4\n",
      "m\n",
      "5\n",
      " \n",
      "6\n",
      "i\n",
      "7\n",
      "p\n",
      "8\n",
      "s\n"
     ]
    }
   ],
   "source": [
    "text = \"Lorem ips\"\n",
    "\n",
    "print (enumerate(text))\n",
    "\n",
    "for char, index in enumerate(text):\n",
    "    print (char)\n",
    "    print (index)"
   ]
  },
  {
   "cell_type": "markdown",
   "metadata": {},
   "source": [
    "## Dictionaries"
   ]
  },
  {
   "cell_type": "markdown",
   "metadata": {},
   "source": [
    "Dictionary keys must be immutable; in particular, you cannot use lists as keys. If\n",
    "you need a multipart key, you should use a tuple or figure out a way to turn the key\n",
    "into a string."
   ]
  },
  {
   "cell_type": "code",
   "execution_count": 46,
   "metadata": {},
   "outputs": [
    {
     "name": "stdout",
     "output_type": "stream",
     "text": [
      "80\n",
      "5\n"
     ]
    }
   ],
   "source": [
    "empty_dict = {} # Pythonic\n",
    "#empty_dict2 = dict() # less Pythonic. WORKS ONLY IN PYTHON 2\n",
    "\n",
    "grades = { \"Joel\" : 80, \"Tim\" : 95 } # dictionary literal\n",
    "print (grades[\"Joel\"])\n",
    "\n",
    "dictionary = {1: 5, 2: 6}\n",
    "print (dictionary[1])"
   ]
  },
  {
   "cell_type": "markdown",
   "metadata": {},
   "source": [
    "** Dictionary data retrieval**"
   ]
  },
  {
   "cell_type": "markdown",
   "metadata": {},
   "source": [
    "Dictionary membership using `in`.\n",
    "\n",
    "Dictionaries have a `get` method that returns a default value (instead of raising an\n",
    "exception) when you look up a key that’s not in the dictionary"
   ]
  },
  {
   "cell_type": "code",
   "execution_count": 52,
   "metadata": {},
   "outputs": [
    {
     "name": "stdout",
     "output_type": "stream",
     "text": [
      "True\n",
      "False\n",
      "80\n",
      "0\n",
      "None\n"
     ]
    }
   ],
   "source": [
    "print(\"Joel\" in grades) # True\n",
    "print(\"Kate\" in grades) # False\n",
    "\n",
    "print(grades.get(\"Joel\", 0)) # equals 80\n",
    "print(grades.get(\"Kate\", 0)) # equals 0\n",
    "print(grades.get(\"No One\")) # default default is None"
   ]
  },
  {
   "cell_type": "markdown",
   "metadata": {},
   "source": [
    "**Get all data in dictionary**"
   ]
  },
  {
   "cell_type": "markdown",
   "metadata": {},
   "source": [
    "You can check for the existence of a key using `in`:"
   ]
  },
  {
   "cell_type": "code",
   "execution_count": 55,
   "metadata": {},
   "outputs": [
    {
     "data": {
      "text/plain": [
       "True"
      ]
     },
     "execution_count": 55,
     "metadata": {},
     "output_type": "execute_result"
    }
   ],
   "source": [
    "tweet = {\n",
    "\"user\" : \"joelgrus\",\n",
    "\"text\" : \"Data Science is Awesome\",\n",
    "\"retweet_count\" : 100,\n",
    "\"hashtags\" : [\"#data\", \"#science\", \"#datascience\", \"#awesome\", \"#yolo\"]\n",
    "}\n",
    "\n",
    "tweet_keys = tweet.keys() # list of keys\n",
    "tweet_values = tweet.values() # list of values\n",
    "tweet_items = tweet.items() # list of (key, value) tuples\n",
    "\"user\" in tweet_keys # True, but uses a slow list in\n",
    "\"user\" in tweet # more Pythonic, uses faster dict in\n",
    "\"joelgrus\" in tweet_values # True"
   ]
  },
  {
   "cell_type": "markdown",
   "metadata": {},
   "source": [
    "**Dictionary assigment:**"
   ]
  },
  {
   "cell_type": "code",
   "execution_count": 53,
   "metadata": {
    "collapsed": true
   },
   "outputs": [],
   "source": [
    "grades[\"Tim\"] = 99 # replaces the old value\n",
    "grades[\"Kate\"] = 100 # adds a third entry\n",
    "num_students = len(grades) # equals 3"
   ]
  },
  {
   "cell_type": "markdown",
   "metadata": {},
   "source": [
    "### Default dictionary"
   ]
  },
  {
   "cell_type": "markdown",
   "metadata": {},
   "source": [
    "A\n",
    "defaultdict is like a regular dictionary, except that when you try to look up a key it\n",
    "doesn’t contain, it first adds a value for it using a zero-argument function you provided\n",
    "when you created it. In order to use defaultdicts, you have to import them\n",
    "from collections"
   ]
  },
  {
   "cell_type": "code",
   "execution_count": 76,
   "metadata": {},
   "outputs": [
    {
     "name": "stdout",
     "output_type": "stream",
     "text": [
      "defaultdict(<class 'int'>, {'Lorem': 2, 'Ipsum': 2, 'is': 1, 'simply': 1, 'dummy': 2, 'text': 2, 'of': 2, 'the': 3, 'printing': 1, 'and': 2, 'typesetting': 1, 'industry.': 1, 'has': 1, 'been': 1, \"industry's\": 1, 'standard': 1, 'ever': 1, 'since': 1, '1500s,': 1, 'when': 1, 'an': 1, 'unknown': 1, 'printer': 1, 'took': 1, 'a': 2, 'galley': 1, 'type': 2, 'scrambled': 1, 'it': 1, 'to': 1, 'make': 1, 'specimen': 1, 'book.': 1})\n"
     ]
    }
   ],
   "source": [
    "from collections import defaultdict\n",
    "word_counts = defaultdict(int) # int() produces 0\n",
    "\n",
    "document = \"Lorem Ipsum is simply dummy text of the printing and typesetting industry. Lorem Ipsum has been the industry's standard dummy text ever since the 1500s, when an unknown printer took a galley of type and scrambled it to make a type specimen book.\"\n",
    "document = document.split() #document is a list now\n",
    "\n",
    "for word in document:\n",
    "    word_counts[word] += 1\n",
    "    \n",
    "print (word_counts)"
   ]
  },
  {
   "cell_type": "markdown",
   "metadata": {},
   "source": [
    "### Counter"
   ]
  },
  {
   "cell_type": "markdown",
   "metadata": {},
   "source": [
    "A Counter turns a sequence of values into a defaultdict(int)-like object mapping\n",
    "keys to counts. Useful to create **histograms**.\n",
    "\n",
    "The returned defaultdict is already ordered from highest to lowest value.\n",
    "\n",
    "A Counter instance has a `most_common(int)` method, useful to get a limited view of most frequent occurrencies."
   ]
  },
  {
   "cell_type": "code",
   "execution_count": 116,
   "metadata": {
    "collapsed": true
   },
   "outputs": [],
   "source": [
    "from collections import Counter\n",
    "c = Counter([0, 1, 2, 0]) # c is (basically) { 0 : 2, 1 : 1, 2 : 1 }"
   ]
  },
  {
   "cell_type": "code",
   "execution_count": 117,
   "metadata": {},
   "outputs": [
    {
     "name": "stdout",
     "output_type": "stream",
     "text": [
      "Counter({'the': 3, 'Lorem': 2, 'Ipsum': 2, 'dummy': 2, 'text': 2, 'of': 2, 'and': 2, 'a': 2, 'type': 2, 'is': 1, 'simply': 1, 'printing': 1, 'typesetting': 1, 'industry.': 1, 'has': 1, 'been': 1, \"industry's\": 1, 'standard': 1, 'ever': 1, 'since': 1, '1500s,': 1, 'when': 1, 'an': 1, 'unknown': 1, 'printer': 1, 'took': 1, 'galley': 1, 'scrambled': 1, 'it': 1, 'to': 1, 'make': 1, 'specimen': 1, 'book.': 1})\n"
     ]
    }
   ],
   "source": [
    "word_counts = Counter(document)\n",
    "print (word_counts)"
   ]
  },
  {
   "cell_type": "code",
   "execution_count": 118,
   "metadata": {},
   "outputs": [
    {
     "name": "stdout",
     "output_type": "stream",
     "text": [
      "the 3\n",
      "Lorem 2\n",
      "Ipsum 2\n",
      "dummy 2\n",
      "text 2\n"
     ]
    }
   ],
   "source": [
    "# print the 5 most common words and their counts\n",
    "for word, count in word_counts.most_common(5):\n",
    "    print (word, count)"
   ]
  },
  {
   "cell_type": "markdown",
   "metadata": {},
   "source": [
    "## Sets"
   ]
  },
  {
   "cell_type": "markdown",
   "metadata": {},
   "source": [
    "Represents a collection of distinct elements. \n",
    "\n",
    "`in` is a very fast operation on sets.\n",
    "If we have a large collection of items that we want to use for a membership test, a set\n",
    "is more appropriate than a list."
   ]
  },
  {
   "cell_type": "code",
   "execution_count": 119,
   "metadata": {},
   "outputs": [
    {
     "name": "stdout",
     "output_type": "stream",
     "text": [
      "True\n",
      "False\n"
     ]
    }
   ],
   "source": [
    "s = set()\n",
    "s.add(1) # s is now { 1 }\n",
    "s.add(2) # s is now { 1, 2 }\n",
    "s.add(2) # s is still { 1, 2 }\n",
    "\n",
    "x = len(s) # equals 2\n",
    "\n",
    "print( 2 in s )# equals True\n",
    "print(3 in s) # equals False"
   ]
  },
  {
   "cell_type": "markdown",
   "metadata": {},
   "source": [
    "Convert List in Set:"
   ]
  },
  {
   "cell_type": "code",
   "execution_count": 120,
   "metadata": {},
   "outputs": [
    {
     "name": "stdout",
     "output_type": "stream",
     "text": [
      "43\n",
      "33\n"
     ]
    }
   ],
   "source": [
    "document = \"Lorem Ipsum is simply dummy text of the printing and typesetting industry. Lorem Ipsum has been the industry's standard dummy text ever since the 1500s, when an unknown printer took a galley of type and scrambled it to make a type specimen book.\"\n",
    "document = document.split() #document is a list now\n",
    "\n",
    "words_set = set(document)\n",
    "\n",
    "print (len(document)) #all the words\n",
    "print (len(words_set)) #all unique words"
   ]
  },
  {
   "cell_type": "code",
   "execution_count": 121,
   "metadata": {},
   "outputs": [
    {
     "name": "stdout",
     "output_type": "stream",
     "text": [
      "True\n"
     ]
    }
   ],
   "source": [
    "print (\"Lorem\" in words_set) #very fast check"
   ]
  },
  {
   "cell_type": "code",
   "execution_count": 122,
   "metadata": {},
   "outputs": [
    {
     "name": "stdout",
     "output_type": "stream",
     "text": [
      "Counter({'and': 1, 'industry.': 1, '1500s,': 1, 'the': 1, 'since': 1, 'type': 1, 'to': 1, 'Ipsum': 1, 'printer': 1, 'dummy': 1, 'make': 1, 'has': 1, 'of': 1, 'when': 1, 'an': 1, 'specimen': 1, 'simply': 1, 'typesetting': 1, 'scrambled': 1, 'text': 1, 'galley': 1, 'printing': 1, 'unknown': 1, 'is': 1, 'been': 1, 'ever': 1, 'took': 1, 'a': 1, 'Lorem': 1, 'standard': 1, 'it': 1, \"industry's\": 1, 'book.': 1})\n"
     ]
    }
   ],
   "source": [
    "from collections import Counter\n",
    "\n",
    "print(Counter(words_set))"
   ]
  },
  {
   "cell_type": "markdown",
   "metadata": {},
   "source": [
    "# Data management"
   ]
  },
  {
   "cell_type": "markdown",
   "metadata": {},
   "source": [
    "## List sorting"
   ]
  },
  {
   "cell_type": "markdown",
   "metadata": {},
   "source": [
    "Careful for differences btw `List.Sort()` (change in place, returns `None`) and `Sorted(List)` (returns a List).\n",
    "\n",
    "The `list.sort()` method is only defined for lists. \n",
    "\n",
    "In contrast, the `sorted()` function accepts any iterable."
   ]
  },
  {
   "cell_type": "code",
   "execution_count": 123,
   "metadata": {},
   "outputs": [
    {
     "name": "stdout",
     "output_type": "stream",
     "text": [
      "None\n",
      "[1, 2, 3, 4]\n",
      "[4, 3, 2, 1]\n"
     ]
    }
   ],
   "source": [
    "numList = [4,2,1,3]\n",
    "print (numList.sort()) #returns None\n",
    "print (numList) #numList has been sorted\n",
    "\n",
    "numList_reverse = sorted(numList,reverse=True) #returns sorted List\n",
    "print (numList_reverse)"
   ]
  },
  {
   "cell_type": "markdown",
   "metadata": {},
   "source": [
    "Instead of comparing the elements themselves, you can compare the\n",
    "results of a **function** that you specify with `key`"
   ]
  },
  {
   "cell_type": "code",
   "execution_count": 135,
   "metadata": {},
   "outputs": [
    {
     "name": "stdout",
     "output_type": "stream",
     "text": [
      "[-4, 3, -2, 1]\n"
     ]
    }
   ],
   "source": [
    "# sort the list by absolute value from largest to smallest\n",
    "x = sorted([-4,1,-2,3], key=abs, reverse=True) # is [-4,3,-2,1]\n",
    "print (x)"
   ]
  },
  {
   "cell_type": "code",
   "execution_count": 50,
   "metadata": {
    "collapsed": true
   },
   "outputs": [
    {
     "ename": "SyntaxError",
     "evalue": "invalid syntax (<ipython-input-50-a0368f8b8f45>, line 4)",
     "output_type": "error",
     "traceback": [
      "\u001b[1;36m  File \u001b[1;32m\"<ipython-input-50-a0368f8b8f45>\"\u001b[1;36m, line \u001b[1;32m4\u001b[0m\n\u001b[1;33m    key=lambda (word, count): count,\u001b[0m\n\u001b[1;37m               ^\u001b[0m\n\u001b[1;31mSyntaxError\u001b[0m\u001b[1;31m:\u001b[0m invalid syntax\n"
     ]
    }
   ],
   "source": [
    "# ONLY WORKS IN PYTHON 2    \n",
    "# sort the words and counts from highest count to lowest\n",
    "wc = sorted(word_counts.items(), \n",
    "            key=lambda (word, count): count, \n",
    "            reverse=True)\n"
   ]
  },
  {
   "cell_type": "markdown",
   "metadata": {},
   "source": [
    "## Dictionary sorting"
   ]
  },
  {
   "cell_type": "markdown",
   "metadata": {},
   "source": [
    "Standard Dictionary objects are not sorted and so do not guarantee or preserve any ordering.\n",
    "\n",
    "`sorted()` can be used on them to obtain a **list** of the _ordered keys_ or of the _ordered values_.\n",
    "\n",
    "**Pretty useless. Use ordered dictionary instead.**"
   ]
  },
  {
   "cell_type": "code",
   "execution_count": 131,
   "metadata": {},
   "outputs": [
    {
     "name": "stdout",
     "output_type": "stream",
     "text": [
      "['a', 'b', 'c', 'd']\n",
      "[1, 2, 3, 4]\n"
     ]
    }
   ],
   "source": [
    "d = {'b': 2, 'a': 3, 'c': 1, 'd': 4}\n",
    "\n",
    "listOfOrderedKeys = sorted(d)\n",
    "print(listOfOrderedKeys)\n",
    "\n",
    "listOfOrderedValues = sorted(d.values())\n",
    "print(listOfOrderedValues)"
   ]
  },
  {
   "cell_type": "markdown",
   "metadata": {},
   "source": [
    "### Ordered dictionary"
   ]
  },
  {
   "cell_type": "markdown",
   "metadata": {},
   "source": [
    "Ordered dictionaries are just like regular dictionaries but they remember the order that items were inserted. When iterating over an ordered dictionary, the items are returned in the order their keys were first added.\n",
    "\n",
    "Since an ordered dictionary remembers its insertion order, it can be used in conjunction with sorting to make a sorted dictionary."
   ]
  },
  {
   "cell_type": "code",
   "execution_count": 132,
   "metadata": {},
   "outputs": [
    {
     "name": "stdout",
     "output_type": "stream",
     "text": [
      "OrderedDict([('a', 4), ('b', 12), ('c', 2)])\n",
      "OrderedDict([('c', 2), ('a', 4), ('b', 12)])\n"
     ]
    }
   ],
   "source": [
    "d = {\"b\":12, \"a\": 4, \"c\":2}\n",
    "\n",
    "from collections import OrderedDict\n",
    "\n",
    "# dictionary sorted by key\n",
    "od_byKey = OrderedDict(sorted(d.items(), key=lambda t: t[0]))\n",
    "print (od_byKey)\n",
    "\n",
    "# dictionary sorted by value\n",
    "od_byValue = OrderedDict(sorted(d.items(), key=lambda t: t[1]))\n",
    "print(od_byValue)"
   ]
  },
  {
   "cell_type": "markdown",
   "metadata": {},
   "source": [
    "## List comprehensions"
   ]
  },
  {
   "cell_type": "markdown",
   "metadata": {},
   "source": [
    "Generate lists, or transform a list into another list, by choosing only certain\n",
    "elements, or by transforming elements, or both"
   ]
  },
  {
   "cell_type": "code",
   "execution_count": 142,
   "metadata": {},
   "outputs": [
    {
     "name": "stdout",
     "output_type": "stream",
     "text": [
      "[0, 2, 4]\n",
      "[0, 4, 16]\n"
     ]
    }
   ],
   "source": [
    "even_numbers = [x for x in range(5) if x % 2 == 0] # [0, 2, 4]\n",
    "squares = [x * x for x in range(5)] # [0, 1, 4, 9, 16]\n",
    "even_squares = [x * x for x in even_numbers] # [0, 4, 16]\n",
    "\n",
    "print (even_numbers)\n",
    "print(even_squares)"
   ]
  },
  {
   "cell_type": "markdown",
   "metadata": {},
   "source": [
    "If you don’t need the value from the list, it’s **conventional** to use an **underscore** as the\n",
    "variable:"
   ]
  },
  {
   "cell_type": "code",
   "execution_count": 146,
   "metadata": {},
   "outputs": [
    {
     "name": "stdout",
     "output_type": "stream",
     "text": [
      "[0, 0, 0]\n"
     ]
    }
   ],
   "source": [
    "zeroes = [0 for _ in even_numbers] # has the same length as even_numbers\n",
    "\n",
    "print (zeroes)"
   ]
  },
  {
   "cell_type": "markdown",
   "metadata": {},
   "source": [
    "### Generate combinations"
   ]
  },
  {
   "cell_type": "code",
   "execution_count": 8,
   "metadata": {},
   "outputs": [
    {
     "name": "stdout",
     "output_type": "stream",
     "text": [
      "[(0, 0), (0, 1), (0, 2), (0, 3), (1, 0), (1, 1), (1, 2), (1, 3), (2, 0), (2, 1), (2, 2), (2, 3), (3, 0), (3, 1), (3, 2), (3, 3)]\n"
     ]
    }
   ],
   "source": [
    "pairs = [(x, y)\n",
    "        for x in range(4)\n",
    "        for y in range(4)] #pairs is a list of tuples\n",
    "\n",
    "print (pairs)"
   ]
  },
  {
   "cell_type": "code",
   "execution_count": 14,
   "metadata": {},
   "outputs": [
    {
     "name": "stdout",
     "output_type": "stream",
     "text": [
      "[(0, 1), (0, 2), (0, 3), (1, 2), (1, 3), (2, 3)]\n"
     ]
    }
   ],
   "source": [
    "increasing_pairs = [(x, y) # only pairs with x < y,\n",
    "                    for x in range(4) # range(lo, hi) equals\n",
    "                    for y in range(x + 1, 4)] # [lo, lo + 1, ..., hi - 1]\n",
    "    \n",
    "print (increasing_pairs)"
   ]
  },
  {
   "cell_type": "markdown",
   "metadata": {},
   "source": [
    "### Generate random data/lists"
   ]
  },
  {
   "cell_type": "code",
   "execution_count": 18,
   "metadata": {},
   "outputs": [
    {
     "name": "stdout",
     "output_type": "stream",
     "text": [
      "[0.5282761314560384, 0.5297452009533989, 0.10210819447884023, 0.8104931650722175]\n"
     ]
    }
   ],
   "source": [
    "import random\n",
    "four_uniform_randoms = [random.random() for _ in range(4)]\n",
    "\n",
    "print (four_uniform_randoms)"
   ]
  },
  {
   "cell_type": "markdown",
   "metadata": {},
   "source": [
    "Random is **deterministic**. Every time **any** `random` method is executed, the seed is changed."
   ]
  },
  {
   "cell_type": "code",
   "execution_count": 49,
   "metadata": {},
   "outputs": [
    {
     "name": "stdout",
     "output_type": "stream",
     "text": [
      "0.5714025946899135\n",
      "0.4288890546751146\n",
      "0.5714025946899135\n",
      "0.4288890546751146\n"
     ]
    }
   ],
   "source": [
    "random.seed(10)         # this fixes the seed on 10, so running this cell will always get the same pseudo-random result\n",
    "print (random.random()) # 0.57140259469\n",
    "print (random.random()) # 0.4288890\n",
    "\n",
    "random.seed(10)         # reset the seed to 10. This prevent different random to be generated. \n",
    "print (random.random()) # 0.57140259469 again\n",
    "print (random.random()) # 0.4288890 again"
   ]
  },
  {
   "cell_type": "markdown",
   "metadata": {},
   "source": [
    "### Pick n' choose (randomly) — generate random lists"
   ]
  },
  {
   "cell_type": "code",
   "execution_count": 78,
   "metadata": {},
   "outputs": [
    {
     "name": "stdout",
     "output_type": "stream",
     "text": [
      "9\n",
      "3\n",
      "[4, 4, 5, 3, 3, 4, 4, 4, 5, 3]\n",
      "[3, 5, 4, 4, 3, 3, 5, 4, 3, 4]\n",
      "[3, 4]\n",
      "Gnappo\n"
     ]
    }
   ],
   "source": [
    "random.seed(10) \n",
    "\n",
    "x = random.randrange(10) # choose randomly from range(10) = [0, 1, ..., 9]\n",
    "print (x) #x is 9\n",
    "\n",
    "y = random.randrange(3, 6) # choose randomly from range(3, 6) = [3, 4, 5]\n",
    "print(y) #y is 3\n",
    "\n",
    "z = [random.randrange(3,6) for _ in range(10)] #list comprehension: generate 10 random numbers between 3-5\n",
    "print(z) #z is [4, 4, 5, 3, 3, 4, 4, 4, 5, 3]\n",
    "\n",
    "z1 = [random.choice(range(3,6)) for _ in range(10)] # equivalent to the previous, but using \"choice\"\n",
    "print (z1)\n",
    "\n",
    "z_noReplacement = random.sample(range(3,6),2) #choose randomly but with no repetition (no 'replacement')\n",
    "print (z_noReplacement) #z is [3, 4]\n",
    "\n",
    "dudes = [\"Alice\", \"Bob\", \"Charlie\", \"Gnappo\"]\n",
    "dude = random.choice(dudes)\n",
    "print (dude) #Charlie\n"
   ]
  },
  {
   "cell_type": "markdown",
   "metadata": {},
   "source": [
    "## Dictionary comprehension"
   ]
  },
  {
   "cell_type": "markdown",
   "metadata": {},
   "source": [
    "Convert a list into a dictionary with unique keys:\n",
    "\n",
    "`d = {key: value for (key, value) in iterable}`"
   ]
  },
  {
   "cell_type": "code",
   "execution_count": 107,
   "metadata": {},
   "outputs": [
    {
     "name": "stdout",
     "output_type": "stream",
     "text": [
      "{0: 0, 1: 1, 2: 4, 3: 9, 4: 16}\n"
     ]
    }
   ],
   "source": [
    "square_dict = { x : x * x for x in range(5) }\n",
    "\n",
    "print (square_dict) # { 0:0, 1:1, 2:4, 3:9, 4:16 }"
   ]
  },
  {
   "cell_type": "markdown",
   "metadata": {},
   "source": [
    "## Set comprehension"
   ]
  },
  {
   "cell_type": "code",
   "execution_count": 105,
   "metadata": {},
   "outputs": [
    {
     "name": "stdout",
     "output_type": "stream",
     "text": [
      "{1}\n"
     ]
    }
   ],
   "source": [
    "square_set = { x * x for x in [1, -1] }\n",
    "\n",
    "print (square_set)  # { 1 }"
   ]
  },
  {
   "cell_type": "markdown",
   "metadata": {
    "collapsed": true
   },
   "source": [
    "## Zip and argument unpacking"
   ]
  },
  {
   "cell_type": "markdown",
   "metadata": {},
   "source": [
    "In Python 3, `Zip()` is a generator object, exactly like `range()`. You need to convert it into a list."
   ]
  },
  {
   "cell_type": "code",
   "execution_count": 94,
   "metadata": {},
   "outputs": [
    {
     "name": "stdout",
     "output_type": "stream",
     "text": [
      "[('a', 1), ('b', 2), ('c', 3)]\n"
     ]
    }
   ],
   "source": [
    "list1 = ['a', 'b', 'c']\n",
    "list2 = [1, 2, 3]\n",
    "\n",
    "zipGenerator = zip(list1, list2) #unlike Python 2, this now returns a Generator object\n",
    "zipList = list(zipGenerator) #Convert into List (Python3)\n",
    "\n",
    "print (zipList) # is [('a', 1), ('b', 2), ('c', 3)]\n",
    "\n"
   ]
  },
  {
   "cell_type": "markdown",
   "metadata": {},
   "source": [
    "_Unzip_ or _argument unpacking_:"
   ]
  },
  {
   "cell_type": "code",
   "execution_count": 97,
   "metadata": {},
   "outputs": [
    {
     "name": "stdout",
     "output_type": "stream",
     "text": [
      "[('a', 'b', 'c'), (1, 2, 3)]\n"
     ]
    }
   ],
   "source": [
    "print(list(zip(*zipList)))"
   ]
  },
  {
   "cell_type": "code",
   "execution_count": 102,
   "metadata": {},
   "outputs": [
    {
     "name": "stdout",
     "output_type": "stream",
     "text": [
      "[('a', 1, 'alpha'), ('b', 2, 'beta'), ('c', 3, 'gamma')]\n",
      "[]\n"
     ]
    }
   ],
   "source": [
    "list1 = ['a', 'b', 'c']\n",
    "list2 = [1, 2, 3]\n",
    "list3 = [\"alpha\",\"beta\",\"gamma\"]\n",
    "\n",
    "l123 = zip(list1,list2,list3)\n",
    "print (list(l123))\n",
    "\n",
    "print(list(zip(*l123))) #doesn't work with 3 lists!! Guess must be tuples"
   ]
  },
  {
   "cell_type": "markdown",
   "metadata": {
    "collapsed": true
   },
   "source": [
    "## Regex"
   ]
  },
  {
   "cell_type": "code",
   "execution_count": 80,
   "metadata": {},
   "outputs": [
    {
     "name": "stdout",
     "output_type": "stream",
     "text": [
      "True\n"
     ]
    }
   ],
   "source": [
    "import re\n",
    "\n",
    "print (all([ # all of these are true, because\n",
    "    not re.match(\"a\", \"cat\"), # * 'cat' doesn't start with 'a'\n",
    "    re.search(\"a\", \"cat\"), # * 'cat' has an 'a' in it\n",
    "    not re.search(\"c\", \"dog\"), # * 'dog' doesn't have a 'c' in it\n",
    "    3 == len(re.split(\"[ab]\", \"carbs\")), # * split on a or b to ['c','r','s']\n",
    "    \"R-D-\" == re.sub(\"[0-9]\", \"-\", \"R2D2\") # * replace digits with dashes\n",
    "])) # prints True"
   ]
  },
  {
   "cell_type": "code",
   "execution_count": null,
   "metadata": {
    "collapsed": true
   },
   "outputs": [],
   "source": []
  }
 ],
 "metadata": {
  "kernelspec": {
   "display_name": "Python 3",
   "language": "python",
   "name": "python3"
  },
  "language_info": {
   "codemirror_mode": {
    "name": "ipython",
    "version": 3
   },
   "file_extension": ".py",
   "mimetype": "text/x-python",
   "name": "python",
   "nbconvert_exporter": "python",
   "pygments_lexer": "ipython3",
   "version": "3.7.0"
  }
 },
 "nbformat": 4,
 "nbformat_minor": 2
}
