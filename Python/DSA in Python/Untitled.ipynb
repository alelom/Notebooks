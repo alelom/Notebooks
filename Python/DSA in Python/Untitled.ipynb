{
 "cells": [
  {
   "cell_type": "code",
   "execution_count": 5,
   "metadata": {},
   "outputs": [
    {
     "name": "stdout",
     "output_type": "stream",
     "text": [
      "[2]\n"
     ]
    }
   ],
   "source": [
    "# Question 7\n",
    "# Develop 4 functions that have the following time complexity: O(1), O(n), O(n2), O(n3)\n",
    "\n",
    "# O(1)\n",
    "def listItemAt(list, index):\n",
    "    return list[index]\n",
    "\n",
    "# O(n)\n",
    "def linearSearch(list, item):\n",
    "    return [idx for idx in range(0, len(list)) if list[idx] == item]\n",
    "\n",
    "list = [1,2,3,4,5]\n",
    "print(linearSearch(list, 3))\n"
   ]
  },
  {
   "cell_type": "code",
   "execution_count": null,
   "metadata": {},
   "outputs": [],
   "source": []
  }
 ],
 "metadata": {
  "kernelspec": {
   "display_name": "Python 3",
   "language": "python",
   "name": "python3"
  },
  "language_info": {
   "codemirror_mode": {
    "name": "ipython",
    "version": 3
   },
   "file_extension": ".py",
   "mimetype": "text/x-python",
   "name": "python",
   "nbconvert_exporter": "python",
   "pygments_lexer": "ipython3",
   "version": "3.6.5"
  }
 },
 "nbformat": 4,
 "nbformat_minor": 2
}
