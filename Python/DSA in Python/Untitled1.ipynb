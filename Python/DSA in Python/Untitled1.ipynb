{
 "cells": [
  {
   "cell_type": "code",
   "execution_count": 5,
   "metadata": {},
   "outputs": [
    {
     "name": "stdout",
     "output_type": "stream",
     "text": [
      "1\n",
      "10\n",
      "1.0\n",
      "---\n"
     ]
    }
   ],
   "source": [
    "import pyBHoM, BH\n",
    "import os\n",
    "import System\n",
    "\n",
    "#filepath = os.path.join(os.getenv(\"HOME\"), \"Desktop\", \"pyBHoM_test\")\n",
    "file_adapter = BH.Adapter.FileAdapter.FileAdapter(\"C:/temp/pyBHoM_test\")\n",
    "\n",
    "objects = System.Array[System.Object]([BH.Engine.Acoustic.Create.RT60(1., 1, 10)])\n",
    "\n",
    "pushed = file_adapter.Push(objects)\n",
    "\n",
    "pulled = file_adapter.Pull(None)\n",
    "\n",
    "for item in pulled:\n",
    "    print(item.get_ReceiverID())\n",
    "    print(item.get_SpeakerID())\n",
    "    print(item.get_Value())\n",
    "    print(\"---\")"
   ]
  },
  {
   "cell_type": "code",
   "execution_count": null,
   "metadata": {},
   "outputs": [],
   "source": []
  }
 ],
 "metadata": {
  "kernelspec": {
   "display_name": "Python 3",
   "language": "python",
   "name": "python3"
  },
  "language_info": {
   "codemirror_mode": {
    "name": "ipython",
    "version": 3
   },
   "file_extension": ".py",
   "mimetype": "text/x-python",
   "name": "python",
   "nbconvert_exporter": "python",
   "pygments_lexer": "ipython3",
   "version": "3.7.3"
  }
 },
 "nbformat": 4,
 "nbformat_minor": 4
}
