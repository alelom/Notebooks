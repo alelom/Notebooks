{
 "cells": [
  {
   "cell_type": "code",
   "execution_count": 2,
   "metadata": {},
   "outputs": [
    {
     "data": {
      "text/plain": [
       "[3, 12, 21, 36, 50, 56, 69, 77, 84, 98]"
      ]
     },
     "execution_count": 2,
     "metadata": {},
     "output_type": "execute_result"
    }
   ],
   "source": [
    "import random\n",
    "\n",
    "def generateOrderedRandomNums(totalNumbers=100, maxValue=1000, seed=random.random()):\n",
    "    random.seed(seed)\n",
    "    maxValue = totalNumbers*10\n",
    "    \n",
    "    step = maxValue//totalNumbers\n",
    "    output = []\n",
    "    for i in range(totalNumbers):\n",
    "        output.append(i*step + random.randint(1,step))\n",
    "    return output\n",
    "\n",
    "listToSearch = generateOrderedRandomNums(10)\n",
    "listToSearch"
   ]
  },
  {
   "cell_type": "code",
   "execution_count": 9,
   "metadata": {},
   "outputs": [
    {
     "name": "stdout",
     "output_type": "stream",
     "text": [
      "Found value.\n",
      "None\n"
     ]
    }
   ],
   "source": [
    "def BinarySearch(li, item, result = None):\n",
    "    midIdx = len(li)//2\n",
    "    \n",
    "    if li[midIdx] == item:\n",
    "        print(\"Found value.\")\n",
    "        result = li[midIdx]\n",
    "        return\n",
    "    \n",
    "    if (len(li) == 1):\n",
    "        print(\"Not found\")\n",
    "        return\n",
    "    \n",
    "    if li[midIdx] > item:\n",
    "        BinarySearch(li[:midIdx], item, result)\n",
    "    else:\n",
    "        BinarySearch(li[midIdx:], item, result)\n",
    "\n",
    "valueFound = None\n",
    "BinarySearch(listToSearch, 77, valueFound)\n",
    "print(valueFound)"
   ]
  },
  {
   "cell_type": "code",
   "execution_count": null,
   "metadata": {},
   "outputs": [],
   "source": []
  },
  {
   "cell_type": "code",
   "execution_count": null,
   "metadata": {},
   "outputs": [],
   "source": []
  }
 ],
 "metadata": {
  "kernelspec": {
   "display_name": "Python 3",
   "language": "python",
   "name": "python3"
  },
  "language_info": {
   "codemirror_mode": {
    "name": "ipython",
    "version": 3
   },
   "file_extension": ".py",
   "mimetype": "text/x-python",
   "name": "python",
   "nbconvert_exporter": "python",
   "pygments_lexer": "ipython3",
   "version": "3.7.4"
  }
 },
 "nbformat": 4,
 "nbformat_minor": 2
}
