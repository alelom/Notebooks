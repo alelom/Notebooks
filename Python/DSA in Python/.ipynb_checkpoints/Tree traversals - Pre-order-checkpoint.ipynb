{
 "cells": [
  {
   "cell_type": "markdown",
   "metadata": {},
   "source": [
    "# Tree traversals: pre-order traversal"
   ]
  },
  {
   "cell_type": "code",
   "execution_count": 13,
   "metadata": {},
   "outputs": [],
   "source": [
    "class Node:\n",
    "    def __init__(self, num):\n",
    "        self.label = num\n",
    "        self.left = None\n",
    "        self.right = None"
   ]
  },
  {
   "cell_type": "code",
   "execution_count": 65,
   "metadata": {},
   "outputs": [],
   "source": [
    "# Perfect Binary Tree of Height 2\n",
    "# from https://www.geeksforgeeks.org/perfect-binary-tree-specific-level-order-traversal/\n",
    "\n",
    "root = Node(1) \n",
    "   \n",
    "root.left    = Node(2) \n",
    "root.right   = Node(3) \n",
    "   \n",
    "root.left.left  = Node(4) \n",
    "root.left.right = Node(5) \n",
    "root.right.left  = Node(6) \n",
    "root.right.right = Node(7) "
   ]
  },
  {
   "cell_type": "code",
   "execution_count": 55,
   "metadata": {},
   "outputs": [],
   "source": [
    "# to add a 3rd level, asymmetric\n",
    "root.left.left.left  = Node(8)"
   ]
  },
  {
   "cell_type": "code",
   "execution_count": 7,
   "metadata": {},
   "outputs": [],
   "source": [
    "# to add a 3rd level\n",
    "root.left.left.left  = Node(8) \n",
    "root.left.left.right  = Node(9) \n",
    "root.left.right.left  = Node(10) \n",
    "root.left.right.right  = Node(11) \n",
    "root.right.left.left  = Node(12) \n",
    "root.right.left.right  = Node(13) \n",
    "root.right.right.left  = Node(14) \n",
    "root.right.right.right  = Node(15) "
   ]
  },
  {
   "cell_type": "code",
   "execution_count": 8,
   "metadata": {},
   "outputs": [],
   "source": [
    "# to add a 4th level\n",
    "root.left.left.left.left  = Node(16) \n",
    "root.left.left.left.right  = Node(17) \n",
    "root.left.left.right.left  = Node(18) \n",
    "root.left.left.right.right  = Node(19) \n",
    "root.left.right.left.left  = Node(20) \n",
    "root.left.right.left.right  = Node(21) \n",
    "root.left.right.right.left  = Node(22) \n",
    "root.left.right.right.right  = Node(23) \n",
    "root.right.left.left.left  = Node(24) \n",
    "root.right.left.left.right  = Node(25) \n",
    "root.right.left.right.left  = Node(26) \n",
    "root.right.left.right.right  = Node(27) \n",
    "root.right.right.left.left  = Node(28) \n",
    "root.right.right.left.right  = Node(29) \n",
    "root.right.right.right.left  = Node(30) \n",
    "root.right.right.right.right  = Node(31) "
   ]
  },
  {
   "cell_type": "markdown",
   "metadata": {},
   "source": [
    "### Pre-order traversal -- recursive version"
   ]
  },
  {
   "cell_type": "code",
   "execution_count": 17,
   "metadata": {},
   "outputs": [],
   "source": [
    "def preOrderTraversal(root):\n",
    "    print(root.label)\n",
    "    if (root.left != None):\n",
    "        preOrderTraversal(root.left)\n",
    "    if (root.right != None):\n",
    "        preOrderTraversal(root.right)"
   ]
  },
  {
   "cell_type": "code",
   "execution_count": 18,
   "metadata": {
    "scrolled": true
   },
   "outputs": [
    {
     "name": "stdout",
     "output_type": "stream",
     "text": [
      "1\n",
      "2\n",
      "4\n",
      "5\n",
      "3\n",
      "6\n",
      "7\n"
     ]
    }
   ],
   "source": [
    "preOrderTraversal(root)"
   ]
  },
  {
   "cell_type": "markdown",
   "metadata": {},
   "source": [
    "### Pre-order traversal -- iterative version"
   ]
  },
  {
   "cell_type": "code",
   "execution_count": 66,
   "metadata": {},
   "outputs": [],
   "source": [
    "# Invented by me\n",
    "stack = []\n",
    "\n",
    "def preOrderTraversal_iterative(root):\n",
    "    while(root is not None):\n",
    "        print(root.label)\n",
    "        if(root.left is not None):\n",
    "            if (root.right is not None):\n",
    "                stack.append(root.right)\n",
    "            root = root.left\n",
    "        elif(root.right is not None):\n",
    "            root = root.right\n",
    "        else:\n",
    "            root = stack.pop() if stack else None"
   ]
  },
  {
   "cell_type": "code",
   "execution_count": 67,
   "metadata": {},
   "outputs": [
    {
     "name": "stdout",
     "output_type": "stream",
     "text": [
      "1\n",
      "2\n",
      "4\n",
      "5\n",
      "3\n",
      "6\n",
      "7\n"
     ]
    }
   ],
   "source": [
    "preOrderTraversal_iterative(root)"
   ]
  },
  {
   "cell_type": "code",
   "execution_count": 69,
   "metadata": {},
   "outputs": [],
   "source": [
    "# By teacher in class. This stacks the root nodes, instead of the right node.\n",
    "stack = []\n",
    "\n",
    "def preOrderTraversal_iterative(root):\n",
    "    while(True):\n",
    "        if (root is not None):\n",
    "            print(root.label)\n",
    "            stack.append(root)\n",
    "            root = root.left\n",
    "        else:\n",
    "            if (len(stack)==0):\n",
    "                return\n",
    "            root = stack.pop()\n",
    "            root = root.right"
   ]
  },
  {
   "cell_type": "code",
   "execution_count": 70,
   "metadata": {},
   "outputs": [
    {
     "name": "stdout",
     "output_type": "stream",
     "text": [
      "1\n",
      "2\n",
      "4\n",
      "5\n",
      "3\n",
      "6\n",
      "7\n"
     ]
    }
   ],
   "source": [
    "preOrderTraversal_iterative(root)"
   ]
  },
  {
   "cell_type": "code",
   "execution_count": 75,
   "metadata": {},
   "outputs": [],
   "source": [
    "# By teacher in class. This stacks the root nodes, instead of the right node.\n",
    "stack = []\n",
    "\n",
    "def inOrderTraversal_iterative(root):\n",
    "    while(True):\n",
    "        if (root is not None):\n",
    "            print(root.label)\n",
    "            stack.append(root)\n",
    "            root = root.left\n",
    "        else:\n",
    "            if (len(stack)==0):\n",
    "                return\n",
    "            root = stack.pop()\n",
    "            root = root.right"
   ]
  },
  {
   "cell_type": "code",
   "execution_count": 76,
   "metadata": {},
   "outputs": [
    {
     "name": "stdout",
     "output_type": "stream",
     "text": [
      "1\n",
      "2\n",
      "4\n",
      "5\n",
      "3\n",
      "6\n",
      "7\n"
     ]
    }
   ],
   "source": [
    "inOrderTraversal_iterative(root) #in-order should be: 4 2 5 1 6 3 7"
   ]
  },
  {
   "cell_type": "code",
   "execution_count": null,
   "metadata": {},
   "outputs": [],
   "source": []
  }
 ],
 "metadata": {
  "kernelspec": {
   "display_name": "Python 3",
   "language": "python",
   "name": "python3"
  },
  "language_info": {
   "codemirror_mode": {
    "name": "ipython",
    "version": 3
   },
   "file_extension": ".py",
   "mimetype": "text/x-python",
   "name": "python",
   "nbconvert_exporter": "python",
   "pygments_lexer": "ipython3",
   "version": "3.6.5"
  }
 },
 "nbformat": 4,
 "nbformat_minor": 2
}
