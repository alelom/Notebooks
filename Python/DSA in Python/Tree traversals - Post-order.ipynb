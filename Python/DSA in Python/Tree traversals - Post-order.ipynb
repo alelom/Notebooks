{
 "cells": [
  {
   "cell_type": "markdown",
   "metadata": {},
   "source": [
    "# Post-order traversal\n",
    "https://www.youtube.com/watch?v=4zVdfkpcT6U"
   ]
  },
  {
   "cell_type": "code",
   "execution_count": 3,
   "metadata": {},
   "outputs": [],
   "source": [
    "class Node:\n",
    "    def __init__(self, num):\n",
    "        self.label = num\n",
    "        self.left = None\n",
    "        self.right = None"
   ]
  },
  {
   "cell_type": "code",
   "execution_count": 4,
   "metadata": {},
   "outputs": [],
   "source": [
    "# Perfect Binary Tree of Height 2\n",
    "# from https://www.geeksforgeeks.org/perfect-binary-tree-specific-level-order-traversal/\n",
    "\n",
    "root = Node(1) \n",
    "   \n",
    "root.left    = Node(2) \n",
    "root.right   = Node(3) \n",
    "   \n",
    "root.left.left  = Node(4) \n",
    "root.left.right = Node(5) \n",
    "root.right.left  = Node(6) \n",
    "root.right.right = Node(7) "
   ]
  },
  {
   "cell_type": "code",
   "execution_count": 99,
   "metadata": {},
   "outputs": [],
   "source": [
    "# to add a 3rd level\n",
    "root.left.left.left  = Node(8) \n",
    "root.left.left.right  = Node(9) \n",
    "root.left.right.left  = Node(10) \n",
    "root.left.right.right  = Node(11) \n",
    "root.right.left.left  = Node(12) \n",
    "root.right.left.right  = Node(13) \n",
    "root.right.right.left  = Node(14) \n",
    "root.right.right.right  = Node(15) "
   ]
  },
  {
   "cell_type": "code",
   "execution_count": 26,
   "metadata": {},
   "outputs": [],
   "source": [
    "# to add a 4th level\n",
    "root.left.left.left.left  = Node(16) \n",
    "root.left.left.left.right  = Node(17) \n",
    "root.left.left.right.left  = Node(18) \n",
    "root.left.left.right.right  = Node(19) \n",
    "root.left.right.left.left  = Node(20) \n",
    "root.left.right.left.right  = Node(21) \n",
    "root.left.right.right.left  = Node(22) \n",
    "root.left.right.right.right  = Node(23) \n",
    "root.right.left.left.left  = Node(24) \n",
    "root.right.left.left.right  = Node(25) \n",
    "root.right.left.right.left  = Node(26) \n",
    "root.right.left.right.right  = Node(27) \n",
    "root.right.right.left.left  = Node(28) \n",
    "root.right.right.left.right  = Node(29) \n",
    "root.right.right.right.left  = Node(30) \n",
    "root.right.right.right.right  = Node(31) "
   ]
  },
  {
   "cell_type": "code",
   "execution_count": 5,
   "metadata": {},
   "outputs": [],
   "source": [
    "def postOrderTraversal(root):\n",
    "    if (root.left != None):\n",
    "        postOrderTraversal(root.left)\n",
    "    if (root.right != None):\n",
    "        postOrderTraversal(root.right)\n",
    "    print(root.label)"
   ]
  },
  {
   "cell_type": "code",
   "execution_count": 6,
   "metadata": {},
   "outputs": [
    {
     "name": "stdout",
     "output_type": "stream",
     "text": [
      "4\n",
      "5\n",
      "2\n",
      "6\n",
      "7\n",
      "3\n",
      "1\n"
     ]
    }
   ],
   "source": [
    "postOrderTraversal(root)"
   ]
  },
  {
   "cell_type": "markdown",
   "metadata": {},
   "source": [
    "### Find parent node\n",
    "\n",
    "#### Find parent of a child node\n",
    "Of a certain child node. Return -1 if not existing."
   ]
  },
  {
   "cell_type": "code",
   "execution_count": 7,
   "metadata": {},
   "outputs": [],
   "source": [
    "def getParentNode(childToFind, node, parent):   \n",
    "    if (node.label == childToFind):\n",
    "        if (parent == None):\n",
    "            return -1\n",
    "        else:\n",
    "            print(parent.label)\n",
    "            return parent.label\n",
    "    \n",
    "    if (node.left != None):\n",
    "        getParentNode(childToFind, node.left, node)\n",
    "    if (node.right != None):\n",
    "        getParentNode(childToFind, node.right, node)"
   ]
  },
  {
   "cell_type": "code",
   "execution_count": 8,
   "metadata": {},
   "outputs": [
    {
     "data": {
      "text/plain": [
       "-1"
      ]
     },
     "execution_count": 8,
     "metadata": {},
     "output_type": "execute_result"
    }
   ],
   "source": [
    "getParentNode(1, root, None)"
   ]
  },
  {
   "cell_type": "code",
   "execution_count": 9,
   "metadata": {},
   "outputs": [
    {
     "name": "stdout",
     "output_type": "stream",
     "text": [
      "2\n"
     ]
    }
   ],
   "source": [
    "getParentNode(4, root, None)"
   ]
  },
  {
   "cell_type": "markdown",
   "metadata": {},
   "source": [
    "#### Find parent of a list of child nodes"
   ]
  },
  {
   "cell_type": "code",
   "execution_count": 65,
   "metadata": {},
   "outputs": [],
   "source": [
    "childrenParents = []\n",
    "\n",
    "def getParentNodes(childrenToFind, node, parent):\n",
    "    #global childrenParents #optional. Useful to remember that you're using a global variable.\n",
    "    \n",
    "    if (not childrenToFind):\n",
    "        return\n",
    "    \n",
    "    if (node.label in childrenToFind):\n",
    "        if (parent == None):\n",
    "            childrenParents.append((node.label, -1))\n",
    "        else:\n",
    "            childrenParents.append((node.label, parent.label))\n",
    "        childrenToFind.remove(node.label)\n",
    "    \n",
    "    if (node.left != None):\n",
    "        getParentNodes(childrenToFind, node.left, node)\n",
    "    if (node.right != None):\n",
    "        getParentNodes(childrenToFind, node.right, node)"
   ]
  },
  {
   "cell_type": "code",
   "execution_count": 66,
   "metadata": {},
   "outputs": [
    {
     "name": "stdout",
     "output_type": "stream",
     "text": [
      "[(1, -1), (4, 2), (7, 3)]\n"
     ]
    }
   ],
   "source": [
    "childrenToFind = [1,4,7]\n",
    "\n",
    "getParentNodes(childrenToFind, root, None)\n",
    "print(childrenParents)"
   ]
  },
  {
   "cell_type": "code",
   "execution_count": null,
   "metadata": {},
   "outputs": [],
   "source": []
  },
  {
   "cell_type": "markdown",
   "metadata": {},
   "source": [
    "### Generate perfect binary tree using post-order traversal\n",
    "Note: following different numbering convention given by google foo.bar.\n",
    "\n",
    "Normally tree height does not include root node.\n",
    "\n",
    "So for same result, changing to standard convention:\n",
    "```py\n",
    "treeHeight = 2\n",
    "labelStack = list(range(1, 2**(treeHeight+1)))\n",
    "...\n",
    "root = generateTree(treeHeight)\n",
    "```"
   ]
  },
  {
   "cell_type": "code",
   "execution_count": 12,
   "metadata": {},
   "outputs": [],
   "source": [
    "treeHeight = 3\n",
    "labelStack = list(range(1, 2**(treeHeight)))\n",
    "\n",
    "def generateTree(nodeHeight):\n",
    "    if (labelStack):\n",
    "        label = labelStack.pop()\n",
    "        node = Node(label)\n",
    "    \n",
    "        print(f\"Label: {label}, Height: {nodeHeight}\")\n",
    "        \n",
    "        if (nodeHeight > 0):\n",
    "            node.right = generateTree(nodeHeight-1)\n",
    "            node.left = generateTree(nodeHeight-1)\n",
    "    \n",
    "        return node"
   ]
  },
  {
   "cell_type": "code",
   "execution_count": 13,
   "metadata": {},
   "outputs": [
    {
     "name": "stdout",
     "output_type": "stream",
     "text": [
      "Label: 7, Height: 2\n",
      "Label: 6, Height: 1\n",
      "Label: 5, Height: 0\n",
      "Label: 4, Height: 0\n",
      "Label: 3, Height: 1\n",
      "Label: 2, Height: 0\n",
      "Label: 1, Height: 0\n"
     ]
    }
   ],
   "source": [
    "generatedTree = generateTree(treeHeight-1)"
   ]
  },
  {
   "cell_type": "code",
   "execution_count": 14,
   "metadata": {},
   "outputs": [
    {
     "name": "stdout",
     "output_type": "stream",
     "text": [
      "1\n",
      "2\n",
      "3\n",
      "4\n",
      "5\n",
      "6\n",
      "7\n"
     ]
    }
   ],
   "source": [
    "postOrderTraversal(generatedTree)"
   ]
  },
  {
   "cell_type": "code",
   "execution_count": 15,
   "metadata": {},
   "outputs": [
    {
     "name": "stdout",
     "output_type": "stream",
     "text": [
      "3\n"
     ]
    }
   ],
   "source": [
    "getParentNode(1, generatedTree, None)"
   ]
  },
  {
   "cell_type": "code",
   "execution_count": 64,
   "metadata": {},
   "outputs": [
    {
     "name": "stdout",
     "output_type": "stream",
     "text": [
      "(3, 6, -1)\n"
     ]
    }
   ],
   "source": [
    "childrenParents = []\n",
    "childrenToFind = [1,4,7]\n",
    "order = dict(zip(childrenToFind, range(0,len(childrenToFind))))\n",
    "\n",
    "getParentNodes(childrenToFind, generatedTree, None)\n",
    "\n",
    "childrenParents = list(zip(*sorted(childrenParents, key=lambda x: order[x[0]])))[1]\n",
    "\n",
    "print(childrenParents)"
   ]
  },
  {
   "cell_type": "code",
   "execution_count": 42,
   "metadata": {},
   "outputs": [
    {
     "data": {
      "text/plain": [
       "[1, 4, 7, 99]"
      ]
     },
     "execution_count": 42,
     "metadata": {},
     "output_type": "execute_result"
    }
   ],
   "source": [
    "childrenToFind.insert(10,99)\n",
    "childrenToFind"
   ]
  },
  {
   "cell_type": "code",
   "execution_count": 43,
   "metadata": {},
   "outputs": [
    {
     "data": {
      "text/plain": [
       "4"
      ]
     },
     "execution_count": 43,
     "metadata": {},
     "output_type": "execute_result"
    }
   ],
   "source": [
    "\n"
   ]
  },
  {
   "cell_type": "code",
   "execution_count": null,
   "metadata": {},
   "outputs": [],
   "source": []
  }
 ],
 "metadata": {
  "kernelspec": {
   "display_name": "Python 3",
   "language": "python",
   "name": "python3"
  },
  "language_info": {
   "codemirror_mode": {
    "name": "ipython",
    "version": 3
   },
   "file_extension": ".py",
   "mimetype": "text/x-python",
   "name": "python",
   "nbconvert_exporter": "python",
   "pygments_lexer": "ipython3",
   "version": "3.7.4"
  }
 },
 "nbformat": 4,
 "nbformat_minor": 2
}
