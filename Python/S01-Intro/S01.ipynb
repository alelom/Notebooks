{
 "cells": [
  {
   "cell_type": "markdown",
   "metadata": {},
   "source": [
    "## 06: Fractional Part\n",
    "Given a positive real number, print its fractional part. \n",
    "\n",
    "For example, on input\n",
    "34.056\n",
    "the output should be\n",
    "0.056\n",
    "\n",
    "Note. Due to imprecisions of float arithmetic, you may get 0.05599999 as the result in the example above, which is \"almost\" correct. Use round operation to get the correct output "
   ]
  },
  {
   "cell_type": "code",
   "execution_count": null,
   "metadata": {},
   "outputs": [],
   "source": [
    "# Does not work for 0.001\n",
    "n = float(input())\n",
    "fractional = n % int(n)\n",
    "rounded_fractional = round(fractional, 3)\n",
    "print (rounded_fractional)"
   ]
  },
  {
   "cell_type": "code",
   "execution_count": null,
   "metadata": {},
   "outputs": [],
   "source": [
    "# Does not work for 0.001\n",
    "n = float(input())\n",
    "fractional = n // int(n)\n",
    "rounded_fractional = round(fractional, 3)\n",
    "print (rounded_fractional)"
   ]
  },
  {
   "cell_type": "code",
   "execution_count": null,
   "metadata": {},
   "outputs": [],
   "source": [
    "n = float(input())\n",
    "if int(n) != 0:\n",
    "    fractional = n % int(n)\n",
    "else: \n",
    "    fractional = n\n",
    "rounded_fractional = round(fractional, 3)\n",
    "print (rounded_fractional)"
   ]
  },
  {
   "cell_type": "code",
   "execution_count": null,
   "metadata": {},
   "outputs": [],
   "source": [
    "# better\n",
    "n = float(input())\n",
    "fractional = n % 1\n",
    "rounded_fractional = round(fractional, 3)\n",
    "print (rounded_fractional)"
   ]
  },
  {
   "cell_type": "markdown",
   "metadata": {},
   "source": [
    "## 07: First number after decimal point"
   ]
  },
  {
   "cell_type": "markdown",
   "metadata": {},
   "source": [
    "Given a positive real number, print its first digit to the right of the decimal point.\n",
    "\n",
    "For example, on input\n",
    "56.8945\n",
    "output should be\n",
    "8"
   ]
  },
  {
   "cell_type": "code",
   "execution_count": null,
   "metadata": {},
   "outputs": [],
   "source": [
    "n = float(input())\n",
    "if int(n) != 0:\n",
    "    fractional = n % int(n)\n",
    "else: \n",
    "    fractional = n\n",
    "\n",
    "fractional_first_digit = int(fractional * 10 % 10)\n",
    "\n",
    "print (fractional_first_digit)"
   ]
  },
  {
   "cell_type": "code",
   "execution_count": null,
   "metadata": {},
   "outputs": [],
   "source": [
    "# better\n",
    "n = float(input())\n",
    "fractional = n % 1\n",
    "\n",
    "fractional_first_digit = int(fractional * 10 % 10)\n",
    "print (fractional_first_digit)"
   ]
  },
  {
   "cell_type": "markdown",
   "metadata": {},
   "source": [
    "## 08: Area of right-angled triangle\n",
    "Write a program that reads the length of the base and the height of a right-angled triangle and prints the area. Every number is given on a separate line. \n",
    "\n",
    "For example, on input\n",
    "7\n",
    "5\n",
    "output should be\n",
    "17.5\n",
    "\n",
    "Note. Always output a float number, e.g. 7.0 and not 7"
   ]
  },
  {
   "cell_type": "code",
   "execution_count": null,
   "metadata": {},
   "outputs": [],
   "source": [
    "length = float(input())\n",
    "height = float(input())\n",
    "\n",
    "A = length * height / 2\n",
    "\n",
    "print(A) "
   ]
  },
  {
   "cell_type": "markdown",
   "metadata": {},
   "source": [
    "## 09: Total count\n",
    "A flower costs A pounds and B pence. Determine, how many pounds and pence should one pay for N flowers. A program gets three numbers: A, B, N. It should print two numbers: total cost in pounds and pence. \n",
    "\n",
    "For exampe, on input \n",
    "1\n",
    "50\n",
    "3\n",
    "output should be\n",
    "4\n",
    "50"
   ]
  },
  {
   "cell_type": "code",
   "execution_count": null,
   "metadata": {},
   "outputs": [],
   "source": [
    "A = int(input())\n",
    "B = int(input())\n",
    "N = int(input())\n",
    "\n",
    "price = A*N + B*N/100\n",
    "\n",
    "pound = int(price)\n",
    "pence = int(round(price % 1 * 100,0))\n",
    "\n",
    "print(pound)\n",
    "print(pence)"
   ]
  },
  {
   "cell_type": "markdown",
   "metadata": {},
   "source": [
    "## 10: Minimum of 2 Numbers\n",
    "Given the two integer numbers, determine their minimum.\n",
    "\n",
    "For example, on input\n",
    "3\n",
    "8\n",
    "the output should be\n",
    "3 "
   ]
  },
  {
   "cell_type": "code",
   "execution_count": null,
   "metadata": {},
   "outputs": [],
   "source": [
    "n1 = int(input())\n",
    "n2 = int(input())\n",
    "\n",
    "if (n1 > n2):\n",
    "    print(n2)\n",
    "else:\n",
    "    print(n1)"
   ]
  },
  {
   "cell_type": "markdown",
   "metadata": {},
   "source": [
    "## 11: Sign of a Number\n",
    "For the given integer X print 1 if it's positive, -1 if it's negative, or 0 if it's equal to zero. \n",
    "\n",
    "For example, on input\n",
    "-13\n",
    "output should be\n",
    "-1"
   ]
  },
  {
   "cell_type": "code",
   "execution_count": null,
   "metadata": {},
   "outputs": [],
   "source": [
    "n = int(input())\n",
    "\n",
    "if(n > 0):\n",
    "    print(1)\n",
    "elif(n<0):\n",
    "    print(-1)\n",
    "else:\n",
    "    print(0)"
   ]
  },
  {
   "cell_type": "markdown",
   "metadata": {},
   "source": [
    "## 12\n",
    "Given three integer numbers, determine their minimum\n",
    "\n",
    "For example, on input\n",
    "4\n",
    "2\n",
    "7\n",
    "the output should be\n",
    "2"
   ]
  },
  {
   "cell_type": "code",
   "execution_count": null,
   "metadata": {},
   "outputs": [],
   "source": [
    "n1 = int(input())\n",
    "n2 = int(input())\n",
    "n3 = int(input())\n",
    "\n",
    "if(n1 <= n2 and n1 <= n3):\n",
    "    print(n1)\n",
    "elif(n2<=n1 and n2 <= n3):\n",
    "    print(n2)\n",
    "elif(n3<=n1 and n3 <= n2):\n",
    "    print(n3)\n",
    "    "
   ]
  },
  {
   "cell_type": "markdown",
   "metadata": {},
   "source": [
    "## 13\n",
    "Given the year number. You need to check if this year is a leap year. If it is, print LEAP, otherwise print COMMON.\n",
    "\n",
    "The rules in Gregorian calendar are as follows:\n",
    "- a year is a leap year if its number is exactly divisible by 4 and is not exactly divisible by 100\n",
    "- a year is always a leap year if its number is exactly divisible by 400\n",
    "\n",
    "Warning. The words LEAP and COMMON should be printed all caps.\n",
    "\n",
    "For example, on input\n",
    "2000\n",
    "output must be\n",
    "LEAP\n"
   ]
  },
  {
   "cell_type": "code",
   "execution_count": null,
   "metadata": {},
   "outputs": [],
   "source": [
    "year = int(input())\n",
    "if((year%4 == 0 and year%100 != 0) or year % 400 == 0):\n",
    "    print(\"LEAP\")\n",
    "else:\n",
    "    print(\"COMMON\")"
   ]
  },
  {
   "cell_type": "markdown",
   "metadata": {},
   "source": [
    "## 14\n",
    "Given three integers, determine how many of them are equal to each other. The program must print one of these numbers: 3 (if all are the same), 2 (if two of them are equal to each other and the third is different) or 0 (if all numbers are different). \n",
    "\n",
    "For example, on input\n",
    "4\n",
    "5\n",
    "4\n",
    "output must be\n",
    "2"
   ]
  },
  {
   "cell_type": "code",
   "execution_count": null,
   "metadata": {},
   "outputs": [],
   "source": [
    "n1 = int(input())\n",
    "n2 = int(input())\n",
    "n3 = int(input())\n",
    "\n",
    "if(n1 == n2 and n1 == n3):\n",
    "    print(3)\n",
    "elif(n1==n2 or n1==n3 or n2 == n3):\n",
    "    print(2)\n",
    "else:\n",
    "    print(0)\n"
   ]
  },
  {
   "cell_type": "markdown",
   "metadata": {},
   "source": [
    "## 15\n",
    " Given two cells of a chessboard. If they are painted in one color, print the word YES, and if in a different color - NO.\n",
    "\n",
    "The program receives the input of four numbers from 1 to 8, each specifying the column and row number, first two - for the first cell, and then the last two - for the second cell.\n",
    "\n",
    "It is assumed that the cells are numbered from left to right and from bottom to top, i.e., the bottom left cell has column number 1 and row number 1 while the bottom right cell has column number 8 and row number 1.\n",
    "\n",
    "For example, on input\n",
    "1\n",
    "1\n",
    "2\n",
    "6\n",
    "output must be\n",
    "YES\n"
   ]
  },
  {
   "cell_type": "code",
   "execution_count": null,
   "metadata": {},
   "outputs": [],
   "source": [
    "c1_col = int(input())\n",
    "c1_row = int(input())\n",
    "c2_col = int(input())\n",
    "c2_row = int(input())\n",
    "\n",
    "if ((c1_col % 2 == c2_col % 2 and c1_row % 2 == c2_row % 2) or (c1_col % 2 == c2_row % 2 and c1_row % 2 == c2_col % 2)):\n",
    "    print(\"YES\")\n",
    "else:\n",
    "    print(\"NO\")"
   ]
  },
  {
   "cell_type": "markdown",
   "metadata": {},
   "source": [
    "## 16\n",
    "Chess rook moves horizontally or vertically on the chessboard. Given two different cells of the chessboard, determine whether a rook can go from the first cell to the second in one move.\n",
    "\n",
    "The program receives the input of four numbers from 1 to 8, each specifying the column and row number, first two - for the first cell, and then the last two - for the second cell. The program should output YES if a rook can go from the first cell to the second in one move, or NO otherwise.\n",
    "\n",
    "For example, on input\n",
    "2\n",
    "3\n",
    "5\n",
    "6\n",
    "output must be \n",
    "NO"
   ]
  },
  {
   "cell_type": "code",
   "execution_count": 3,
   "metadata": {},
   "outputs": [
    {
     "name": "stdout",
     "output_type": "stream",
     "text": [
      "1\n",
      "1\n",
      "1\n",
      "3\n"
     ]
    },
    {
     "data": {
      "text/plain": [
       "'YES'"
      ]
     },
     "execution_count": 3,
     "metadata": {},
     "output_type": "execute_result"
    }
   ],
   "source": [
    "c1_col = int(input())\n",
    "c1_row = int(input())\n",
    "c2_col = int(input())\n",
    "c2_row = int(input())\n",
    "\n",
    "if ((c1_col // c2_col % 2 == 0 and c1_row // c2_row % 2 == 0) or (c1_col // c2_row % 2 == 0 and c1_row // c2_col % 2 == 0)):\n",
    "    A = \"NO\"\n",
    "else:\n",
    "    A = \"YES\"\n",
    "    \n",
    "A\n"
   ]
  },
  {
   "cell_type": "markdown",
   "metadata": {},
   "source": [
    "## 17\n",
    "\n",
    "In chess, the bishop moves diagonally, any number of squares. Given two different squares of the chessboard, determine whether a bishop can go from the first to the second in one move.\n",
    "\n",
    "The program receives as input four numbers from 1 to 8, specifying the column and row numbers of the starting square and the column and row numbers of the ending square. The program should output YES if a Bishop can go from the first square to the second in one move, or NO otherwise.\n",
    "\n",
    "For example, on input\n",
    "2\n",
    "3\n",
    "5\n",
    "6\n",
    "output must be\n",
    "YES"
   ]
  },
  {
   "cell_type": "code",
   "execution_count": null,
   "metadata": {},
   "outputs": [],
   "source": [
    "# Does not work for all cases\n",
    "c1_col = int(input())\n",
    "c1_row = int(input())\n",
    "c2_col = int(input())\n",
    "c2_row = int(input())\n",
    "\n",
    "if (c1_col%c2_col == 0 and c1_row%c2_row!=0) or (c1_col%c2_col != 0 and c1_row%c2_row==0):\n",
    "    print(\"NO\")\n",
    "else:\n",
    "    print(\"YES\")\n"
   ]
  },
  {
   "cell_type": "code",
   "execution_count": null,
   "metadata": {},
   "outputs": [],
   "source": [
    "c1_col = int(input())\n",
    "c1_row = int(input())\n",
    "c2_col = int(input())\n",
    "c2_row = int(input())\n",
    "\n",
    "if ((c1_row+c2_row)%2 == 0 and (c1_col+c2_col)%2 == 0) or ((c1_row+c2_row)%2 != 0 and (c1_col+c2_col)%2 != 0):\n",
    "    print(\"YES\")\n",
    "else:\n",
    "    print(\"NO\")\n"
   ]
  },
  {
   "cell_type": "markdown",
   "metadata": {},
   "source": [
    "## 18\n",
    " Chess king moves horizontally, vertically or diagonally to any adjacent cell. Given two different cells of the chessboard, determine whether a king can go from the first cell to the second in one move.\n",
    "\n",
    "The program receives the input of four numbers from 1 to 8, each specifying the column and row number, first two - for the first cell, and then the last two - for the second cell. The program should output YES if a king can go from the first cell to the second in one move, or NO otherwise.\n",
    "\n",
    "For example, on input\n",
    "2\n",
    "3\n",
    "1\n",
    "4\n",
    "output should be \n",
    "YES"
   ]
  },
  {
   "cell_type": "code",
   "execution_count": null,
   "metadata": {},
   "outputs": [],
   "source": [
    "c1_col = int(input())\n",
    "c1_row = int(input())\n",
    "c2_col = int(input())\n",
    "c2_row = int(input())\n",
    "\n",
    "horiz_vert = (c1_col // c2_col % 2 == 0 and c1_row // c2_row % 2 == 0) or (c1_col // c2_row % 2 == 0 and c1_row // c2_col % 2 == 0)\n",
    "diag = ((c1_row+c2_row)%2 == 0 and (c1_col+c2_col)%2 == 0) or ((c1_row+c2_row)%2 != 0 and (c1_col+c2_col)%2 != 0)\n",
    "adjacent = ((c1_col - c2_col) == 1 and (c1_row - c2_row) == 0) or ((c1_col - c2_col) == 0 and (c1_row - c2_row) == 1)\n",
    "\n",
    "if (adjacent and (diag or horiz_vert)):\n",
    "    print(\"YES\")\n",
    "else:\n",
    "    print(\"NO\")\n"
   ]
  },
  {
   "cell_type": "code",
   "execution_count": null,
   "metadata": {},
   "outputs": [],
   "source": [
    "c1_col = int(input())\n",
    "c1_row = int(input())\n",
    "c2_col = int(input())\n",
    "c2_row = int(input())\n",
    "\n",
    "horiz_vert = (c1_col // c2_col % 2 == 0 and c1_row // c2_row % 2 == 0) or (c1_col // c2_row % 2 == 0 and c1_row // c2_col % 2 == 0)\n",
    "diag = ((c1_row+c2_row)%2 == 0 and (c1_col+c2_col)%2 == 0) or ((c1_row+c2_row)%2 != 0 and (c1_col+c2_col)%2 != 0)\n",
    "\n",
    "if (c1_row > c2_row):\n",
    "  adjacent_r = (c1_row - c2_row) <= 1\n",
    "else:\n",
    "  adjacent_r = (c2_row - c1_row) <= 1\n",
    "  \n",
    "if (c1_col > c2_col):\n",
    "  adjacent_c = (c1_col - c2_col) <= 1\n",
    "else:\n",
    "  adjacent_c = (c2_col - c1_col) <= 1\n",
    "  \n",
    "adjacent = adjacent_c and adjacent_r\n",
    "\n",
    "if (adjacent and (diag or horiz_vert)):\n",
    "    print(\"YES\")\n",
    "else:\n",
    "    print(\"NO\")"
   ]
  },
  {
   "cell_type": "markdown",
   "metadata": {},
   "source": [
    "## 19\n",
    "Chocolate bar has the form of a rectangle divided into n×m portions. Chocolate bar can be split into two rectangular parts by breaking it along a selected straight line on its pattern. \n",
    "\n",
    "Determine whether it is possible to split it so that one of the parts will have exactly k squares.\n",
    "The program reads three integers: n, m, and k. It should print YES or NO.\n",
    "\n",
    "For example, on input\n",
    "2\n",
    "10\n",
    "7\n",
    "output must be \n",
    "NO"
   ]
  },
  {
   "cell_type": "code",
   "execution_count": null,
   "metadata": {},
   "outputs": [],
   "source": [
    "n = int(input())\n",
    "m = int(input())\n",
    "k = int(input())\n",
    "\n",
    "possible = False\n",
    "\n",
    "for r in range(1, n-1):\n",
    "  if (n-r)*m == k:\n",
    "    possible = True\n",
    "    break\n",
    "\n",
    "if (possible == False):    \n",
    "    for c in range(1,m-1):\n",
    "        if (m-c)*n ==k:\n",
    "            possible = True\n",
    "            break\n",
    "\n",
    "if (possible == True):\n",
    "    print(\"YES\")\n",
    "else:\n",
    "    print(\"NO\")"
   ]
  },
  {
   "cell_type": "code",
   "execution_count": null,
   "metadata": {},
   "outputs": [],
   "source": []
  }
 ],
 "metadata": {
  "kernelspec": {
   "display_name": "Python 3",
   "language": "python",
   "name": "python3"
  },
  "language_info": {
   "codemirror_mode": {
    "name": "ipython",
    "version": 3
   },
   "file_extension": ".py",
   "mimetype": "text/x-python",
   "name": "python",
   "nbconvert_exporter": "python",
   "pygments_lexer": "ipython3",
   "version": "3.7.3"
  }
 },
 "nbformat": 4,
 "nbformat_minor": 2
}
