{
 "cells": [
  {
   "cell_type": "markdown",
   "metadata": {},
   "source": [
    "### Universal Superclass object\n",
    "There is a standard superclass `object` in Python which every defined class inherits.\n",
    "\n",
    "The following are equivalent:\n",
    "```python\n",
    "class Employee:\n",
    "    #class stuff\n",
    "```\n",
    "```python\n",
    "class Employee(object):\n",
    "    #class stuff\n",
    "```\n",
    "\n",
    "It's the `object` base class that defines some utils methods like the `__str__(self)` method (like C# *toString*).\n",
    "\n",
    "### Constructors\n",
    "#### Call \"super\" (=base) constructor\n",
    "In the child class constructor, simply call `super().__init__()`.\n",
    "\n",
    "\n",
    "#### Multiple constructors\n",
    "Python **does not support multiple constructors**.\n",
    "\n",
    "Luckily for the crazy developers doing python, it supports default parameters e.g. `aMethod(anInput = \"defaultValue\")`\n",
    "\n",
    "The [suggested workaround](https://stackoverflow.com/a/2164279/3873799) is do one huge giant big colossal constructor with all the non-mandatory inputs set with default values. \n",
    "\n",
    "BRILLIANT! THANKS PYTHON!\n",
    "\n",
    "### Inheritance\n",
    "\n",
    "Specify, note, **as an argument in the class declaration**, a certain type you want to inherit from.\n",
    "\n",
    "E.g.:\n",
    "```python\n",
    "class ChildClass(ParentClass):\n",
    "    #class definition\n",
    "```\n",
    "\n",
    "#### The `super()` method\n",
    "`super()` returns you the \"super\" = base class. \n",
    "\n",
    "NOTE 1: this syntax has been introduced in\n",
    "\n",
    "### Attribute overriding\n",
    "*Attributes* = fields, remember.\n",
    "\n",
    "All attributes are **`virtual`** in python. \n",
    "\n",
    "That is, they always can be overridden, simply re-defining them in the child class, using the same name used in the parent class."
   ]
  },
  {
   "cell_type": "markdown",
   "metadata": {},
   "source": [
    "## Full example"
   ]
  },
  {
   "cell_type": "code",
   "execution_count": 47,
   "metadata": {},
   "outputs": [],
   "source": [
    "class Employee:\n",
    "    def __init__(self, name, payrollNum, salary = 0): #python does not support multiple constructors: use default params.\n",
    "        self._name = name\n",
    "        self._payrollNum = payrollNum\n",
    "        self._salary = salary\n",
    "        \n",
    "    def setSalary(self, salary):\n",
    "        self._salary = salary\n",
    "    \n",
    "    def getSalary(self):\n",
    "        return self._salary\n",
    "    \n",
    "    def statusReport(self):\n",
    "        return self._name + \": \"+ self._payrollNum + \", \"+  self._salary + \".\"\n",
    "    \n",
    "    def __str__(self):\n",
    "        return \"Employee class\" #overrides standard toString e.g. '<__main__.TeachingEmployee object at 0x0000022EE7A1C470>'\n",
    "    \n",
    "\n",
    "class AcademicEmployee(Employee):\n",
    "    def __init__(self, name, payrollNum):\n",
    "        super().__init__(name, payrollNum)\n",
    "        self._department = \"N/A\"\n",
    "    def setDepartment(self, dept):\n",
    "        self._department = dept\n",
    "        \n",
    "class TeachingEmployee(AcademicEmployee):\n",
    "    def __init__(self, name, payrollNum):\n",
    "        super().__init__(name, payrollNum) # call \"super\" (base) class constructor. Always put it as first thing.\n",
    "        self._courses = \"N/A\"\n",
    "        \n",
    "    def setCourses(self, courses):\n",
    "        self._courses = courses\n",
    "        \n",
    "    def statusReport(self): #OVERRIDES the AcademicEmployee `statusReport` method, cause it's called the same.\n",
    "        s = self._name + \": \" +  self._payrollNum + \",\" +  self._salary + \", Teaches\" + self._courses +\".\"\n",
    "        return s"
   ]
  },
  {
   "cell_type": "code",
   "execution_count": 48,
   "metadata": {},
   "outputs": [
    {
     "data": {
      "text/plain": [
       "'Employee class'"
      ]
     },
     "execution_count": 48,
     "metadata": {},
     "output_type": "execute_result"
    }
   ],
   "source": [
    "genericEmployee = Employee(\"Paul Cooper\", 1111, 25000)\n",
    "academicEmployee = AcademicEmployee(\"Roger Johnson\", 2222)\n",
    "teachingEmployee = TeachingEmployee(\"Keith Mannock\", 3333)\n",
    "\n",
    "genericEmployee.setSalary(25000)\n",
    "academicEmployee.setSalary(27000)\n",
    "teachingEmployee.setSalary(36000)\n",
    "\n",
    "#genericEmployee.setDepartment (\"Computer Science\") # AttributeError: 'Employee' object has no attribute 'setDepartment'\n",
    "academicEmployee.setDepartment(\"Computer Science\")\n",
    "teachingEmployee.setDepartment(\"Computer Science\")\n",
    "\n",
    "#genericEmployee.setCourses(\"PoP1, PoP2\") # AttributeError: 'Employee' object has no attribute 'setCourses'\n",
    "#academicEmployee.setCourses(\"PoP1, PoP2\") # AttributeError: 'AcademicEmployee' object has no attribute 'setCourses'\n",
    "teachingEmployee.setCourses(\"PoP1, PoP2\")\n",
    "\n",
    "str(teachingEmployee)"
   ]
  },
  {
   "cell_type": "markdown",
   "metadata": {},
   "source": [
    "## Polymorphism"
   ]
  },
  {
   "cell_type": "code",
   "execution_count": 50,
   "metadata": {},
   "outputs": [
    {
     "name": "stdout",
     "output_type": "stream",
     "text": [
      "Employee salary is above 35000\n"
     ]
    }
   ],
   "source": [
    "def getSalaryRange(emp): #written assuming emp is Employee and added getSalary(self)\n",
    "    if emp.getSalary() > 35000:\n",
    "        print (\"Employee salary is above 35000\")\n",
    "    elif emp.getSalary() < 35000 and emp.getSalary() > 25000:\n",
    "        print (\"Employee salary is between 25000 and 35000\")\n",
    "    else:\n",
    "        print (\"Employee salary is below 25000\")\n",
    "\n",
    "getSalaryRange(teachingEmployee)"
   ]
  },
  {
   "cell_type": "markdown",
   "metadata": {},
   "source": [
    "## Global variables"
   ]
  },
  {
   "cell_type": "markdown",
   "metadata": {},
   "source": [
    "Global variables normally work also for classes.\n",
    "\n",
    "Python actually defines some *binding modifiers* for declared variables: `global` and `nonlocal`.\n",
    "\n",
    "- `global` **creates a variable as global** even if it's nested in the scope of a function.\n",
    "- `nonlocal` **binds** to a variable up one level in a nested method --> you need to have it declared one level up.\n",
    "\n",
    "\n",
    "See https://stackoverflow.com/a/1261961/3873799"
   ]
  },
  {
   "cell_type": "markdown",
   "metadata": {},
   "source": [
    "####  `nonlocal` binding modifier"
   ]
  },
  {
   "cell_type": "code",
   "execution_count": 80,
   "metadata": {},
   "outputs": [
    {
     "name": "stdout",
     "output_type": "stream",
     "text": [
      "Value of x in nestedMethod: 2\n",
      "Value of x in outerMethod: 2\n",
      "Value of x in global scope: 0\n"
     ]
    }
   ],
   "source": [
    "x = 0\n",
    "\n",
    "def outerMethod():\n",
    "    x = 1 # commenting this would throw `SyntaxError: no binding for nonlocal 'x' found`\n",
    "    \n",
    "    def nestedMethod():\n",
    "        nonlocal x\n",
    "        x = 2\n",
    "        print(\"Value of x in nestedMethod:\", x)\n",
    "\n",
    "    nestedMethod()\n",
    "    print(\"Value of x in outerMethod:\", x)\n",
    "\n",
    "outerMethod()\n",
    "print(\"Value of x in global scope:\", x)"
   ]
  },
  {
   "cell_type": "markdown",
   "metadata": {},
   "source": [
    "#### `global` modifier"
   ]
  },
  {
   "cell_type": "code",
   "execution_count": 82,
   "metadata": {},
   "outputs": [
    {
     "name": "stdout",
     "output_type": "stream",
     "text": [
      "Value of x in nestedMethod: 2\n",
      "Value of x in outerMethod: 1\n",
      "Value of x in global scope: 2\n"
     ]
    }
   ],
   "source": [
    "# `global` BINDING MODIFIER\n",
    "\n",
    "#x = 0 # commenting this DOES NOT THROW ERROR.would throw `SyntaxError: no binding for global 'x' found`\n",
    "\n",
    "def outerMethod():\n",
    "    x = 1 \n",
    "    \n",
    "    def nestedMethod():\n",
    "        global x\n",
    "        x = 2\n",
    "        print(\"Value of x in nestedMethod:\", x)\n",
    "\n",
    "    nestedMethod()\n",
    "    print(\"Value of x in outerMethod:\", x)\n",
    "\n",
    "outerMethod()\n",
    "print(\"Value of x in global scope:\", x)"
   ]
  },
  {
   "cell_type": "markdown",
   "metadata": {},
   "source": [
    "#### no modifiers"
   ]
  },
  {
   "cell_type": "code",
   "execution_count": 83,
   "metadata": {},
   "outputs": [
    {
     "name": "stdout",
     "output_type": "stream",
     "text": [
      "Value of x in nestedMethod: 2\n",
      "Value of x in outerMethod: 1\n",
      "Value of x in global scope: 0\n"
     ]
    }
   ],
   "source": [
    "x = 0\n",
    "\n",
    "def outerMethod():\n",
    "    x = 1\n",
    "    \n",
    "    def nestedMethod():\n",
    "        x = 2\n",
    "        print(\"Value of x in nestedMethod:\", x)\n",
    "\n",
    "    nestedMethod()\n",
    "    print(\"Value of x in outerMethod:\", x)\n",
    "\n",
    "outerMethod()\n",
    "print(\"Value of x in global scope:\", x)"
   ]
  },
  {
   "cell_type": "code",
   "execution_count": null,
   "metadata": {},
   "outputs": [],
   "source": []
  }
 ],
 "metadata": {
  "kernelspec": {
   "display_name": "Python 3",
   "language": "python",
   "name": "python3"
  },
  "language_info": {
   "codemirror_mode": {
    "name": "ipython",
    "version": 3
   },
   "file_extension": ".py",
   "mimetype": "text/x-python",
   "name": "python",
   "nbconvert_exporter": "python",
   "pygments_lexer": "ipython3",
   "version": "3.6.5"
  }
 },
 "nbformat": 4,
 "nbformat_minor": 2
}
