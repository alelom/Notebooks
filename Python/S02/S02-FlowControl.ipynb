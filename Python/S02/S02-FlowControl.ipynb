{
 "cells": [
  {
   "cell_type": "markdown",
   "metadata": {},
   "source": [
    "## 01\n",
    "For a given integer N, print all the squares of integer numbers where the square is less than or equal to N, in ascending order.\n",
    "\n",
    "For example, on input\n",
    "10\n",
    "output must be\n",
    "1 4 9"
   ]
  },
  {
   "cell_type": "code",
   "execution_count": null,
   "metadata": {},
   "outputs": [],
   "source": [
    "N = int(input())\n",
    "\n",
    "if (N==1):\n",
    "    print(N)\n",
    "else:\n",
    "    for i in range(1, N):\n",
    "        if(i*i <= N):\n",
    "            print(i*i)"
   ]
  },
  {
   "cell_type": "markdown",
   "metadata": {},
   "source": [
    "## 02\n",
    "Given an integer not less than 2. Print its smallest integer divisor greater than 1. \n",
    "\n",
    "For example, on input\n",
    "9\n",
    "output must be\n",
    "3"
   ]
  },
  {
   "cell_type": "code",
   "execution_count": 1,
   "metadata": {},
   "outputs": [
    {
     "name": "stdout",
     "output_type": "stream",
     "text": [
      "3\n"
     ]
    }
   ],
   "source": [
    "N = int(input())\n",
    "\n",
    "for i in range(2, N+1):\n",
    "    if(N % i== 0):\n",
    "        print(i)\n",
    "        break"
   ]
  },
  {
   "cell_type": "markdown",
   "metadata": {},
   "source": [
    "## 03\n",
    " For a given integer N, find the greatest integer x where 2 to the power of x is less than or equal to N. Print the exponent value x and the result of 2 to the power of x.\n",
    "\n",
    "For example, on input\n",
    "20\n",
    "output must be\n",
    "4 16\n",
    "\n",
    "Advise. Try not to use ** operator. This makes the problem a bit more challenging."
   ]
  },
  {
   "cell_type": "code",
   "execution_count": null,
   "metadata": {},
   "outputs": [],
   "source": [
    "N = int(input())\n",
    "\n",
    "for i in range(N,0,-1):\n",
    "    power = 2**i\n",
    "    if power <= N:\n",
    "        print(i)\n",
    "        print(power)\n",
    "        break"
   ]
  },
  {
   "cell_type": "markdown",
   "metadata": {},
   "source": [
    "## 04\n",
    "Given a sequence of non-negative integers, where each number is written in a separate line. Determine the length of the sequence, where the sequence ends when the integer is equal to 0. Print the length of the sequence (not counting the integer 0). \n",
    "\n",
    "For example, on input\n",
    "3\n",
    "2\n",
    "7\n",
    "0\n",
    "output should be\n",
    "3"
   ]
  },
  {
   "cell_type": "code",
   "execution_count": 7,
   "metadata": {},
   "outputs": [
    {
     "name": "stdout",
     "output_type": "stream",
     "text": [
      "5\n",
      "3\n",
      "0\n",
      "2\n"
     ]
    }
   ],
   "source": [
    "N = int(input())\n",
    "\n",
    "def checkN(N):\n",
    "  length = 0\n",
    "  while N>0:\n",
    "      length+=1\n",
    "      N = int(input())\n",
    "  return length    \n",
    "    \n",
    "print (checkN(N))"
   ]
  },
  {
   "cell_type": "markdown",
   "metadata": {},
   "source": [
    "## 05\n",
    " Determine the sum of all elements in the sequence, ending with the number 0. \n",
    "\n",
    "For example, on input\n",
    "1\n",
    "2\n",
    "3\n",
    "0\n",
    "output must be\n",
    "6"
   ]
  },
  {
   "cell_type": "code",
   "execution_count": null,
   "metadata": {},
   "outputs": [],
   "source": [
    "isZero = False\n",
    "total = 0\n",
    "\n",
    "while(not isZero):\n",
    "    N = int(input())\n",
    "    if N == 0:\n",
    "        print(total)\n",
    "        isZero = True\n",
    "    else:\n",
    "        total+=N"
   ]
  },
  {
   "cell_type": "markdown",
   "metadata": {},
   "source": [
    "## 06 1/2\n",
    "A sequence consists of integer numbers and ends with the number 0. Determine the largest element of the sequence. \n",
    "\n",
    "For example, on input\n",
    "4\n",
    "7\n",
    "2\n",
    "0\n",
    "output must be\n",
    "7"
   ]
  },
  {
   "cell_type": "code",
   "execution_count": null,
   "metadata": {},
   "outputs": [],
   "source": [
    "isZero = False\n",
    "largest = 0\n",
    "\n",
    "while(not isZero):\n",
    "    N = int(input())\n",
    "    if N == 0:\n",
    "        print(largest)\n",
    "        isZero = True\n",
    "    elif N > largest:\n",
    "        largest = N"
   ]
  },
  {
   "cell_type": "markdown",
   "metadata": {},
   "source": [
    "# 06\n",
    "\n",
    "Determine the average a of all elements of the sequence ending with the number 0. \n",
    "\n",
    "Note. Print only the integer part of a (ignore fractional part).\n",
    "\n",
    "For example, on input\n",
    "1\n",
    "2\n",
    "4\n",
    "0\n",
    "output must be\n",
    "2"
   ]
  },
  {
   "cell_type": "code",
   "execution_count": 3,
   "metadata": {},
   "outputs": [
    {
     "name": "stdout",
     "output_type": "stream",
     "text": [
      "1\n",
      "2\n",
      "0\n",
      "1\n"
     ]
    }
   ],
   "source": [
    "isZero = False\n",
    "total = 0\n",
    "totalNos = 0\n",
    "\n",
    "while(not isZero):\n",
    "    N = int(input())\n",
    "    if N == 0:\n",
    "        isZero = True\n",
    "    else:\n",
    "        total += N\n",
    "        totalNos+=1\n",
    "print((int)(total//totalNos))"
   ]
  },
  {
   "cell_type": "markdown",
   "metadata": {},
   "source": [
    "## 07\n",
    " A sequence consists of integer numbers and ends with the number 0. Determine the index of the largest element of the sequence. If the largest element is not unique, print the index of the first of them. \n",
    "\n",
    "Assume that indexing starts with 0, i.e., the first element in the sequence has index 0, the following element has index 1, etc.\n",
    "\n",
    "For example, on input\n",
    "2\n",
    "8\n",
    "12\n",
    "9\n",
    "12\n",
    "0\n",
    "output must be\n",
    "2"
   ]
  },
  {
   "cell_type": "code",
   "execution_count": 4,
   "metadata": {},
   "outputs": [
    {
     "name": "stdout",
     "output_type": "stream",
     "text": [
      "1\n",
      "\n"
     ]
    },
    {
     "ename": "ValueError",
     "evalue": "invalid literal for int() with base 10: ''",
     "output_type": "error",
     "traceback": [
      "\u001b[1;31m---------------------------------------------------------------------------\u001b[0m",
      "\u001b[1;31mValueError\u001b[0m                                Traceback (most recent call last)",
      "\u001b[1;32m<ipython-input-4-cfbf442953ed>\u001b[0m in \u001b[0;36m<module>\u001b[1;34m()\u001b[0m\n\u001b[0;32m      4\u001b[0m \u001b[1;33m\u001b[0m\u001b[0m\n\u001b[0;32m      5\u001b[0m \u001b[1;32mwhile\u001b[0m\u001b[1;33m(\u001b[0m\u001b[1;32mnot\u001b[0m \u001b[0misZero\u001b[0m\u001b[1;33m)\u001b[0m\u001b[1;33m:\u001b[0m\u001b[1;33m\u001b[0m\u001b[0m\n\u001b[1;32m----> 6\u001b[1;33m     \u001b[0mN\u001b[0m \u001b[1;33m=\u001b[0m \u001b[0mint\u001b[0m\u001b[1;33m(\u001b[0m\u001b[0minput\u001b[0m\u001b[1;33m(\u001b[0m\u001b[1;33m)\u001b[0m\u001b[1;33m)\u001b[0m\u001b[1;33m\u001b[0m\u001b[0m\n\u001b[0m\u001b[0;32m      7\u001b[0m     \u001b[1;32mif\u001b[0m \u001b[0mN\u001b[0m \u001b[1;33m==\u001b[0m \u001b[1;36m0\u001b[0m\u001b[1;33m:\u001b[0m\u001b[1;33m\u001b[0m\u001b[0m\n\u001b[0;32m      8\u001b[0m         \u001b[0misZero\u001b[0m \u001b[1;33m=\u001b[0m \u001b[1;32mTrue\u001b[0m\u001b[1;33m\u001b[0m\u001b[0m\n",
      "\u001b[1;31mValueError\u001b[0m: invalid literal for int() with base 10: ''"
     ]
    }
   ],
   "source": [
    "isZero = False\n",
    "largest = 0\n",
    "index = 0\n",
    "index_largest = 0\n",
    "\n",
    "while(not isZero):\n",
    "    N = int(input())\n",
    "    if N == 0:\n",
    "        isZero = True\n",
    "    else:\n",
    "        if N > largest:\n",
    "            index_largest = index\n",
    "            largest = N\n",
    "        index +=1\n",
    "\n",
    "print(index_largest)\n"
   ]
  },
  {
   "cell_type": "markdown",
   "metadata": {},
   "source": [
    "## 08\n",
    "\n",
    "A sequence consists of integer numbers and ends with the number 0. Determine how many elements of this sequence are greater than \n",
    "the preceding one.\n",
    "\n",
    "For example, on input\n",
    "3\n",
    "2\n",
    "3\n",
    "1\n",
    "4\n",
    "4\n",
    "3\n",
    "0\n",
    "output must be\n",
    "2\n"
   ]
  },
  {
   "cell_type": "code",
   "execution_count": null,
   "metadata": {},
   "outputs": [],
   "source": [
    "isZero = False\n",
    "previous = 0\n",
    "tot_larger = 0\n",
    "\n",
    "while(not isZero):\n",
    "    N = int(input())\n",
    "    if N == 0:\n",
    "        isZero = True\n",
    "    else:\n",
    "        if N > previous:\n",
    "            tot_larger+=1\n",
    "        previous = N\n",
    "print(tot_larger)"
   ]
  },
  {
   "cell_type": "markdown",
   "metadata": {},
   "source": [
    "## 09\n",
    "\n",
    "Fibonocci numbers are defined as follows:\n",
    "\n",
    "Zeroth Fibonacci number F(0) is equal 0\n",
    "Second Fibonacci number F(1) is equal 1\n",
    "Third Fibonacci number F(2) is equal F(0) + F(1) is equal 1\n",
    "...\n",
    "Nth Fibonacci number F(N) is equal F(N-1) + F(N-2)\n",
    "\n",
    "Given a nonegative integer N, print the N-th Fibonacci number F(N)\n",
    "\n",
    "For example, on input\n",
    "4\n",
    "output must be\n",
    "3"
   ]
  },
  {
   "cell_type": "code",
   "execution_count": 9,
   "metadata": {},
   "outputs": [
    {
     "name": "stdout",
     "output_type": "stream",
     "text": [
      "4\n",
      "11\n"
     ]
    }
   ],
   "source": [
    "N = int(input())\n",
    "n_1 = 0\n",
    "n_2 = 0\n",
    "sum_fib = 0\n",
    "\n",
    "if (N == 0):\n",
    "  print(0)\n",
    "elif (N == 1):\n",
    "  print(1)\n",
    "else:\n",
    "  for i in range(0, N):\n",
    "    sum_fib += i + n_1\n",
    "    n_1 = i - 1\n",
    "    n_2 = i - 2\n",
    "  print (sum_fib)"
   ]
  },
  {
   "cell_type": "code",
   "execution_count": 44,
   "metadata": {},
   "outputs": [
    {
     "name": "stdout",
     "output_type": "stream",
     "text": [
      "5\n",
      "3\n"
     ]
    }
   ],
   "source": [
    "N = int(input())\n",
    "n_1 = 1 # N - 1\n",
    "n_2 = 0 # N - 2\n",
    "sum_fib = 0\n",
    "\n",
    "if (N == 0):\n",
    "  print(0)\n",
    "elif (N == 1):\n",
    "  print(1)\n",
    "else:\n",
    "  for i in range(2, N):\n",
    "    sum_fib = n_1 + n_2\n",
    "    n_2 = n_1\n",
    "    n_1 = sum_fib\n",
    "  print (n_1)"
   ]
  },
  {
   "cell_type": "markdown",
   "metadata": {},
   "source": [
    "## 10\n",
    "Given two integers A and B (A ≤ B). Print all numbers from A to B inclusively. \n",
    "\n",
    "Recommendation. Use for loops.\n",
    "\n",
    "For example, on input\n",
    "4\n",
    "7\n",
    "output must be\n",
    "4 5 6 7\n"
   ]
  },
  {
   "cell_type": "code",
   "execution_count": 11,
   "metadata": {},
   "outputs": [
    {
     "name": "stdout",
     "output_type": "stream",
     "text": [
      "4\n",
      "7\n",
      "4\n",
      "5\n",
      "6\n",
      "7\n"
     ]
    }
   ],
   "source": [
    "N1 = int(input())\n",
    "N2 = int(input())\n",
    "\n",
    "for i in range(N1,N2+1):\n",
    "    print(i)\n",
    "    "
   ]
  },
  {
   "cell_type": "markdown",
   "metadata": {},
   "source": [
    "## 11\n",
    " Given two integers A and B. Print all numbers from A to B inclusively, in ascending order, if A < B, or in descending order, if A ≥ B. \n",
    "\n",
    "Recommendation. Use for loops.\n",
    "\n",
    "For example, on input\n",
    "4\n",
    "2\n",
    "output must be\n",
    "4 3 2"
   ]
  },
  {
   "cell_type": "code",
   "execution_count": 22,
   "metadata": {},
   "outputs": [
    {
     "name": "stdout",
     "output_type": "stream",
     "text": [
      "7\n",
      "2\n",
      "7\n",
      "6\n",
      "5\n",
      "4\n",
      "3\n",
      "2\n"
     ]
    }
   ],
   "source": [
    "N1 = int(input())\n",
    "N2 = int(input())\n",
    "\n",
    "if (N2>=N1):\n",
    "    dir = 1\n",
    "else:\n",
    "    dir = -1\n",
    " \n",
    "for i in range(N1,N2+dir, dir):\n",
    "    print(i)"
   ]
  },
  {
   "cell_type": "markdown",
   "metadata": {},
   "source": [
    "## 12\n",
    "N numbers are given in the input. Read them and print their sum.\n",
    "\n",
    "The first line of input contains the integer N, which is the number of integers to follow. Each of the next N lines contains one integer. Print the sum of these N integers.\n",
    "\n",
    "Recommendation. Use for loops.\n",
    "\n",
    "For example, on input\n",
    "4\n",
    "7\n",
    "10\n",
    "15\n",
    "3\n",
    "output must be\n",
    "35"
   ]
  },
  {
   "cell_type": "code",
   "execution_count": 23,
   "metadata": {},
   "outputs": [
    {
     "name": "stdout",
     "output_type": "stream",
     "text": [
      "5\n",
      "1\n",
      "2\n",
      "3\n",
      "4\n",
      "5\n",
      "15\n"
     ]
    }
   ],
   "source": [
    "totalNos = int(input())\n",
    "sum = 0\n",
    "\n",
    "for i in range(0, totalNos):\n",
    "    N = int(input())\n",
    "    sum+=N\n",
    "print (sum)"
   ]
  },
  {
   "cell_type": "markdown",
   "metadata": {},
   "source": [
    "## 13\n",
    " In mathematics, the factorial of an integer n, denoted by n! is the following product 1 x 2 x ... x n\n",
    "\n",
    " For the given integer n calculate the value of n!\n",
    "\n",
    "Recommendation. Use for loops.\n",
    "\n",
    "For example, on input\n",
    "4\n",
    "output must be\n",
    "24  "
   ]
  },
  {
   "cell_type": "code",
   "execution_count": 29,
   "metadata": {},
   "outputs": [
    {
     "name": "stdout",
     "output_type": "stream",
     "text": [
      "3\n",
      "6\n"
     ]
    }
   ],
   "source": [
    "N = int(input())\n",
    "factorial = 1\n",
    "\n",
    "if(N > 0):\n",
    "    for i in range(1, N+1):\n",
    "        factorial *=i\n",
    "\n",
    "print(factorial)"
   ]
  },
  {
   "cell_type": "markdown",
   "metadata": {},
   "source": [
    "## 14\n",
    " Given N numbers: the first number in the input is N, after that N integers are given. Count the number of zeros among the given integers and print it. You need to count the number of numbers that are equal to zero, not the number of zero digits.\n",
    "\n",
    "Recommendation. Use for loops.\n",
    "\n",
    "For example, on input\n",
    "4\n",
    "1\n",
    "0\n",
    "3\n",
    "0\n",
    "output must be\n",
    "2"
   ]
  },
  {
   "cell_type": "code",
   "execution_count": null,
   "metadata": {},
   "outputs": [],
   "source": [
    "N = int(input())\n",
    "tot_zero = 0\n",
    "\n",
    "for i in range(1, N+1):\n",
    "    number = int(input())\n",
    "    if (number == 0):\n",
    "        tot_zero +=1\n",
    "\n",
    "print(tot_zero)"
   ]
  },
  {
   "cell_type": "markdown",
   "metadata": {},
   "source": [
    "## 15\n",
    "\n",
    "There was a set of cards with numbers from 1 to N. One of the card is now lost. Determine the number on that lost card given the numbers for the remaining cards.\n",
    "Given a number N, followed by N − 1 integers - representing the numbers on the remaining cards (distinct integers in the range from 1 to N). Find and print the number on the lost card.\n",
    "\n",
    "Recommendation. Use for loops.\n",
    "\n",
    "For example, on input\n",
    "4\n",
    "3\n",
    "1\n",
    "4\n",
    "output must be\n",
    "2"
   ]
  },
  {
   "cell_type": "code",
   "execution_count": null,
   "metadata": {},
   "outputs": [],
   "source": [
    "N = int(input())\n",
    "previous_No = 0\n",
    "lost_No = 0\n",
    "\n",
    "allNos = list(range(1,N+1))\n",
    "\n",
    "for i in range(1, N):\n",
    "    number = int(input())\n",
    "    allNos[number-1] = 0\n",
    "    \n",
    "for i in range(1,N):\n",
    "    lost_No+=allNos[i]\n",
    "    \n",
    "print(lost_No)"
   ]
  },
  {
   "cell_type": "markdown",
   "metadata": {},
   "source": [
    "## 16\n",
    "Give two numbers N and M, print the multiplication table with N rows and M columns. In the cell at the row i and column j print the value of i*j. The cells must be separated by space horizontally.\n",
    "\n",
    "Hint. Use nested loops.\n",
    "\n",
    "For example, on input\n",
    "5\n",
    "3\n",
    "output must be  \n",
    "1 2 3  \n",
    "2 4 6  \n",
    "3 6 9  \n",
    "4 8 12  \n",
    "5 10 15  "
   ]
  },
  {
   "cell_type": "code",
   "execution_count": 5,
   "metadata": {},
   "outputs": [
    {
     "name": "stdout",
     "output_type": "stream",
     "text": [
      "5\n",
      "3\n",
      "1\n",
      "2\n",
      "3\n",
      "\n",
      "\n",
      "2\n",
      "4\n",
      "6\n",
      "\n",
      "\n",
      "3\n",
      "6\n",
      "9\n",
      "\n",
      "\n",
      "4\n",
      "8\n",
      "12\n",
      "\n",
      "\n",
      "5\n",
      "10\n",
      "15\n",
      "\n",
      "\n"
     ]
    }
   ],
   "source": [
    "N = int(input())\n",
    "M = int(input())\n",
    "\n",
    "for i in range(1, N+1):\n",
    "    for j in range(1,M+1):\n",
    "        print(i*j)\n",
    "    print(\"\\n\")\n",
    "        "
   ]
  },
  {
   "cell_type": "markdown",
   "metadata": {},
   "source": [
    "## 17\n",
    "Implement a function max_three(num1, num2, num3) that returns the maximal of three numbers num1, num2, num3.\n",
    "\n",
    "Note. You must use functions in this excercise. Do not change the name of the required function.\n",
    "\n",
    "For example, the result of \n",
    "n = max_three(4,2,5)\n",
    "print(n)\n",
    "must be\n",
    "5\n"
   ]
  },
  {
   "cell_type": "code",
   "execution_count": 7,
   "metadata": {},
   "outputs": [
    {
     "name": "stdout",
     "output_type": "stream",
     "text": [
      "5\n"
     ]
    }
   ],
   "source": [
    "def max_three(num1, num2, num3):\n",
    "    if(num1>num2):\n",
    "        if(num1>num3):\n",
    "            return(num1)\n",
    "        else:\n",
    "            return(num3)\n",
    "    elif(num2>num3):\n",
    "        if(num2>num1):\n",
    "            return(num2)\n",
    "        else:\n",
    "            return(num1)\n",
    "    else:\n",
    "        return(num1)\n",
    "\n",
    "n = max_three(4,2,5)\n",
    "print(n)"
   ]
  },
  {
   "cell_type": "markdown",
   "metadata": {},
   "source": [
    "## 18\n",
    "\n",
    "Instructions from your teacher:\n",
    "Write a function distance(x1,y1,x2,y2) to compute the distance between the points (x1, y1) and (x2, y2).\n",
    "\n",
    "Use the well-known formula (recall Pyhagorean theorem).\n",
    "\n",
    "For computing the square root of a number N you can use the function math.sqrt() from the Python math library imported in the first line of the program. \n",
    "\n",
    "Note. It is mandatory to use functions for this exercise. Required function name cannot be changed. \n",
    "\n",
    "For example, the output of\n",
    "d = distance(1,2,6,8)\n",
    "print(d)  \n",
    "must be\n",
    "7.810249675906654\n",
    "\n"
   ]
  },
  {
   "cell_type": "code",
   "execution_count": null,
   "metadata": {},
   "outputs": [],
   "source": []
  },
  {
   "cell_type": "markdown",
   "metadata": {},
   "source": [
    "## 19\n",
    "Implement a function concat(s1, s2) concatenating the string s1 with s2 and adding a space inbetween.\n",
    "\n",
    "For example, the result of\n",
    "s = concat(\"John\", \"Doe\")\n",
    "print(s)\n",
    "must be\n",
    "John Doe"
   ]
  },
  {
   "cell_type": "code",
   "execution_count": 8,
   "metadata": {},
   "outputs": [
    {
     "ename": "NameError",
     "evalue": "name 'concat' is not defined",
     "output_type": "error",
     "traceback": [
      "\u001b[1;31m---------------------------------------------------------------------------\u001b[0m",
      "\u001b[1;31mNameError\u001b[0m                                 Traceback (most recent call last)",
      "\u001b[1;32m<ipython-input-8-c3d3cb1ec8c1>\u001b[0m in \u001b[0;36m<module>\u001b[1;34m()\u001b[0m\n\u001b[0;32m      1\u001b[0m \u001b[1;34m'''provide implementation here'''\u001b[0m\u001b[1;33m\u001b[0m\u001b[0m\n\u001b[0;32m      2\u001b[0m \u001b[1;33m\u001b[0m\u001b[0m\n\u001b[1;32m----> 3\u001b[1;33m \u001b[0ms\u001b[0m \u001b[1;33m=\u001b[0m \u001b[0mconcat\u001b[0m\u001b[1;33m(\u001b[0m\u001b[1;34m\"John\"\u001b[0m\u001b[1;33m,\u001b[0m \u001b[1;34m\"Doe\"\u001b[0m\u001b[1;33m)\u001b[0m\u001b[1;33m\u001b[0m\u001b[0m\n\u001b[0m\u001b[0;32m      4\u001b[0m \u001b[0mprint\u001b[0m\u001b[1;33m(\u001b[0m\u001b[0ms\u001b[0m\u001b[1;33m)\u001b[0m\u001b[1;33m\u001b[0m\u001b[0m\n",
      "\u001b[1;31mNameError\u001b[0m: name 'concat' is not defined"
     ]
    }
   ],
   "source": [
    "'''provide implementation here'''\n",
    "\n",
    "s = concat(\"John\", \"Doe\")\n",
    "print(s)"
   ]
  },
  {
   "cell_type": "markdown",
   "metadata": {},
   "source": [
    "## 20\n",
    "Distance between 2 points"
   ]
  },
  {
   "cell_type": "code",
   "execution_count": 6,
   "metadata": {
    "scrolled": true
   },
   "outputs": [
    {
     "name": "stdout",
     "output_type": "stream",
     "text": [
      "1\n",
      "2\n",
      "6\n",
      "8\n",
      "7.76393202250021\n"
     ]
    }
   ],
   "source": [
    "import math\n",
    "\n",
    "'''\n",
    "provide your implementation\n",
    "'''\n",
    "def distance(x1,y1,x2,y2):\n",
    "  return abs(math.sqrt(x1**2+y1**2) - math.sqrt(x2**2 + y2**2))\n",
    "\n",
    "print(distance(int(input()),int(input()),int(input()),int(input())))"
   ]
  },
  {
   "cell_type": "code",
   "execution_count": 7,
   "metadata": {},
   "outputs": [
    {
     "name": "stdout",
     "output_type": "stream",
     "text": [
      "1\n",
      "2\n",
      "6\n",
      "8\n",
      "7.810249675906654\n"
     ]
    }
   ],
   "source": [
    "import math\n",
    "\n",
    "'''\n",
    "provide your implementation\n",
    "'''\n",
    "def distance(x1,y1,x2,y2):\n",
    "  return math.sqrt((x1-x2)**2 + (y1-y2)**2)\n",
    "\n",
    "print(distance(int(input()),int(input()),int(input()),int(input())))"
   ]
  },
  {
   "cell_type": "code",
   "execution_count": 9,
   "metadata": {},
   "outputs": [
    {
     "name": "stdout",
     "output_type": "stream",
     "text": [
      "2\n"
     ]
    }
   ],
   "source": [
    "for i in range (2,3):\n",
    "    print(i)"
   ]
  },
  {
   "cell_type": "code",
   "execution_count": null,
   "metadata": {},
   "outputs": [],
   "source": []
  }
 ],
 "metadata": {
  "kernelspec": {
   "display_name": "Python 3",
   "language": "python",
   "name": "python3"
  },
  "language_info": {
   "codemirror_mode": {
    "name": "ipython",
    "version": 3
   },
   "file_extension": ".py",
   "mimetype": "text/x-python",
   "name": "python",
   "nbconvert_exporter": "python",
   "pygments_lexer": "ipython3",
   "version": "3.7.3"
  }
 },
 "nbformat": 4,
 "nbformat_minor": 2
}
