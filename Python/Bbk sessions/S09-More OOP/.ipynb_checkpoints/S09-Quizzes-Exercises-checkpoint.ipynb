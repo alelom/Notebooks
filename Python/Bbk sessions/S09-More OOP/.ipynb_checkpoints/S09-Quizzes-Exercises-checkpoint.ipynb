{
 "cells": [
  {
   "cell_type": "markdown",
   "metadata": {},
   "source": [
    "# Quizzes"
   ]
  },
  {
   "cell_type": "code",
   "execution_count": 4,
   "metadata": {},
   "outputs": [],
   "source": [
    "class Employee:\n",
    "    def __init__(self, payroll_n):\n",
    "        self._payroll_number = payroll_n\n",
    "        self._salary = None\n",
    "\n",
    "    def update_payroll(self, payroll_n):\n",
    "        self._payroll_number = payroll_n\n",
    "\n",
    "    def update_salary(self, sal):\n",
    "        self._salary = sal\n",
    "\n",
    "    def get_salary(self):\n",
    "        return self._salary\n",
    "\n",
    "    def get_payroll(self):\n",
    "        return self._payroll_number\n",
    "\n",
    "    def str_info(self):\n",
    "        return \"Payroll number: \" + str(self._payroll_number) + \", \" \\\n",
    "            \"Salary: \" +  str(self._salary) +\".\" \n",
    "\n",
    "class AcademicEmployee(Employee):\n",
    "    def __init__(self, payroll_n, dep):\n",
    "        super().__init__(payroll_n)\n",
    "        self._department = dep\n",
    "\n",
    "    def update_department(self, dep):\n",
    "        self._department = dep\n",
    "\n",
    "    def get_department(self):\n",
    "        return self._department\n",
    "\n",
    "    def str_info(self):\n",
    "         return \"Payroll number: \" + str(self._payroll_number) + \", \" \\\n",
    "                   \"Salary: \" +  str(self._salary) + \",\"\\\n",
    "                  \"Department: \" + str(self._department)+\".\""
   ]
  },
  {
   "cell_type": "code",
   "execution_count": 5,
   "metadata": {},
   "outputs": [
    {
     "ename": "TypeError",
     "evalue": "__init__() missing 1 required positional argument: 'dep'",
     "output_type": "error",
     "traceback": [
      "\u001b[1;31m---------------------------------------------------------------------------\u001b[0m",
      "\u001b[1;31mTypeError\u001b[0m                                 Traceback (most recent call last)",
      "\u001b[1;32m<ipython-input-5-64c661422ebd>\u001b[0m in \u001b[0;36m<module>\u001b[1;34m()\u001b[0m\n\u001b[1;32m----> 1\u001b[1;33m \u001b[0me2\u001b[0m \u001b[1;33m=\u001b[0m \u001b[0mAcademicEmployee\u001b[0m\u001b[1;33m(\u001b[0m\u001b[1;36m5678\u001b[0m\u001b[1;33m)\u001b[0m\u001b[1;33m\u001b[0m\u001b[0m\n\u001b[0m\u001b[0;32m      2\u001b[0m \u001b[0me2\u001b[0m\u001b[1;33m.\u001b[0m\u001b[0mupdate_department\u001b[0m\u001b[1;33m(\u001b[0m\u001b[1;34m\"Computer Science\"\u001b[0m\u001b[1;33m)\u001b[0m\u001b[1;33m\u001b[0m\u001b[0m\n",
      "\u001b[1;31mTypeError\u001b[0m: __init__() missing 1 required positional argument: 'dep'"
     ]
    }
   ],
   "source": [
    "e2 = AcademicEmployee(5678)\n",
    "e2.update_department(\"Computer Science\")"
   ]
  },
  {
   "cell_type": "code",
   "execution_count": 6,
   "metadata": {},
   "outputs": [
    {
     "name": "stdout",
     "output_type": "stream",
     "text": [
      "Payroll number: 1234, Salary: 30000.\n",
      "Payroll number: 5678, Salary: 40000,Department: Computer Science.\n"
     ]
    }
   ],
   "source": [
    "def print_info(x): #this function takes an argument x of type Employee and prints information\n",
    "    print(x.str_info())\n",
    "\n",
    "e1 = Employee(1234)\n",
    "e2 = AcademicEmployee(5678, \"Computer Science\")\n",
    "\n",
    "e1.update_salary(30000)\n",
    "e2.update_salary(40000)\n",
    "\n",
    "print_info(e1)\n",
    "print_info(e2)"
   ]
  },
  {
   "cell_type": "code",
   "execution_count": 7,
   "metadata": {},
   "outputs": [],
   "source": [
    "list_of_employees = []\n",
    "\n",
    "new_emp = Employee(1234)\n",
    "list_of_employees.append(new_emp)\n",
    "\n",
    "new_emp = Employee(5678)\n",
    "list_of_employees.append(new_emp)\n",
    "\n",
    "list_of_employees[0].update_salary(40000)"
   ]
  },
  {
   "cell_type": "code",
   "execution_count": 8,
   "metadata": {},
   "outputs": [],
   "source": [
    "e1 = Employee(1234)\n",
    "e2 = AcademicEmployee(5678, \"Computer Science\")\n",
    "\n",
    "e1.update_salary(30000)\n",
    "e2.update_salary(40000)"
   ]
  },
  {
   "cell_type": "code",
   "execution_count": 9,
   "metadata": {},
   "outputs": [
    {
     "data": {
      "text/plain": [
       "'Payroll number: 5678, Salary: 40000,Department: Medicine.'"
      ]
     },
     "execution_count": 9,
     "metadata": {},
     "output_type": "execute_result"
    }
   ],
   "source": [
    "e1 = Employee(1234)\n",
    "e2 = AcademicEmployee(5678, \"Computer Science\")\n",
    "\n",
    "e1.update_salary(30000)\n",
    "e2.update_salary(40000)\n",
    "\n",
    "e2.update_department(\"Medicine\")\n",
    "\n",
    "e1.str_info()\n",
    "e2.str_info()"
   ]
  },
  {
   "cell_type": "code",
   "execution_count": 10,
   "metadata": {},
   "outputs": [
    {
     "ename": "AttributeError",
     "evalue": "'Employee' object has no attribute 'update_department'",
     "output_type": "error",
     "traceback": [
      "\u001b[1;31m---------------------------------------------------------------------------\u001b[0m",
      "\u001b[1;31mAttributeError\u001b[0m                            Traceback (most recent call last)",
      "\u001b[1;32m<ipython-input-10-b15a366919c7>\u001b[0m in \u001b[0;36m<module>\u001b[1;34m()\u001b[0m\n\u001b[0;32m      2\u001b[0m \u001b[0me2\u001b[0m \u001b[1;33m=\u001b[0m \u001b[0mAcademicEmployee\u001b[0m\u001b[1;33m(\u001b[0m\u001b[1;36m5678\u001b[0m\u001b[1;33m,\u001b[0m \u001b[1;34m\"Computer Science\"\u001b[0m\u001b[1;33m)\u001b[0m\u001b[1;33m\u001b[0m\u001b[0m\n\u001b[0;32m      3\u001b[0m \u001b[1;33m\u001b[0m\u001b[0m\n\u001b[1;32m----> 4\u001b[1;33m \u001b[0me1\u001b[0m\u001b[1;33m.\u001b[0m\u001b[0mupdate_department\u001b[0m\u001b[1;33m(\u001b[0m\u001b[1;34m\"Medicine\"\u001b[0m\u001b[1;33m)\u001b[0m\u001b[1;33m\u001b[0m\u001b[0m\n\u001b[0m\u001b[0;32m      5\u001b[0m \u001b[0me2\u001b[0m\u001b[1;33m.\u001b[0m\u001b[0mupdate_department\u001b[0m\u001b[1;33m(\u001b[0m\u001b[1;34m\"Medicine\"\u001b[0m\u001b[1;33m)\u001b[0m\u001b[1;33m\u001b[0m\u001b[0m\n",
      "\u001b[1;31mAttributeError\u001b[0m: 'Employee' object has no attribute 'update_department'"
     ]
    }
   ],
   "source": [
    "e1 = Employee(1234)\n",
    "e2 = AcademicEmployee(5678, \"Computer Science\")\n",
    "\n",
    "e1.update_department(\"Medicine\")\n",
    "e2.update_department(\"Medicine\")"
   ]
  },
  {
   "cell_type": "markdown",
   "metadata": {},
   "source": [
    "## Repl Exercises"
   ]
  },
  {
   "cell_type": "markdown",
   "metadata": {},
   "source": [
    "## 01\n",
    "The following class templates handle information about a person and individual and shared (joint) bank accounts. Complete the implementation of the classes using the pattern below (see lines marked with TD). Do not use inheritance to answer this question (this comes in Problem 2)"
   ]
  },
  {
   "cell_type": "code",
   "execution_count": 64,
   "metadata": {},
   "outputs": [],
   "source": [
    "class Person:\n",
    "    '''to handle person's details'''\n",
    "    def __init__(self, fn, ln):\n",
    "        self.first_name = fn\n",
    "        self.last_name = ln\n",
    "        self.address = None #addresses stored as strings\n",
    "    def set_address(self, adr):\n",
    "        self.address = adr #strings\n",
    "\n",
    "class IndividualBankAccount:\n",
    "    '''to handle individual bank account data'''\n",
    "    def __init__(self, sort_code, account_number, owner):\n",
    "        '''TD implement this; creates a bank account\n",
    "        with sort code as string, account number as string,\n",
    "        and owner as Person'''\n",
    "        self.sort_code = str(sort_code)\n",
    "        self.account_number = str(account_number)\n",
    "        self.owner = owner\n",
    "    def set_sort_code(self, sort_code):\n",
    "        '''TD implement this; updates sort code'''\n",
    "        self.sort_code = sort_code\n",
    "    def get_sort_code(self):\n",
    "        '''TD implement this; returns sort code'''\n",
    "        return self.sort_code\n",
    "    def set_account_number(self, account_number):\n",
    "        '''TD implement this; updates account number'''\n",
    "        self.account_number = account_number\n",
    "    def get_account_number(self):\n",
    "        '''TD implement this; returns account number'''\n",
    "        return self.account_number\n",
    "    def get_account_data(self):\n",
    "        '''TD implement this; returns string \"FN LN SC AN\"\n",
    "        where FN and LN are owner's first and last names,\n",
    "        SC is sort code, AN is account number'''\n",
    "        return \" \".join([self.owner.first_name, self.owner.last_name, self.sort_code, self.account_number])\n",
    "\n",
    "class SharedBankAccount:\n",
    "    '''to handle data of an account that has several owners'''\n",
    "    def __init__(self, sort_code, account_number, owners):\n",
    "        '''TD implement this; creates a bank account\n",
    "        with sort code as string, account number as string,\n",
    "        and owners as a list of Persons'''\n",
    "        self.sort_code = str(sort_code)\n",
    "        self.account_number = str(account_number)\n",
    "        self.owners = owners\n",
    "        \n",
    "    def set_sort_code(self, sort_code):\n",
    "        '''TD implement this; updates sort code'''\n",
    "        self.sort_code = sort_code\n",
    "    def get_sort_code(self):\n",
    "        '''TD implement this; returns sort code'''\n",
    "        return self.sort_code\n",
    "    def set_account_number(self, account_number):\n",
    "        '''TD implement this; updates account number'''\n",
    "        self.account_number = account_number\n",
    "    def get_account_number(self):\n",
    "        '''TD implement this; returns account number'''\n",
    "        return self.account_number\n",
    "    def get_account_data(self):\n",
    "        '''TD implement this; returns string\n",
    "        \"FN1 LN1, FN2 LN2, ..., FNM LNM, SC AN\"\n",
    "        where FNi LNi is the i-th owner first and last names,\n",
    "        SC is sort code, AN is account number'''\n",
    "        result = \"\"\n",
    "        for x in self.owners:\n",
    "            result += x.first_name + \" \" + x.last_name + \", \"\n",
    "        return result[0:len(result)-1] + \" \" + self.sort_code + \" \" + self.account_number"
   ]
  },
  {
   "cell_type": "code",
   "execution_count": 65,
   "metadata": {},
   "outputs": [
    {
     "name": "stdout",
     "output_type": "stream",
     "text": [
      "True\n",
      "True\n",
      "True\n",
      "True\n",
      "True\n",
      "John Doe, Mary Ann, 11-22-33 11223344\n"
     ]
    }
   ],
   "source": [
    "john01 = Person(\"John\", \"Doe\")\n",
    "john01.set_address(\"Birkbeck, Malet st., WC1E 7HX\")\n",
    "john01s_account = IndividualBankAccount(\"12-34-56\", \"12345678\", john01)\n",
    "#Test1 checks john01s_account.get_account_data()==\"John Doe 12-34-56 12345678\"\n",
    "print(john01s_account.get_account_data()==\"John Doe 12-34-56 12345678\")\n",
    "john01s_account.set_sort_code(\"11-11-11\")\n",
    "#Test2 check john01s_account.get_sort_code()==\"11-11-11\"\n",
    "print(john01s_account.get_sort_code()==\"11-11-11\")\n",
    "\n",
    "mary01 = Person(\"Mary\", \"Ann\")\n",
    "mary01.set_address(\"UCL, Gower st., WC1E 6BT\")\n",
    "mary01s_account = IndividualBankAccount(\"65-43-21\", \"87654321\", mary01)\n",
    "#Test3 checks mary01s_account.get_account_data()==\"Mary Ann 65-43-21 87654321\"\n",
    "print(mary01s_account.get_account_data()==\"Mary Ann 65-43-21 87654321\")\n",
    "mary01s_account.set_account_number(\"99999999\")\n",
    "#Test4 checks mary01s_account.get_account_number()==\"99999999\"\n",
    "print(mary01s_account.get_account_number()==\"99999999\")\n",
    "\n",
    "acc02 = SharedBankAccount(\"11-22-33\", \"11223344\", [john01, mary01])\n",
    "#Test5 checks acc02.get_account_data()==\"John Doe, Mary Ann, 11-22-33 11223344\"\n",
    "print(acc02.get_account_data()==\"John Doe, Mary Ann, 11-22-33 11223344\")\n",
    "print(acc02.get_account_data())"
   ]
  },
  {
   "cell_type": "markdown",
   "metadata": {},
   "source": [
    "## 02\n",
    "Assuming that you are starting with this problem after completing the Bank Account Classes problem (which is recommended), you must have noticed that the code in Bank Account Classes is highly redundant (contains large duplications). The purpose of this problem is to refactor that code using inheritance. Complete the implementation of the new classes using the pattern on the right (see lines marked with TD). See below the examples of use and test cases:"
   ]
  },
  {
   "cell_type": "code",
   "execution_count": 97,
   "metadata": {},
   "outputs": [],
   "source": [
    "class Person:\n",
    "    '''to handle person's details'''\n",
    "    def __init__(self, fn, ln):\n",
    "        self.first_name = fn\n",
    "        self.last_name = ln\n",
    "        self.address = None #addresses stored by strings\n",
    "    def set_address(self, adr):\n",
    "        self.address = adr #strings\n",
    "\n",
    "class BankAccount:\n",
    "    def __init__(self, sort_code, account_number):\n",
    "        '''TD implement this; creates a bank account\n",
    "        with sort code as string and account number as string'''\n",
    "        self.set_sort_code(sort_code)\n",
    "        self.set_account_number(account_number)\n",
    "    def set_sort_code(self, sort_code):\n",
    "        '''TD implement this; updates sort code'''\n",
    "        self.sort_code = sort_code\n",
    "    def get_sort_code(self):\n",
    "        '''TD implement this; returns sort code'''\n",
    "        return self.sort_code\n",
    "    def set_account_number(self, account_number):\n",
    "        '''TD implement this; updates account number'''\n",
    "        self.account_number = account_number\n",
    "    def get_account_number(self):\n",
    "        '''TD implement this; returns account number'''\n",
    "        return self.account_number\n",
    "    def get_account_data(self):\n",
    "        '''TD implement this; returns string \"SC AN\"\n",
    "    where SC is sort code, AN is account number'''\n",
    "        return \" \".join([self.sort_code, self.sort_code])\n",
    "\n",
    "class IndividualBankAccount(BankAccount):\n",
    "    def __init__(self, sort_code, account_number, owner):\n",
    "        super().__init__(sort_code, account_number)\n",
    "        '''line above sets up sc and number\n",
    "        TD implement setting up an owner as Person'''\n",
    "        self.owner = owner\n",
    "    def get_account_data(self):\n",
    "        '''TD implement this; returns string \"FN LN SC AN\"\n",
    "        where FN and LN are owner's first and last names,\n",
    "        SC is sort code, AN is account number'''\n",
    "        return \" \".join([self.owner.first_name, self.owner.last_name, self.sort_code, self.account_number])\n",
    "\n",
    "class SharedBankAccount(BankAccount):\n",
    "    def __init__(self, sort_code, account_number, owners):\n",
    "        super().__init__(sort_code, account_number)\n",
    "        '''line above sets up sc and number\n",
    "    TD implement setting up an owners as a list of Persons'''\n",
    "        self.owners = owners\n",
    "    def get_account_data(self):\n",
    "        '''TD implement this; returns string\n",
    "        \"FN1 LN1, FN2 LN2, ..., FNM LNM, SC AN\"\n",
    "        where FNi LNi is the i-th owner first and last names,\n",
    "        SC is sort code, AN is account number'''\n",
    "        result = \"\"\n",
    "        for x in self.owners:\n",
    "            result += x.first_name + \" \" + x.last_name + \", \"\n",
    "        return result[0:len(result)-1] + \" \" + self.sort_code + \" \" + self.account_number"
   ]
  },
  {
   "cell_type": "code",
   "execution_count": 101,
   "metadata": {},
   "outputs": [
    {
     "data": {
      "text/plain": [
       "True"
      ]
     },
     "execution_count": 101,
     "metadata": {},
     "output_type": "execute_result"
    }
   ],
   "source": [
    "john01 = Person(\"John\", \"Doe\")\n",
    "john01.set_address(\"Birkbeck, Malet st., WC1E 7HX\")\n",
    "john01s_account = IndividualBankAccount(\"12-34-56\", \"12345678\", john01)\n",
    "#Test1 checks john01s_account.get_account_data()==\"John Doe 12-34-56 12345678\"\n",
    "john01s_account.get_account_data()==\"John Doe 12-34-56 12345678\""
   ]
  },
  {
   "cell_type": "code",
   "execution_count": 102,
   "metadata": {},
   "outputs": [
    {
     "data": {
      "text/plain": [
       "True"
      ]
     },
     "execution_count": 102,
     "metadata": {},
     "output_type": "execute_result"
    }
   ],
   "source": [
    "john01s_account.set_sort_code(\"11-11-11\")\n",
    "#Test2 check john01s_account.get_sort_code()==\"11-11-11\"\n",
    "john01s_account.get_sort_code()==\"11-11-11\""
   ]
  },
  {
   "cell_type": "code",
   "execution_count": 103,
   "metadata": {},
   "outputs": [
    {
     "data": {
      "text/plain": [
       "True"
      ]
     },
     "execution_count": 103,
     "metadata": {},
     "output_type": "execute_result"
    }
   ],
   "source": [
    "mary01 = Person(\"Mary\", \"Ann\")\n",
    "mary01.set_address(\"UCL, Gower st., WC1E 6BT\")\n",
    "mary01s_account = IndividualBankAccount(\"65-43-21\", \"87654321\", mary01)\n",
    "#Test3 checks mary01s_account.get_account_data()==\"Mary Ann 65-43-21 87654321\"\n",
    "mary01s_account.get_account_data()==\"Mary Ann 65-43-21 87654321\""
   ]
  },
  {
   "cell_type": "code",
   "execution_count": 104,
   "metadata": {},
   "outputs": [
    {
     "data": {
      "text/plain": [
       "True"
      ]
     },
     "execution_count": 104,
     "metadata": {},
     "output_type": "execute_result"
    }
   ],
   "source": [
    "mary01s_account.set_account_number(\"99999999\")\n",
    "#Test4 checks mary01s_account.get_account_number()==\"99999999\"\n",
    "mary01s_account.get_account_number()==\"99999999\""
   ]
  },
  {
   "cell_type": "code",
   "execution_count": 105,
   "metadata": {},
   "outputs": [
    {
     "data": {
      "text/plain": [
       "True"
      ]
     },
     "execution_count": 105,
     "metadata": {},
     "output_type": "execute_result"
    }
   ],
   "source": [
    "acc02 = SharedBankAccount(\"11-22-33\", \"11223344\", [john01, mary01])\n",
    "#Test5 checks acc02.get_account_data()==\"John Doe, Mary Ann, 11-22-33 11223344\"\n",
    "acc02.get_account_data()==\"John Doe, Mary Ann, 11-22-33 11223344\""
   ]
  }
 ],
 "metadata": {
  "kernelspec": {
   "display_name": "Python 3",
   "language": "python",
   "name": "python3"
  },
  "language_info": {
   "codemirror_mode": {
    "name": "ipython",
    "version": 3
   },
   "file_extension": ".py",
   "mimetype": "text/x-python",
   "name": "python",
   "nbconvert_exporter": "python",
   "pygments_lexer": "ipython3",
   "version": "3.6.5"
  }
 },
 "nbformat": 4,
 "nbformat_minor": 2
}
