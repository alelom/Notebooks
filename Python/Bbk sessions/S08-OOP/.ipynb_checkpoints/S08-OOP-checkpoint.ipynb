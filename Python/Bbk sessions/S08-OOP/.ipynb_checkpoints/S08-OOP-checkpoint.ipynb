{
 "cells": [
  {
   "cell_type": "markdown",
   "metadata": {},
   "source": [
    "### Theoretical properties of an object\n",
    "- State = An object's state is defined by the attributes of the object and by the values these have. Represented by its instance.\n",
    "- Behaviour = what the object can do. Represented by its methods.\n",
    "- Identity = property of an object that distinguishes the object from all other objects in the application. It can be a GUID or a memory reference, but there is no one right solution. Python's `str(someObject)` method returns a string that includes the memory address.\n"
   ]
  },
  {
   "cell_type": "markdown",
   "metadata": {},
   "source": [
    "## Fields (*attributes*)\n",
    "\n",
    "Fields are called *attributes* in Python.\n"
   ]
  },
  {
   "cell_type": "markdown",
   "metadata": {},
   "source": [
    "### Methods\n",
    "All class methods must be initialised with a first argument of `self`."
   ]
  },
  {
   "cell_type": "markdown",
   "metadata": {},
   "source": [
    "### Constructor\n",
    "Reserved function name of `__init__`.\n",
    "\n",
    "Must take `self` as first parameter and may have more arguments."
   ]
  },
  {
   "cell_type": "markdown",
   "metadata": {},
   "source": [
    "### `self` and `other`\n",
    "\n",
    "`self` is like C# `this`.\n",
    "\n",
    "`other` (as far as I understood) exists solely as a mean to enforce type checking; in other words, when you need to make sure that both the variable `self` and another variable passed to a class' method are of the same type.\n",
    "\n",
    "E.g.\n",
    "```python\n",
    "def copy(self, other) : #copy the state of other cash register to this one\n",
    "        self._itemCount = other._itemCount\n",
    "        self._totalPrice = other._totalPrice\n",
    "```"
   ]
  },
  {
   "cell_type": "markdown",
   "metadata": {},
   "source": [
    "### Operator overloading\n",
    "You need to define a method that has a *specific reserved name* depending on the operator you want to overload.\n",
    "\n",
    "Table of operators that can be overloaded:\n",
    "<a href=\"operatorOverloading.PNG\">\n",
    "    <img src=\"operatorOverloading.PNG\" width=350>\n",
    "</a>"
   ]
  },
  {
   "cell_type": "markdown",
   "metadata": {},
   "source": [
    "### Full example"
   ]
  },
  {
   "cell_type": "code",
   "execution_count": null,
   "metadata": {},
   "outputs": [],
   "source": [
    "class CashRegister :\n",
    "    # CONSTRUCTOR\n",
    "    def __init__(self) :\n",
    "        self._itemCount = 0 #private variable wants the underscore\n",
    "        self._totalPrice = 0.0 \n",
    "    \n",
    "    def copy(self, other) : #copy the state of other cash register to this one\n",
    "        self._itemCount = other._itemCount\n",
    "        self._totalPrice = other._totalPrice\n",
    "    \n",
    "    # OPERATOR OVERLOADING\n",
    "    def __eq__(self, y): #y, because the overload may take in any object type.\n",
    "        if self._itemCount == y._itemCount and self._totalPrice == y._totalPrice:\n",
    "            return True\n",
    "        else: \n",
    "            return False"
   ]
  },
  {
   "cell_type": "markdown",
   "metadata": {},
   "source": [
    "## Encapsulation\n",
    "\n",
    "#### *Teacher's version*\n",
    "You can only rely on the other programmers not to access a variable whose name has an underscore as first char.\n",
    "\n",
    "e.g. `self._privateVariable`\n",
    "\n",
    "There is no accessibility modifier --> all variables are public\n",
    "\n",
    "#### REALITY\n",
    "Python allows for private variables. \n",
    "\n",
    "In the constructor, precede variable name with **double** underscore e.g. `self._realPrivateVariable`\n",
    "\n",
    "Variables with double underscore will not be accessible outside the class. Trying to access throws an `AttributeError`\n"
   ]
  },
  {
   "cell_type": "code",
   "execution_count": 9,
   "metadata": {},
   "outputs": [
    {
     "name": "stdout",
     "output_type": "stream",
     "text": [
      "Gnappo\n",
      "Peppo\n"
     ]
    },
    {
     "ename": "AttributeError",
     "evalue": "'Person' object has no attribute '__privateData'",
     "output_type": "error",
     "traceback": [
      "\u001b[1;31m---------------------------------------------------------------------------\u001b[0m",
      "\u001b[1;31mAttributeError\u001b[0m                            Traceback (most recent call last)",
      "\u001b[1;32m<ipython-input-9-d6e4b36e0191>\u001b[0m in \u001b[0;36m<module>\u001b[1;34m()\u001b[0m\n\u001b[0;32m      9\u001b[0m \u001b[0mprint\u001b[0m\u001b[1;33m(\u001b[0m\u001b[0mP\u001b[0m\u001b[1;33m.\u001b[0m\u001b[0mname\u001b[0m\u001b[1;33m)\u001b[0m \u001b[1;31m# public\u001b[0m\u001b[1;33m\u001b[0m\u001b[0m\n\u001b[0;32m     10\u001b[0m \u001b[0mprint\u001b[0m\u001b[1;33m(\u001b[0m\u001b[0mP\u001b[0m\u001b[1;33m.\u001b[0m\u001b[0m_lastname\u001b[0m\u001b[1;33m)\u001b[0m \u001b[1;31m# should not be accessible \"by recommendation\"\u001b[0m\u001b[1;33m\u001b[0m\u001b[0m\n\u001b[1;32m---> 11\u001b[1;33m \u001b[0mprint\u001b[0m\u001b[1;33m(\u001b[0m\u001b[0mP\u001b[0m\u001b[1;33m.\u001b[0m\u001b[0m__privateData\u001b[0m\u001b[1;33m)\u001b[0m \u001b[1;31m# this is actually not accessible. Throws AttributeError: 'Person' object has no attribute '__privateData'\u001b[0m\u001b[1;33m\u001b[0m\u001b[0m\n\u001b[0m",
      "\u001b[1;31mAttributeError\u001b[0m: 'Person' object has no attribute '__privateData'"
     ]
    }
   ],
   "source": [
    "class Person:\n",
    "    def __init__(self): \n",
    "        self.name = \"Gnappo\"\n",
    "        self._lastname = \"Peppo\"\n",
    "        self.__privateData = \"ConfidentialData\"\n",
    "    \n",
    "\n",
    "P = Person()\n",
    "print(P.name) # public\n",
    "print(P._lastname) # should not be accessible \"by recommendation\"\n",
    "print(P.__privateData) # this is actually not accessible. Throws AttributeError: 'Person' object has no attribute '__privateData'"
   ]
  }
 ],
 "metadata": {
  "kernelspec": {
   "display_name": "Python 3",
   "language": "python",
   "name": "python3"
  },
  "language_info": {
   "codemirror_mode": {
    "name": "ipython",
    "version": 3
   },
   "file_extension": ".py",
   "mimetype": "text/x-python",
   "name": "python",
   "nbconvert_exporter": "python",
   "pygments_lexer": "ipython3",
   "version": "3.6.5"
  }
 },
 "nbformat": 4,
 "nbformat_minor": 2
}
