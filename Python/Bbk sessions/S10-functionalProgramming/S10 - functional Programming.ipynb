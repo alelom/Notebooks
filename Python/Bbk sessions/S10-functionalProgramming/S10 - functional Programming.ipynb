{
 "cells": [
  {
   "cell_type": "markdown",
   "metadata": {},
   "source": [
    "# Higher order functions (*delegates*)\n",
    "In python, every function can be used as a delegate and passed as an argument to another one.\n",
    "\n",
    "Essentially, it's like python creates a delegate type for each method, so it can be passed around like a class instance.\n",
    "Achieving a similar thing [in C# is only possible through the predefined delegates `Func<T>` and `Action<T>`](https://stackoverflow.com/questions/13760744/c-sharp-automatic-delegate-type-from-method).\n",
    "\n",
    "A **higher order function** is a function that operates on other functions, **either by**:\n",
    "- taking a function as its argument, **or/and**\n",
    "- returning a function. \n",
    "\n",
    "Since functions are are actually (first) class objects in Python, this is easy to do."
   ]
  },
  {
   "cell_type": "markdown",
   "metadata": {},
   "source": [
    "### Example: passing function in"
   ]
  },
  {
   "cell_type": "code",
   "execution_count": 20,
   "metadata": {},
   "outputs": [],
   "source": [
    "def double(x):    # Function. It can also be passed around to a higher order function.\n",
    "    return 2*x\n",
    "\n",
    "def square(x):    # Another function\n",
    "    return x*x\n",
    "\n",
    "def fApply_andSum(f, X): # Higher Order function: it takes a function as argument.\n",
    "    sum = 0   \n",
    "    for x in X:\n",
    "        sum+= f(x) # here the lower order function is called.\n",
    "    return sum"
   ]
  },
  {
   "cell_type": "code",
   "execution_count": 21,
   "metadata": {},
   "outputs": [
    {
     "name": "stdout",
     "output_type": "stream",
     "text": [
      "20\n",
      "30\n"
     ]
    }
   ],
   "source": [
    "Y = [1,2,3,4]\n",
    "\n",
    "s1 = fApply_andSum(double,Y) # double() is one of the lower order functions\n",
    "print(s1)\n",
    "s2 = fApply_andSum(square,Y) # here passing `square()`\n",
    "print(s2)"
   ]
  },
  {
   "cell_type": "markdown",
   "metadata": {},
   "source": [
    "### Example: returning function out"
   ]
  },
  {
   "cell_type": "markdown",
   "metadata": {},
   "source": [
    "This example made in class simply doesn't work."
   ]
  },
  {
   "cell_type": "code",
   "execution_count": 48,
   "metadata": {},
   "outputs": [],
   "source": [
    "def fApply_and_Vectorize(f):\n",
    "    def new_func(inputList):\n",
    "        outPutList = []\n",
    "        for item in inputList:\n",
    "            outPutList.append(f(item))\n",
    "            return outPutList\n",
    "    return new_func"
   ]
  },
  {
   "cell_type": "code",
   "execution_count": 47,
   "metadata": {},
   "outputs": [
    {
     "name": "stdout",
     "output_type": "stream",
     "text": [
      "[4]\n"
     ]
    }
   ],
   "source": [
    "double_and_Vectorize = fApply_and_Vectorize(double)\n",
    "Y1 = double_and_Vectorize([2,\"!asd\"])\n",
    "print(Y1)"
   ]
  },
  {
   "cell_type": "code",
   "execution_count": 28,
   "metadata": {},
   "outputs": [
    {
     "name": "stdout",
     "output_type": "stream",
     "text": [
      "[1]\n"
     ]
    }
   ],
   "source": [
    "square_and_Vectorize = fApply_and_Vectorize(square)\n",
    "Y2 = square_and_Vectorize([1,2,3])\n",
    "print(Y2)"
   ]
  },
  {
   "cell_type": "markdown",
   "metadata": {},
   "source": [
    "# Iterators"
   ]
  },
  {
   "cell_type": "markdown",
   "metadata": {},
   "source": [
    "Nice python overview: https://www.datacamp.com/community/tutorials/python-iterator-tutorial\n",
    "\n",
    "An iterator is any method that returns a **generator object** (like C# IEnumerable), which essentially *enumerates* over a sequence = computes the elements when needed.\n",
    "\n",
    "To enumerate, the generator object has a built-in method that allow to extract its next number: `next()` (C# version is called MoveNext).\n",
    "\n",
    "**Note that enumerating the iterator actually REMOVES any enumerated item from the iterator.**\n",
    "\n",
    "\n",
    "[See comparison with C#](https://trello.com/c/x0NEIqaG)."
   ]
  },
  {
   "cell_type": "code",
   "execution_count": 61,
   "metadata": {},
   "outputs": [
    {
     "name": "stdout",
     "output_type": "stream",
     "text": [
      "<generator object <genexpr> at 0x0000010DB00D8BF8>\n"
     ]
    }
   ],
   "source": [
    "iterator = (x for x in range(0, 3)) #creates an iterator instead of a list\n",
    "print(iterator) # prints `generator object`"
   ]
  },
  {
   "cell_type": "code",
   "execution_count": 62,
   "metadata": {},
   "outputs": [
    {
     "name": "stdout",
     "output_type": "stream",
     "text": [
      "[0, 1, 2]\n",
      "[]\n"
     ]
    }
   ],
   "source": [
    "print(list(iterator)) # enumerates the whole the iterator --> REMOVES ALL iterator items!\n",
    "print(list(iterator)) # NOTE: the iterator is now empty!"
   ]
  },
  {
   "cell_type": "code",
   "execution_count": 64,
   "metadata": {},
   "outputs": [
    {
     "name": "stdout",
     "output_type": "stream",
     "text": [
      "0\n",
      "1\n",
      "2\n",
      "[]\n"
     ]
    }
   ],
   "source": [
    "iterator = (x for x in range(0, 3))\n",
    "\n",
    "print(next(iterator)) # pops out the next item in the sequence, removing it\n",
    "print(next(iterator)) # pops out the next item in the sequence, removing it\n",
    "print(next(iterator)) # pops out the next item in the sequence, removing it\n",
    "\n",
    "print(list(iterator)) # NOTE: the iterator is now empty!"
   ]
  },
  {
   "cell_type": "code",
   "execution_count": 80,
   "metadata": {},
   "outputs": [
    {
     "name": "stdout",
     "output_type": "stream",
     "text": [
      "1\n",
      "2\n",
      "3 is a multiple of 3\n",
      "[4, 5, 6, 7, 8, 9]\n"
     ]
    }
   ],
   "source": [
    "iterator = (x for x in range(1, 10)) # any large sequence\n",
    "\n",
    "while True:\n",
    "    next_value = next(iterator) # using next() to get the following item\n",
    "    multiple = 3\n",
    "    \n",
    "    if next_value % multiple == 0:\n",
    "        print(f\"{next_value} is a multiple of {multiple}\") \n",
    "        print(list(iterator)) #not all iterator will have been enumerated!\n",
    "        break \n",
    "    else:\n",
    "        print(next_value)"
   ]
  },
  {
   "cell_type": "markdown",
   "metadata": {},
   "source": [
    "# Map, filter, and other built in functions"
   ]
  },
  {
   "cell_type": "markdown",
   "metadata": {},
   "source": [
    "### Map\n",
    "```python\n",
    "map(fun, collectionA, collectionB, …)\n",
    "```\n",
    "Returns the iterator in the form `fun(collectionA[0], collectionB[0], …), fun(collectionA[1], collectionB[1], …), …`"
   ]
  },
  {
   "cell_type": "code",
   "execution_count": 49,
   "metadata": {},
   "outputs": [
    {
     "data": {
      "text/plain": [
       "[6, 8, 10]"
      ]
     },
     "execution_count": 49,
     "metadata": {},
     "output_type": "execute_result"
    }
   ],
   "source": [
    "def plus(x,y): \n",
    "    return x+y\n",
    "\n",
    "X,Y = [1,2,3], [5,6,7]\n",
    "\n",
    "it = map(plus,X,Y)\n",
    "\n",
    "list(it)"
   ]
  },
  {
   "cell_type": "markdown",
   "metadata": {},
   "source": [
    "### Filter\n",
    "Like Grasshopper's \"Cull pattern\". \n",
    "\n",
    "It returns an iterator with elements that respect a pattern given by a function:\n",
    "```py\n",
    "filter(fun, collection)\n",
    "```\n",
    "where `fun` is a function that returns a boolean."
   ]
  },
  {
   "cell_type": "code",
   "execution_count": 50,
   "metadata": {},
   "outputs": [
    {
     "data": {
      "text/plain": [
       "[2, 4]"
      ]
     },
     "execution_count": 50,
     "metadata": {},
     "output_type": "execute_result"
    }
   ],
   "source": [
    "def is_even(x): \n",
    "    return x % 2 == 0\n",
    "\n",
    "X = [1,2,3,4,5]\n",
    "it = filter(is_even, X)\n",
    "list(it)"
   ]
  },
  {
   "cell_type": "markdown",
   "metadata": {},
   "source": [
    "### Enumerate\n",
    "Improperly named. \n",
    "```py\n",
    "enumerate(collection, start = 0)\n",
    "```\n",
    "\n",
    "Given any sequence, this\n",
    "1. Enumerates it\n",
    "2. Returns an iterator of tuples `(itemIndex, item)`\n"
   ]
  },
  {
   "cell_type": "code",
   "execution_count": 77,
   "metadata": {},
   "outputs": [
    {
     "name": "stdout",
     "output_type": "stream",
     "text": [
      "<enumerate object at 0x0000010DB00E0510>\n",
      "[(0, 'a'), (1, 'b'), (2, 'c')]\n",
      "(0, 'a')\n"
     ]
    }
   ],
   "source": [
    "X = ['a', 'b', 'c']\n",
    "\n",
    "print(enumerate(X)) #prints `enumerate object`. Like `generator object`, this is still simply an iterator.\n",
    "\n",
    "print(list(enumerate(X)))\n",
    "\n",
    "iterator = enumerate(X)\n",
    "print(next(iterator))"
   ]
  },
  {
   "cell_type": "markdown",
   "metadata": {},
   "source": [
    "### Zip\n",
    "```python\n",
    "zip(collection1, collection2,…)\n",
    "```\n",
    "1. Enumerates multiple sequences contemporarily\n",
    "2. returns an iterator of Tuples, each with an item for each collection.\n"
   ]
  },
  {
   "cell_type": "code",
   "execution_count": 78,
   "metadata": {},
   "outputs": [
    {
     "name": "stdout",
     "output_type": "stream",
     "text": [
      "<zip object at 0x0000010DB00C9E88>\n",
      "[('a', 0), ('b', 1), ('c', 2)]\n",
      "('a', 0)\n"
     ]
    }
   ],
   "source": [
    "X, Y = ['a', 'b', 'c'], [0,1,2]\n",
    "\n",
    "print(zip(X,Y)) #prints `zip object`. Like `generator object`, this is still simply an iterator.\n",
    "\n",
    "print(list(zip(X,Y)))\n",
    "\n",
    "iterator = zip(X,Y)\n",
    "print(next(iterator))"
   ]
  },
  {
   "cell_type": "markdown",
   "metadata": {},
   "source": [
    "### Sorted\n",
    "```py\n",
    "sorted(collection)\n",
    "```\n",
    "\n",
    "1. Sorts the collection by ascending order\n",
    "2. Returns an iterator of the sorted collection.\n",
    "\n",
    "`sorted(collection)` is equivalent to `iter(list(collection).sort())`"
   ]
  },
  {
   "cell_type": "markdown",
   "metadata": {},
   "source": [
    "### Chain list comprehensions"
   ]
  },
  {
   "cell_type": "markdown",
   "metadata": {},
   "source": [
    "#### Iterate two lists simultaneously (*not* with same index in both!)"
   ]
  },
  {
   "cell_type": "code",
   "execution_count": 4,
   "metadata": {},
   "outputs": [
    {
     "data": {
      "text/plain": [
       "[(3, 4), (3, 5), (4, 5)]"
      ]
     },
     "execution_count": 4,
     "metadata": {},
     "output_type": "execute_result"
    }
   ],
   "source": [
    "X = [3, 4, 5, 6, 7]\n",
    "Y = [1, 2, 3, 4, 5] \n",
    "Z = [(x, y) for x in X for y in Y if x < y] # iterates X and Y simultaneously; result items are not from same index in X/Y !\n",
    "Z"
   ]
  },
  {
   "cell_type": "code",
   "execution_count": 2,
   "metadata": {},
   "outputs": [],
   "source": [
    "lists = [['hello'], ['world', 'foo', 'bar']]"
   ]
  },
  {
   "cell_type": "code",
   "execution_count": 113,
   "metadata": {},
   "outputs": [
    {
     "ename": "NameError",
     "evalue": "name 'sublist' is not defined",
     "output_type": "error",
     "traceback": [
      "\u001b[1;31m---------------------------------------------------------------------------\u001b[0m",
      "\u001b[1;31mNameError\u001b[0m                                 Traceback (most recent call last)",
      "\u001b[1;32m<ipython-input-113-ff083a7c5239>\u001b[0m in \u001b[0;36m<module>\u001b[1;34m\u001b[0m\n\u001b[1;32m----> 1\u001b[1;33m \u001b[0mcombined\u001b[0m \u001b[1;33m=\u001b[0m \u001b[1;33m[\u001b[0m\u001b[0mitem\u001b[0m \u001b[1;32mfor\u001b[0m \u001b[0mitem\u001b[0m \u001b[1;32min\u001b[0m \u001b[0msublist\u001b[0m \u001b[1;32mfor\u001b[0m \u001b[0msublist\u001b[0m \u001b[1;32min\u001b[0m \u001b[0mlists\u001b[0m\u001b[1;33m]\u001b[0m \u001b[1;31m# Would make more sense, but we need to invert the loops\u001b[0m\u001b[1;33m\u001b[0m\u001b[1;33m\u001b[0m\u001b[0m\n\u001b[0m",
      "\u001b[1;31mNameError\u001b[0m: name 'sublist' is not defined"
     ]
    }
   ],
   "source": [
    "combined = [item for item in sublist for sublist in lists] # Would make more sense, but we need to invert the loops"
   ]
  },
  {
   "cell_type": "code",
   "execution_count": 120,
   "metadata": {},
   "outputs": [
    {
     "name": "stdout",
     "output_type": "stream",
     "text": [
      "['hello', 'world', 'foo', 'bar']\n"
     ]
    }
   ],
   "source": [
    "combined = [item for sublist in lists for item in sublist]\n",
    "print(combined)"
   ]
  },
  {
   "cell_type": "markdown",
   "metadata": {},
   "source": [
    "# REPL EXERCISES"
   ]
  },
  {
   "cell_type": "markdown",
   "metadata": {},
   "source": [
    "### 01\n",
    "Given an ordered list X of distinct ints and analogous list Y, construct the list of all pairs (x,y) such that x is from X, y from Y, and x < y. \n",
    "\n",
    "The resulting list must be ordered so that the pairs with the smaller x go first and among the pairs that have the same x, the ones with the smaller y go first (see examples in the test cases).\n",
    "\n",
    "\n",
    "For example, the input:\n",
    "```\n",
    "3 4 5 6 7\n",
    "1 2 3 4 5\n",
    "```\n",
    " must result in output\n",
    "```\n",
    "3 4\n",
    "3 5\n",
    "4 5\n",
    "```"
   ]
  },
  {
   "cell_type": "code",
   "execution_count": 141,
   "metadata": {},
   "outputs": [
    {
     "name": "stdout",
     "output_type": "stream",
     "text": [
      "[(3, 4), (3, 5), (4, 5)]\n"
     ]
    }
   ],
   "source": [
    "Xstrs = \"3 4 5 6 7\".split()\n",
    "X = [int(x) for x in Xstrs]\n",
    "\n",
    "Ystrs = \"1 2 3 4 5\".split()\n",
    "Y = [int(x) for x in Ystrs]\n",
    "#print(list(zip(X,Y)))\n",
    "\n",
    "Z = [(x, y) for x in X for y in Y if x < y] #insert a list comprehension expression\n",
    "\n",
    "print(Z)\n"
   ]
  },
  {
   "cell_type": "code",
   "execution_count": 142,
   "metadata": {},
   "outputs": [
    {
     "name": "stdout",
     "output_type": "stream",
     "text": [
      "3 4\n",
      "3 5\n",
      "4 5\n"
     ]
    }
   ],
   "source": [
    "for pair in Z: \n",
    "    print(pair[0], pair[1])"
   ]
  },
  {
   "cell_type": "markdown",
   "metadata": {},
   "source": [
    "### 02\n",
    "\n",
    "Given lists of integer objects X = [x1, .., xn] and Y = [y1,..., yn], produce an iterator to the sequence (x1*x1, y1), (x2*x2, y2), ... (xn*xn, yn). \n",
    " \n",
    "Important. Provide an implementation using the pattern on the right and a zip expression. This expression must replace ... and the rest of the pattern must not be edited.\n",
    "\n",
    "For example, the input:\n",
    "```\n",
    "1 2 3\n",
    "5 6 7\n",
    "```\n",
    "output must be\n",
    "```\n",
    "1 5\n",
    "4 6\n",
    "9 7\n",
    "```"
   ]
  },
  {
   "cell_type": "code",
   "execution_count": 96,
   "metadata": {},
   "outputs": [
    {
     "name": "stdout",
     "output_type": "stream",
     "text": [
      "1 5\n",
      "4 6\n",
      "9 7\n"
     ]
    }
   ],
   "source": [
    "X = [int(x) for x in \"1 2 3\".split()]\n",
    "Y = [int(x) for x in \"5 6 7\".split()]\n",
    "\n",
    "it_squared_mapping = zip((x**2 for x in X), Y) #insert a zip expression here\n",
    "\n",
    "for x in it_squared_mapping: print(x[0], x[1])"
   ]
  },
  {
   "cell_type": "markdown",
   "metadata": {},
   "source": [
    "### 03\n",
    "There is a standard Python function \n",
    "\n",
    "`map(function_of_N_arguments, collection1, ..., collectionN)`\n",
    "\n",
    "Refer to the study resources or documentation to learn what this function should do. \n",
    "\n",
    "The purpose of this exercise is to provide you own implementation of the simplified version of this function\n",
    "\n",
    "`binary_map(function_of_2_arguments, collection1, collection2)`\n",
    "\n",
    "Important. Provide an implementation using the pattern on the right and a zip expression. This expression must replace ... and the rest of the pattern must not be edited. \n",
    "\n",
    "For example, the result of \n",
    "```py\n",
    "def plus(x,y): \n",
    "  return x+y\n",
    "X = (1,2,3)\n",
    "Y = [10, 20, 30]\n",
    "it_Z = binary_map(plus, X, Y)\n",
    "for z in it_Z: \n",
    "    print(z)\n",
    "```\n",
    "must be\n",
    "```\n",
    "11\n",
    "22\n",
    "33\n",
    "```"
   ]
  },
  {
   "cell_type": "code",
   "execution_count": 16,
   "metadata": {},
   "outputs": [
    {
     "data": {
      "text/plain": [
       "[(1, 'collection2'), (2, 'asd')]"
      ]
     },
     "execution_count": 16,
     "metadata": {},
     "output_type": "execute_result"
    }
   ],
   "source": [
    "zipped = zip([1,2,3], [\"collection2\",\"asd\"])\n",
    "list(zipped)"
   ]
  },
  {
   "cell_type": "code",
   "execution_count": 17,
   "metadata": {},
   "outputs": [],
   "source": [
    "def binary_map(function_of_2_arguments, collection1, collection2):\n",
    "    zipped = zip(collection1, collection2)\n",
    "    return (function_of_2_arguments(item[0], item[1]) for item in zipped) #returns a generator"
   ]
  },
  {
   "cell_type": "code",
   "execution_count": 19,
   "metadata": {},
   "outputs": [
    {
     "name": "stdout",
     "output_type": "stream",
     "text": [
      "<generator object binary_map.<locals>.<genexpr> at 0x00000197A11432A0>\n",
      "11\n",
      "22\n",
      "33\n"
     ]
    }
   ],
   "source": [
    "def plus(x,y): \n",
    "    return x+y\n",
    "X = (1,2,3)\n",
    "Y = [10, 20, 30]\n",
    "it_Z = binary_map(plus, X, Y)\n",
    "print(it_Z)\n",
    "for z in it_Z: \n",
    "    print(z)"
   ]
  },
  {
   "cell_type": "markdown",
   "metadata": {},
   "source": [
    "## 04\n",
    "Suppose f is a function that takes a character (string of length 1) as an argument and returns a character. Define a higher order function stringify that takes f as an argument and returns another function F such that:\n",
    "- F takes a string s as an argument\n",
    "- F returns a string which is equal to f(s[0])f(s[1])...f(s[n])\n",
    "\n",
    "Use the pattern on the right for your implementation.\n",
    "\n",
    "Hint: Have a look at the function vectorize in the lecture slides. \n",
    "\n",
    "For example, the result of:\n",
    "```py\n",
    "def f(x):\n",
    "    #change lower case to upper\n",
    "    return chr(ord(x)-32)\n",
    "F = stringify(f)\n",
    "print(F(\"apple\"))\n",
    "```\n",
    "must be `APPLE `\n",
    "\n",
    "The tests work as follows:\n",
    "```py\n",
    "def f(x):\n",
    "    #change lower case to upper\n",
    "    return chr(ord(x)-32)\n",
    "F = stringify(f)\n",
    "#Test1 checks F(\"apple\")==\"APPLE\"\n",
    "\n",
    "def f(x):\n",
    "    #change upper case to lower\n",
    "    return chr(ord(x)+32)\n",
    "F = stringify(f)\n",
    "#Test2 checks F(\"APPLE\")==\"apple\"\n",
    "\n",
    "def f(x):\n",
    "    #change lower case to upper if vowel\n",
    "    #otherwise leave unchanged\n",
    "    if x in {'a', 'e', 'i', 'o', 'u'}:\n",
    "        return chr(ord(x)-32)\n",
    "    else:\n",
    "        return x\n",
    "F = stringify(f)\n",
    "#Test3 checks F(\"apple\") == \"ApplE\"\n",
    "```"
   ]
  },
  {
   "cell_type": "code",
   "execution_count": 76,
   "metadata": {},
   "outputs": [],
   "source": [
    "def stringify(f):\n",
    "    def F(string):\n",
    "        outputString = \"\" \n",
    "        for c in string:\n",
    "            outputString+=f(c)\n",
    "        return outputString\n",
    "    return F"
   ]
  },
  {
   "cell_type": "markdown",
   "metadata": {},
   "source": [
    "Or also:"
   ]
  },
  {
   "cell_type": "code",
   "execution_count": 77,
   "metadata": {},
   "outputs": [],
   "source": [
    "def stringify(f):\n",
    "    def F(string):\n",
    "        return \"\".join([f(c) for c in string])\n",
    "    return F"
   ]
  },
  {
   "cell_type": "markdown",
   "metadata": {},
   "source": [
    "Tests:"
   ]
  },
  {
   "cell_type": "code",
   "execution_count": 79,
   "metadata": {},
   "outputs": [
    {
     "name": "stdout",
     "output_type": "stream",
     "text": [
      "APPLE\n"
     ]
    }
   ],
   "source": [
    "def f(x):\n",
    "    #change lower case to upper\n",
    "    return chr(ord(x)-32)\n",
    "F = stringify(f)\n",
    "#Test1 checks F(\"apple\")==\"APPLE\"\n",
    "F(\"apple\")==\"APPLE\"\n",
    "print(F(\"apple\"))"
   ]
  },
  {
   "cell_type": "code",
   "execution_count": 82,
   "metadata": {},
   "outputs": [
    {
     "name": "stdout",
     "output_type": "stream",
     "text": [
      "True\n",
      "True\n"
     ]
    }
   ],
   "source": [
    "def f(x):\n",
    "    #change upper case to lower\n",
    "    return chr(ord(x)+32)\n",
    "F = stringify(f)\n",
    "#Test2 checks F(\"APPLE\")==\"apple\"\n",
    "print(F(\"APPLE\")==\"apple\")\n",
    "\n",
    "def f(x):\n",
    "    #change lower case to upper if vowel\n",
    "    #otherwise leave unchanged\n",
    "    if x in {'a', 'e', 'i', 'o', 'u'}:\n",
    "        return chr(ord(x)-32)\n",
    "    else:\n",
    "        return x\n",
    "F = stringify(f)\n",
    "#Test3 checks F(\"apple\") == \"ApplE\"\n",
    "print(F(\"apple\") == \"ApplE\")"
   ]
  },
  {
   "cell_type": "code",
   "execution_count": null,
   "metadata": {},
   "outputs": [],
   "source": []
  }
 ],
 "metadata": {
  "kernelspec": {
   "display_name": "Python 3",
   "language": "python",
   "name": "python3"
  },
  "language_info": {
   "codemirror_mode": {
    "name": "ipython",
    "version": 3
   },
   "file_extension": ".py",
   "mimetype": "text/x-python",
   "name": "python",
   "nbconvert_exporter": "python",
   "pygments_lexer": "ipython3",
   "version": "3.7.6"
  }
 },
 "nbformat": 4,
 "nbformat_minor": 4
}
