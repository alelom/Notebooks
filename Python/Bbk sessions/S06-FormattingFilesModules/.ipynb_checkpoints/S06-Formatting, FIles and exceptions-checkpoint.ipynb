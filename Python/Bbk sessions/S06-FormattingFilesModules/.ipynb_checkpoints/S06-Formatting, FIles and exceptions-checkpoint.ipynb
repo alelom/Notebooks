{
 "cells": [
  {
   "cell_type": "markdown",
   "metadata": {},
   "source": [
    "Useful resource here:\n",
    "https://docs.python.org/3/tutorial/inputoutput.html"
   ]
  },
  {
   "cell_type": "code",
   "execution_count": 17,
   "metadata": {
    "scrolled": true
   },
   "outputs": [],
   "source": [
    "import random"
   ]
  },
  {
   "cell_type": "code",
   "execution_count": 18,
   "metadata": {},
   "outputs": [
    {
     "data": {
      "text/plain": [
       "63.874199646152015"
      ]
     },
     "execution_count": 18,
     "metadata": {},
     "output_type": "execute_result"
    }
   ],
   "source": [
    "random.uniform(5, 100)"
   ]
  },
  {
   "cell_type": "code",
   "execution_count": 20,
   "metadata": {},
   "outputs": [
    {
     "data": {
      "text/plain": [
       "62"
      ]
     },
     "execution_count": 20,
     "metadata": {},
     "output_type": "execute_result"
    }
   ],
   "source": [
    "int(random.random()*100)"
   ]
  },
  {
   "cell_type": "code",
   "execution_count": 21,
   "metadata": {},
   "outputs": [
    {
     "data": {
      "text/plain": [
       "79"
      ]
     },
     "execution_count": 21,
     "metadata": {},
     "output_type": "execute_result"
    }
   ],
   "source": [
    "random.randint(0,100)"
   ]
  },
  {
   "cell_type": "markdown",
   "metadata": {},
   "source": [
    "## Module import\n",
    "\n",
    "Multiple import:\n",
    "```\n",
    "import module1, module2, module3\n",
    "```"
   ]
  },
  {
   "cell_type": "code",
   "execution_count": 75,
   "metadata": {},
   "outputs": [
    {
     "data": {
      "text/plain": [
       "20124"
      ]
     },
     "execution_count": 75,
     "metadata": {},
     "output_type": "execute_result"
    }
   ],
   "source": [
    "from os import getpid\n",
    "#this will work:\n",
    "getpid() \n",
    "#this will not work (if it works it's because there is a full `import os` that has been run elsewhere in this notebook):\n",
    "os.getpid() "
   ]
  },
  {
   "cell_type": "markdown",
   "metadata": {},
   "source": [
    "The following:\n",
    "```\n",
    "from aModule import *\n",
    "```\n",
    "\n",
    "is NOT recommended because: \n",
    "> - it puts a lot of stuff into your namespace (might shadow some other object from previous import and you won't know about it).\n",
    "> - you don't know exactly what is imported and can't easily find from which module a certain thing was imported (readability).\n",
    ">- you can't use cool tools like pyflakes to statically detect errors in your code."
   ]
  },
  {
   "cell_type": "markdown",
   "metadata": {},
   "source": [
    "## String formatting"
   ]
  },
  {
   "cell_type": "markdown",
   "metadata": {},
   "source": [
    "f\" \" formats the string"
   ]
  },
  {
   "cell_type": "code",
   "execution_count": 8,
   "metadata": {},
   "outputs": [
    {
     "name": "stdout",
     "output_type": "stream",
     "text": [
      "Gna is 123\n"
     ]
    }
   ],
   "source": [
    "gna = 123\n",
    "print(f\"Gna is {gna}\")"
   ]
  },
  {
   "cell_type": "markdown",
   "metadata": {},
   "source": [
    "Alternatively, use the **% format operator **"
   ]
  },
  {
   "cell_type": "code",
   "execution_count": 32,
   "metadata": {},
   "outputs": [
    {
     "name": "stdout",
     "output_type": "stream",
     "text": [
      "         123.12\n"
     ]
    }
   ],
   "source": [
    "print(\"%15.2f\" % 123.123)"
   ]
  },
  {
   "cell_type": "markdown",
   "metadata": {},
   "source": [
    "##### Floats\n",
    "- f stands for float\n",
    "- The first number is the total number of characters available for the formatting to represent the number.\n",
    "   - If the total number available exceeds the character needed to represent the number, it will print spaces for the rest\n",
    "- The second number is the total number of characters to be used to represent the fractional part"
   ]
  },
  {
   "cell_type": "code",
   "execution_count": 21,
   "metadata": {},
   "outputs": [
    {
     "name": "stdout",
     "output_type": "stream",
     "text": [
      "           3.14\n",
      " is pi\n"
     ]
    }
   ],
   "source": [
    "number = 3.14159265359\n",
    "print(f\"{number:15.2f}\\n is pi\") "
   ]
  },
  {
   "cell_type": "markdown",
   "metadata": {},
   "source": [
    "##### exponentials\n",
    "- e stands for exponential\n",
    "- will always print the _exponential standard form_ xx e yy\n",
    "- Same stuff as per floats regarding the spacings"
   ]
  },
  {
   "cell_type": "code",
   "execution_count": 13,
   "metadata": {},
   "outputs": [
    {
     "name": "stdout",
     "output_type": "stream",
     "text": [
      "  1.23e+05\n"
     ]
    }
   ],
   "source": [
    "number = 123456.789\n",
    "print(f\"{number:10.2e}\")"
   ]
  },
  {
   "cell_type": "markdown",
   "metadata": {},
   "source": [
    "## Filenames and paths\n"
   ]
  },
  {
   "cell_type": "markdown",
   "metadata": {},
   "source": [
    "Every running program has a “current working directory” (cwd)"
   ]
  },
  {
   "cell_type": "code",
   "execution_count": 36,
   "metadata": {},
   "outputs": [
    {
     "data": {
      "text/plain": [
       "'C:\\\\Users\\\\alexl\\\\Google Drive\\\\Birkbeck-work\\\\Bbk-coursework\\\\PoPI\\\\Repl it assignments'"
      ]
     },
     "execution_count": 36,
     "metadata": {},
     "output_type": "execute_result"
    }
   ],
   "source": [
    "import os\n",
    "os.getcwd()"
   ]
  },
  {
   "cell_type": "markdown",
   "metadata": {},
   "source": [
    "os.listdir returns a list of the files (and other directories) in the given directory:"
   ]
  },
  {
   "cell_type": "code",
   "execution_count": 37,
   "metadata": {},
   "outputs": [
    {
     "data": {
      "text/plain": [
       "['.ipynb_checkpoints',\n",
       " 'S01-p06-Fractional Part.py',\n",
       " 'S01-p09.py',\n",
       " 'S01.ipynb',\n",
       " 'S02.ipynb',\n",
       " 'S03 - Collections theory.ipynb',\n",
       " 'S03 - Exercises.ipynb',\n",
       " 'S04 - Memory - Theory + exercises.ipynb',\n",
       " 'S05-recursion-theory+quizzes.ipynb',\n",
       " 'S06-FIles and exceptions.ipynb']"
      ]
     },
     "execution_count": 37,
     "metadata": {},
     "output_type": "execute_result"
    }
   ],
   "source": [
    "os.listdir(os.getcwd())"
   ]
  },
  {
   "cell_type": "markdown",
   "metadata": {},
   "source": [
    "The following statement from lesson must be right ONLY for Linux:\n",
    "> A path that begins with / does not depend on the current directory and it is called an **absolute path**"
   ]
  },
  {
   "cell_type": "code",
   "execution_count": 40,
   "metadata": {},
   "outputs": [
    {
     "data": {
      "text/plain": [
       "'C:\\\\Users\\\\alexl\\\\Google Drive\\\\Birkbeck-work\\\\Bbk-coursework\\\\PoPI\\\\Repl it assignments\\\\S01-p09.py'"
      ]
     },
     "execution_count": 40,
     "metadata": {},
     "output_type": "execute_result"
    }
   ],
   "source": [
    "os.path.abspath('S01-p09.py') #also I guess that this works only because it's in the cwd"
   ]
  },
  {
   "cell_type": "code",
   "execution_count": 42,
   "metadata": {},
   "outputs": [
    {
     "data": {
      "text/plain": [
       "True"
      ]
     },
     "execution_count": 42,
     "metadata": {},
     "output_type": "execute_result"
    }
   ],
   "source": [
    "os.path.isdir(os.getcwd())"
   ]
  },
  {
   "cell_type": "code",
   "execution_count": 43,
   "metadata": {},
   "outputs": [
    {
     "data": {
      "text/plain": [
       "True"
      ]
     },
     "execution_count": 43,
     "metadata": {},
     "output_type": "execute_result"
    }
   ],
   "source": [
    "os.path.isfile('S01-p09.py') #this really translates as \"is a file in the cwd?\""
   ]
  },
  {
   "cell_type": "code",
   "execution_count": 49,
   "metadata": {},
   "outputs": [
    {
     "data": {
      "text/plain": [
       "False"
      ]
     },
     "execution_count": 49,
     "metadata": {},
     "output_type": "execute_result"
    }
   ],
   "source": [
    "os.path.isfile('aaa.py') #for files not in the cwd, you need to specify the full path"
   ]
  },
  {
   "cell_type": "code",
   "execution_count": 52,
   "metadata": {
    "scrolled": true
   },
   "outputs": [
    {
     "name": "stdout",
     "output_type": "stream",
     "text": [
      "C:\\Users\\alexl\\Google Drive\\Birkbeck-work\\Bbk-coursework\\PoPI\\Repl it assignments\\.ipynb_checkpoints\\S01-checkpoint.ipynb\n",
      "C:\\Users\\alexl\\Google Drive\\Birkbeck-work\\Bbk-coursework\\PoPI\\Repl it assignments\\.ipynb_checkpoints\\S02-checkpoint.ipynb\n",
      "C:\\Users\\alexl\\Google Drive\\Birkbeck-work\\Bbk-coursework\\PoPI\\Repl it assignments\\.ipynb_checkpoints\\S03 - Collections theory-checkpoint.ipynb\n",
      "C:\\Users\\alexl\\Google Drive\\Birkbeck-work\\Bbk-coursework\\PoPI\\Repl it assignments\\.ipynb_checkpoints\\S03 - Exercises-checkpoint.ipynb\n",
      "C:\\Users\\alexl\\Google Drive\\Birkbeck-work\\Bbk-coursework\\PoPI\\Repl it assignments\\.ipynb_checkpoints\\S04 - Memory - Theory + exercises-checkpoint.ipynb\n",
      "C:\\Users\\alexl\\Google Drive\\Birkbeck-work\\Bbk-coursework\\PoPI\\Repl it assignments\\.ipynb_checkpoints\\S05-recursion-theory+quizzes-checkpoint.ipynb\n",
      "C:\\Users\\alexl\\Google Drive\\Birkbeck-work\\Bbk-coursework\\PoPI\\Repl it assignments\\.ipynb_checkpoints\\S06-Formatting, FIles and exceptions-checkpoint.ipynb\n",
      "C:\\Users\\alexl\\Google Drive\\Birkbeck-work\\Bbk-coursework\\PoPI\\Repl it assignments\\S01-p06-Fractional Part.py\n",
      "C:\\Users\\alexl\\Google Drive\\Birkbeck-work\\Bbk-coursework\\PoPI\\Repl it assignments\\S01-p09.py\n",
      "C:\\Users\\alexl\\Google Drive\\Birkbeck-work\\Bbk-coursework\\PoPI\\Repl it assignments\\S01.ipynb\n",
      "C:\\Users\\alexl\\Google Drive\\Birkbeck-work\\Bbk-coursework\\PoPI\\Repl it assignments\\S02.ipynb\n",
      "C:\\Users\\alexl\\Google Drive\\Birkbeck-work\\Bbk-coursework\\PoPI\\Repl it assignments\\S03 - Collections theory.ipynb\n",
      "C:\\Users\\alexl\\Google Drive\\Birkbeck-work\\Bbk-coursework\\PoPI\\Repl it assignments\\S03 - Exercises.ipynb\n",
      "C:\\Users\\alexl\\Google Drive\\Birkbeck-work\\Bbk-coursework\\PoPI\\Repl it assignments\\S04 - Memory - Theory + exercises.ipynb\n",
      "C:\\Users\\alexl\\Google Drive\\Birkbeck-work\\Bbk-coursework\\PoPI\\Repl it assignments\\S05-recursion-theory+quizzes.ipynb\n",
      "C:\\Users\\alexl\\Google Drive\\Birkbeck-work\\Bbk-coursework\\PoPI\\Repl it assignments\\S06-Formatting, FIles and exceptions.ipynb\n"
     ]
    }
   ],
   "source": [
    "def listAllNestedFiles(path):\n",
    "    for item in os.listdir(path):\n",
    "        itemFullPath = os.path.join(path,item)\n",
    "        if os.path.isfile(itemFullPath):\n",
    "            print(itemFullPath)\n",
    "        else:\n",
    "            listAllNestedFiles(itemFullPath)\n",
    "\n",
    "listAllNestedFiles(\"C:\\\\Users\\\\alexl\\\\Google Drive\\\\Birkbeck-work\\\\Bbk-coursework\\\\PoPI\\\\\")"
   ]
  },
  {
   "cell_type": "markdown",
   "metadata": {},
   "source": [
    "## File handling\n",
    "Useful resource: https://docs.python.org/3/tutorial/inputoutput.html#reading-and-writing-files\n",
    "\n",
    "File handling in Python requires no importing of modules. \n",
    "\n",
    "Instead we can use the built-in object \"file\". It provides basic functions and methods necessary to manipulate files by default. \n",
    "\n",
    "Before you can read, append or write to a file, you will first have to open it using Python's built-in open() function. \n",
    "\n",
    "### open()\n",
    "The open function takes two arguments, the name of the filepath and and the mode.\n",
    "\n",
    "The mode indicates how the file is going to be opened \"r\" for reading (default), \"w\" for writing and \"a\" for a appending. \n",
    "[More info here](https://docs.python.org/3/library/functions.html#open).\n",
    "\n",
    "E.g. `fooFile = open(\"foo.txt\", \"w\")`\n",
    "\n",
    "### close()\n",
    "Python automatically closes a file only when the reference object of a file is reassigned to another file. \n",
    "It is a good practice to use the close() method. See below.\n",
    "\n",
    "### Read\n",
    "There are many different read methods.\n",
    "\n",
    "- `read()`returns one string\n",
    "\n",
    "- `readlines()` returns a list of lines\n",
    "\n",
    "- `readline()` returns one line at a time\n",
    "\n",
    "Closing the file is not mandatory when only reading, however [it's recommended](https://stackoverflow.com/a/8011863/3873799):\n",
    "\n",
    "> Using CPython, your file will be closed immediately after the line is executed, because the file object is immediately garbage collected. There are two drawbacks, though:\n",
    "> \n",
    "> - In Python implementations different from CPython, the file often isn't immediately closed, but rather at a later time, beyond your control.\n",
    "> \n",
    "> - In Python 3.2 or above, this will throw a ResourceWarning, if enabled.\n",
    "\n",
    "So if only reading, it's actually recommended to use **with**:\n",
    "```\n",
    "with open('pagehead.section.htm','r') as f:\n",
    "    output = f.read()\n",
    "```\n",
    "to force garbage collection once the read is done.\n",
    "\n",
    "### write()\n",
    "To write to a file, use:\n",
    "```\n",
    "fileToWrite = open(\"hello.txt\",\"w\")\n",
    "fileToWrite.write(\"Hello World\")\n",
    "fileToWrite.close()\n",
    "\n",
    "```\n",
    "Or for a list of values:\n",
    "\n",
    "NOTE: THIS DOES NOT INCLUDE AUTOMATICALLY NEWLINES! You need to insert manually `\\n`!\n",
    "```\n",
    "fileToWrite = open(\"hello.txt\", \"w\")\n",
    "lines_of_text = [\"a line of text\", \"another line of text\", \"a third line\"]\n",
    "fileToWrite.writelines(lines_of_text)\n",
    "fileToWrite.close()\n",
    "```\n",
    "\n",
    "To append to file, use:\n",
    "```\n",
    "fileToAppendTo = open(\"Hello.txt\", \"a\")\n",
    "write(\"Hello World again\")\n",
    "fileToAppendTo.close()\n",
    "```\n",
    "\n",
    "#### writelines()\n",
    "Simply allows to write a list; it iterates the list.\n",
    "\n",
    "Stupidly enough, **it does not write lines at all**, it simply iterates the list.  \n",
    "No newlines are added, you need to add `\\n` yourself again!\n",
    "```\n",
    "f.writelines([\"\\nSee you soon!\", \"\\nOver and out.\"])\n",
    "```"
   ]
  },
  {
   "cell_type": "markdown",
   "metadata": {},
   "source": [
    "## Quizzes exercises\n",
    "### Create test file for quizzes"
   ]
  },
  {
   "cell_type": "code",
   "execution_count": 64,
   "metadata": {
    "scrolled": false
   },
   "outputs": [
    {
     "data": {
      "text/plain": [
       "['.ipynb_checkpoints',\n",
       " 'S01-p06-Fractional Part.py',\n",
       " 'S01-p09.py',\n",
       " 'S01.ipynb',\n",
       " 'S02.ipynb',\n",
       " 'S03 - Collections theory.ipynb',\n",
       " 'S03 - Exercises.ipynb',\n",
       " 'S04 - Memory - Theory + exercises.ipynb',\n",
       " 'S05-recursion-theory+quizzes.ipynb',\n",
       " 'S06-Formatting, FIles and exceptions.ipynb',\n",
       " 'testFileForQuizzes.txt',\n",
       " 'testFileForQuizzes_output.txt']"
      ]
     },
     "execution_count": 64,
     "metadata": {},
     "output_type": "execute_result"
    }
   ],
   "source": [
    "fileToWrite = open(\"testFileForQuizzes.txt\", \"w\")\n",
    "lines = [\"2, -3, 5\", \"\\n45, 18, 4, 0\"]\n",
    "fileToWrite.writelines(lines)\n",
    "fileToWrite.close()\n",
    "\n",
    "os.listdir()"
   ]
  },
  {
   "cell_type": "markdown",
   "metadata": {},
   "source": [
    "### PART 1"
   ]
  },
  {
   "cell_type": "code",
   "execution_count": null,
   "metadata": {},
   "outputs": [],
   "source": [
    "#from sys import argv\n",
    "#infile = open(argv[1], \"r\")\n",
    "#outfile = open(argv[2], \"w\")\n",
    "\n",
    "infile = open(\"testFileForQuizzes.txt\", \"r\")\n",
    "lines = infile.readlines() \n",
    "\n",
    "for line in lines:\n",
    "    num_strings = line.rstrip().split(',')\n",
    "    sum = 0\n",
    "    for num_str in num_strings:\n",
    "        sum+=int(num_str\n",
    "    outfile.write(str(sum)+'\\n')\n",
    "infile.close()\n",
    "# MISSING CLOSE"
   ]
  },
  {
   "cell_type": "code",
   "execution_count": 65,
   "metadata": {},
   "outputs": [],
   "source": [
    "infile = open(\"testFileForQuizzes.txt\", \"r\")\n",
    "outfile = open(\"testFileForQuizzes_output.txt\", \"w\")\n",
    "lines = infile.readlines() \n",
    "\n",
    "for line in lines:\n",
    "    num_strings = line.rstrip().split(\",\")\n",
    "    sum = 0\n",
    "    for num_str in num_strings:\n",
    "        sum+=int(num_str)\n",
    "    outfile.write(str(sum)+'\\n')\n",
    "\n",
    "infile.close()\n",
    "outfile.close()"
   ]
  },
  {
   "cell_type": "code",
   "execution_count": 66,
   "metadata": {},
   "outputs": [
    {
     "ename": "AttributeError",
     "evalue": "'list' object has no attribute 'rstrip'",
     "output_type": "error",
     "traceback": [
      "\u001b[1;31m---------------------------------------------------------------------------\u001b[0m",
      "\u001b[1;31mAttributeError\u001b[0m                            Traceback (most recent call last)",
      "\u001b[1;32m<ipython-input-66-755ae12730ee>\u001b[0m in \u001b[0;36m<module>\u001b[1;34m()\u001b[0m\n\u001b[0;32m      4\u001b[0m \u001b[1;33m\u001b[0m\u001b[0m\n\u001b[0;32m      5\u001b[0m \u001b[1;32mwhile\u001b[0m \u001b[0mline\u001b[0m \u001b[1;33m!=\u001b[0m \u001b[1;34m\"\"\u001b[0m \u001b[1;33m:\u001b[0m\u001b[1;33m\u001b[0m\u001b[0m\n\u001b[1;32m----> 6\u001b[1;33m     \u001b[0mnum_strings\u001b[0m \u001b[1;33m=\u001b[0m \u001b[0mline\u001b[0m\u001b[1;33m.\u001b[0m\u001b[0mrstrip\u001b[0m\u001b[1;33m(\u001b[0m\u001b[1;33m)\u001b[0m\u001b[1;33m.\u001b[0m\u001b[0msplit\u001b[0m\u001b[1;33m(\u001b[0m\u001b[1;34m\",\"\u001b[0m\u001b[1;33m)\u001b[0m\u001b[1;33m\u001b[0m\u001b[0m\n\u001b[0m\u001b[0;32m      7\u001b[0m     \u001b[0msum\u001b[0m \u001b[1;33m=\u001b[0m \u001b[1;36m0\u001b[0m\u001b[1;33m\u001b[0m\u001b[0m\n\u001b[0;32m      8\u001b[0m     \u001b[1;32mfor\u001b[0m \u001b[0mnum_str\u001b[0m \u001b[1;32min\u001b[0m \u001b[0mnum_strings\u001b[0m\u001b[1;33m:\u001b[0m\u001b[1;33m\u001b[0m\u001b[0m\n",
      "\u001b[1;31mAttributeError\u001b[0m: 'list' object has no attribute 'rstrip'"
     ]
    }
   ],
   "source": [
    "infile = open(\"testFileForQuizzes.txt\", \"r\")\n",
    "outfile = open(\"testFileForQuizzes_output.txt\", \"w\")\n",
    "line = infile.readlines() \n",
    "\n",
    "while line != \"\" :\n",
    "    num_strings = line.rstrip().split(\",\")\n",
    "    sum = 0\n",
    "    for num_str in num_strings:\n",
    "        sum+=int(num_str)\n",
    "    outfile.write(str(sum)+'\\n')\n",
    "    line = infile.readline()\n",
    "    \n",
    "infile.close()\n",
    "outfile.close()         "
   ]
  },
  {
   "cell_type": "code",
   "execution_count": 67,
   "metadata": {},
   "outputs": [
    {
     "ename": "AttributeError",
     "evalue": "'list' object has no attribute 'rstrip'",
     "output_type": "error",
     "traceback": [
      "\u001b[1;31m---------------------------------------------------------------------------\u001b[0m",
      "\u001b[1;31mAttributeError\u001b[0m                            Traceback (most recent call last)",
      "\u001b[1;32m<ipython-input-67-a53d5cc7f073>\u001b[0m in \u001b[0;36m<module>\u001b[1;34m()\u001b[0m\n\u001b[0;32m      4\u001b[0m \u001b[1;33m\u001b[0m\u001b[0m\n\u001b[0;32m      5\u001b[0m \u001b[1;32mwhile\u001b[0m \u001b[0mline\u001b[0m \u001b[1;33m!=\u001b[0m \u001b[1;34m\"\"\u001b[0m \u001b[1;33m:\u001b[0m\u001b[1;33m\u001b[0m\u001b[0m\n\u001b[1;32m----> 6\u001b[1;33m     \u001b[0mnum_strings\u001b[0m \u001b[1;33m=\u001b[0m \u001b[0mline\u001b[0m\u001b[1;33m.\u001b[0m\u001b[0mrstrip\u001b[0m\u001b[1;33m(\u001b[0m\u001b[1;33m)\u001b[0m\u001b[1;33m.\u001b[0m\u001b[0msplit\u001b[0m\u001b[1;33m(\u001b[0m\u001b[1;34m\",\"\u001b[0m\u001b[1;33m)\u001b[0m\u001b[1;33m\u001b[0m\u001b[0m\n\u001b[0m\u001b[0;32m      7\u001b[0m     \u001b[0msum\u001b[0m \u001b[1;33m=\u001b[0m \u001b[1;36m0\u001b[0m\u001b[1;33m\u001b[0m\u001b[0m\n\u001b[0;32m      8\u001b[0m     \u001b[1;32mfor\u001b[0m \u001b[0mnum_str\u001b[0m \u001b[1;32min\u001b[0m \u001b[0mnum_strings\u001b[0m\u001b[1;33m:\u001b[0m\u001b[1;33m\u001b[0m\u001b[0m\n",
      "\u001b[1;31mAttributeError\u001b[0m: 'list' object has no attribute 'rstrip'"
     ]
    }
   ],
   "source": [
    "infile = open(\"testFileForQuizzes.txt\", \"r\")\n",
    "outfile = open(\"testFileForQuizzes_output.txt\", \"w\")\n",
    "line = infile.readlines() \n",
    "\n",
    "while line != \"\" :\n",
    "    num_strings = line.rstrip().split(\",\")\n",
    "    sum = 0\n",
    "    for num_str in num_strings:\n",
    "        sum+=int(num_str)\n",
    "    outfile.write(str(sum))\n",
    "    line = infile.readline()\n",
    "    \n",
    "infile.close()\n",
    "outfile.close()         "
   ]
  },
  {
   "cell_type": "code",
   "execution_count": null,
   "metadata": {},
   "outputs": [],
   "source": []
  }
 ],
 "metadata": {
  "kernelspec": {
   "display_name": "Python 3",
   "language": "python",
   "name": "python3"
  },
  "language_info": {
   "codemirror_mode": {
    "name": "ipython",
    "version": 3
   },
   "file_extension": ".py",
   "mimetype": "text/x-python",
   "name": "python",
   "nbconvert_exporter": "python",
   "pygments_lexer": "ipython3",
   "version": "3.7.4"
  }
 },
 "nbformat": 4,
 "nbformat_minor": 2
}
