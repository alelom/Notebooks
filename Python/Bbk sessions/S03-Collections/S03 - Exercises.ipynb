{
 "cells": [
  {
   "cell_type": "markdown",
   "metadata": {},
   "source": [
    "# COURSEWORK"
   ]
  },
  {
   "cell_type": "markdown",
   "metadata": {},
   "source": [
    "## 01\n",
    "Read a single line of text containing a list of numbers (separated by space).  Print all the list elements with an even index number. (i.e. A[0], A[2], A[4], ...) \n",
    "\n",
    "Hint. Use s.split(), where s is a string, to obtain a list of strings resulting from splitting s using space as separator\n",
    "\n",
    "For example, on input\n",
    "13 4 23 4 5 6\n",
    "output must be\n",
    "13 23 5"
   ]
  },
  {
   "cell_type": "code",
   "execution_count": 4,
   "metadata": {},
   "outputs": [
    {
     "name": "stdout",
     "output_type": "stream",
     "text": [
      "1 2 3 4\n",
      "1\n",
      "3\n"
     ]
    }
   ],
   "source": [
    "s = input()\n",
    "li = s.split(\" \")\n",
    "\n",
    "for i in range(0,len(li)):\n",
    "    if i%2 == 0:\n",
    "        print (li[i])"
   ]
  },
  {
   "cell_type": "code",
   "execution_count": 13,
   "metadata": {},
   "outputs": [
    {
     "data": {
      "text/plain": [
       "{0, 1, 2, 3, 4, 5, 6, 7, 8, 9}"
      ]
     },
     "execution_count": 13,
     "metadata": {},
     "output_type": "execute_result"
    }
   ],
   "source": [
    "lst = list(range(10))\n",
    "lst.append(2)\n",
    "s = set(lst)\n",
    "s\n"
   ]
  },
  {
   "cell_type": "code",
   "execution_count": 16,
   "metadata": {},
   "outputs": [
    {
     "name": "stdout",
     "output_type": "stream",
     "text": [
      "3\n"
     ]
    }
   ],
   "source": [
    "#implement the required function\n",
    "\n",
    "def numb_of_distinct(lst):\n",
    "  st = set(lst)\n",
    "  return (len(st))\n",
    "\n",
    "Lst = [1,1,2,3,3]\n",
    "print(numb_of_distinct(Lst))"
   ]
  },
  {
   "cell_type": "markdown",
   "metadata": {},
   "source": [
    "### 08 Swap minimal and maximal element of list"
   ]
  },
  {
   "cell_type": "code",
   "execution_count": 66,
   "metadata": {},
   "outputs": [
    {
     "name": "stdout",
     "output_type": "stream",
     "text": [
      "12 4 21\n"
     ]
    },
    {
     "ename": "TypeError",
     "evalue": "'int' object is not callable",
     "output_type": "error",
     "traceback": [
      "\u001b[1;31m---------------------------------------------------------------------------\u001b[0m",
      "\u001b[1;31mTypeError\u001b[0m                                 Traceback (most recent call last)",
      "\u001b[1;32m<ipython-input-66-7ba620b8ab06>\u001b[0m in \u001b[0;36m<module>\u001b[1;34m()\u001b[0m\n\u001b[0;32m      3\u001b[0m \u001b[0mli\u001b[0m \u001b[1;33m=\u001b[0m \u001b[0mlist\u001b[0m\u001b[1;33m(\u001b[0m\u001b[0mint\u001b[0m\u001b[1;33m(\u001b[0m\u001b[0mc\u001b[0m\u001b[1;33m)\u001b[0m \u001b[1;32mfor\u001b[0m \u001b[0mc\u001b[0m \u001b[1;32min\u001b[0m \u001b[0ms\u001b[0m\u001b[1;33m.\u001b[0m\u001b[0msplit\u001b[0m\u001b[1;33m(\u001b[0m\u001b[1;33m)\u001b[0m \u001b[1;32mif\u001b[0m \u001b[0mc\u001b[0m\u001b[1;33m)\u001b[0m\u001b[1;33m\u001b[0m\u001b[0m\n\u001b[0;32m      4\u001b[0m \u001b[1;33m\u001b[0m\u001b[0m\n\u001b[1;32m----> 5\u001b[1;33m \u001b[0mprint\u001b[0m \u001b[1;33m(\u001b[0m\u001b[0mmax\u001b[0m\u001b[1;33m(\u001b[0m\u001b[0mli\u001b[0m\u001b[1;33m)\u001b[0m\u001b[1;33m)\u001b[0m\u001b[1;33m\u001b[0m\u001b[0m\n\u001b[0m\u001b[0;32m      6\u001b[0m \u001b[0mli\u001b[0m\u001b[1;33m[\u001b[0m\u001b[0mli\u001b[0m\u001b[1;33m.\u001b[0m\u001b[0mindex\u001b[0m\u001b[1;33m(\u001b[0m\u001b[0mmax\u001b[0m\u001b[1;33m(\u001b[0m\u001b[0mli\u001b[0m\u001b[1;33m)\u001b[0m\u001b[1;33m)\u001b[0m\u001b[1;33m]\u001b[0m \u001b[1;33m=\u001b[0m \u001b[0mmin\u001b[0m\u001b[1;33m(\u001b[0m\u001b[0mli\u001b[0m\u001b[1;33m)\u001b[0m\u001b[1;33m\u001b[0m\u001b[0m\n\u001b[0;32m      7\u001b[0m \u001b[1;33m\u001b[0m\u001b[0m\n",
      "\u001b[1;31mTypeError\u001b[0m: 'int' object is not callable"
     ]
    }
   ],
   "source": [
    "s = input()\n",
    "\n",
    "li = list(int(c) for c in s.split() if c)\n",
    "\n",
    "print (max(li))\n",
    "li[li.index(max(li))] = min(li)\n",
    "\n",
    "#print(a)"
   ]
  },
  {
   "cell_type": "code",
   "execution_count": null,
   "metadata": {},
   "outputs": [],
   "source": [
    "s = input()\n",
    "li = s.split(\" \")\n",
    "s1 = \"\"\n",
    "\n",
    "li1 = list(set(li))\n",
    "s1 += li1[0] + \" \"\n",
    "\n",
    "for c in li[1:len(li)-1]:\n",
    "  s1 += c + \" \"\n",
    "\n",
    "s1 += li1[len(li1)-1]\n",
    "  \n",
    "print  (s1)"
   ]
  },
  {
   "cell_type": "code",
   "execution_count": 26,
   "metadata": {},
   "outputs": [
    {
     "name": "stdout",
     "output_type": "stream",
     "text": [
      "5 7 3 2 1 6\n"
     ]
    },
    {
     "data": {
      "text/plain": [
       "1"
      ]
     },
     "execution_count": 26,
     "metadata": {},
     "output_type": "execute_result"
    }
   ],
   "source": [
    "s = input()\n",
    "li = s.split(\" \")\n",
    "s1 = \"\"\n",
    "\n",
    "li1 = list(set(int(x) for x in li))\n",
    "mn = str(li1[0])\n",
    "mx = str(li1[len(li1)-1])\n",
    "\n",
    "min_i = 0\n",
    "max_i = 0\n",
    "\n",
    "for i in range(0, len(li)):\n",
    "    if li[i] == mn:\n",
    "        min_i = i\n",
    "    if li[i] == mx:\n",
    "        max_i = i\n",
    "        \n",
    "li[min_i] = mx\n",
    "li[max_i] = mn\n",
    "\n",
    "        \n",
    "    "
   ]
  },
  {
   "cell_type": "code",
   "execution_count": 33,
   "metadata": {},
   "outputs": [
    {
     "name": "stdout",
     "output_type": "stream",
     "text": [
      "1 2 5 6 3\n"
     ]
    },
    {
     "ename": "TypeError",
     "evalue": "'int' object is not callable",
     "output_type": "error",
     "traceback": [
      "\u001b[1;31m---------------------------------------------------------------------------\u001b[0m",
      "\u001b[1;31mTypeError\u001b[0m                                 Traceback (most recent call last)",
      "\u001b[1;32m<ipython-input-33-518f4225fc02>\u001b[0m in \u001b[0;36m<module>\u001b[1;34m()\u001b[0m\n\u001b[0;32m      6\u001b[0m \u001b[1;33m\u001b[0m\u001b[0m\n\u001b[0;32m      7\u001b[0m \u001b[1;33m\u001b[0m\u001b[0m\n\u001b[1;32m----> 8\u001b[1;33m \u001b[0ma\u001b[0m\u001b[1;33m[\u001b[0m\u001b[0ma\u001b[0m\u001b[1;33m.\u001b[0m\u001b[0mindex\u001b[0m\u001b[1;33m(\u001b[0m\u001b[0mmax\u001b[0m\u001b[1;33m(\u001b[0m\u001b[0ma\u001b[0m\u001b[1;33m)\u001b[0m\u001b[1;33m)\u001b[0m\u001b[1;33m]\u001b[0m\u001b[1;33m,\u001b[0m \u001b[0ma\u001b[0m\u001b[1;33m[\u001b[0m\u001b[0ma\u001b[0m\u001b[1;33m.\u001b[0m\u001b[0mindex\u001b[0m\u001b[1;33m(\u001b[0m\u001b[0mmin\u001b[0m\u001b[1;33m(\u001b[0m\u001b[0ma\u001b[0m\u001b[1;33m)\u001b[0m\u001b[1;33m)\u001b[0m\u001b[1;33m]\u001b[0m \u001b[1;33m=\u001b[0m \u001b[0mmin\u001b[0m\u001b[1;33m(\u001b[0m\u001b[0ma\u001b[0m\u001b[1;33m)\u001b[0m\u001b[1;33m,\u001b[0m \u001b[0mmax\u001b[0m\u001b[1;33m(\u001b[0m\u001b[0ma\u001b[0m\u001b[1;33m)\u001b[0m\u001b[1;33m\u001b[0m\u001b[0m\n\u001b[0m",
      "\u001b[1;31mTypeError\u001b[0m: 'int' object is not callable"
     ]
    }
   ],
   "source": [
    "s = input()\n",
    "li = s.split(\" \")\n",
    "a = []\n",
    "\n",
    "a = list(int(x) for x in li)\n",
    "\n",
    "\n",
    "a[a.index(max(a))], a[a.index(min(a))] = min(a), max(a)"
   ]
  },
  {
   "cell_type": "code",
   "execution_count": 36,
   "metadata": {},
   "outputs": [
    {
     "name": "stdout",
     "output_type": "stream",
     "text": [
      "1 4 2 3\n",
      "1 4 5 12\n"
     ]
    },
    {
     "data": {
      "text/plain": [
       "[1, 4, 2, 3]"
      ]
     },
     "execution_count": 36,
     "metadata": {},
     "output_type": "execute_result"
    }
   ],
   "source": [
    "s1 = input()\n",
    "s2 = input()\n",
    "li1 = list(int(c) for c in s1.split(\" \"))\n",
    "li2 = list(int(c) for c in s2.split(\" \"))\n",
    "\n",
    "li1"
   ]
  },
  {
   "cell_type": "code",
   "execution_count": 41,
   "metadata": {},
   "outputs": [
    {
     "name": "stdout",
     "output_type": "stream",
     "text": [
      "asdagagfasdadf\n"
     ]
    },
    {
     "data": {
      "text/plain": [
       "{'a', 'd', 'f', 'g', 's'}"
      ]
     },
     "execution_count": 41,
     "metadata": {},
     "output_type": "execute_result"
    }
   ],
   "source": [
    "s = input()\n",
    "\n",
    "if 'f' not in s:\n",
    "  print(\"-1\")\n",
    "\n",
    "for c in s:\n",
    "    if c == 'f':\n",
    "        \n"
   ]
  },
  {
   "cell_type": "code",
   "execution_count": 46,
   "metadata": {},
   "outputs": [
    {
     "name": "stdout",
     "output_type": "stream",
     "text": [
      "89 78 67 56 45 89 45\n",
      "56 12 12 13 45 89\n",
      "3\n",
      "{56, 89, 45}\n"
     ]
    }
   ],
   "source": [
    "li1 = input().split(\" \")\n",
    "li2 = input().split(\" \")\n",
    "set1 = set(int(c) for c in li1 if c) \n",
    "set2 = set(int(c) for c in li2 if c) #added 'if c' to remove empty strings\n",
    "\n",
    "print (len(set1) + len(set2)- len(set1.union(set2)))\n",
    "#or \n",
    "print (len(set1.intersection(set2))) # better\n",
    "\n",
    "# 89 78 67 56 45 89 45\n",
    "# 56 12 12 13 45 89"
   ]
  },
  {
   "cell_type": "markdown",
   "metadata": {},
   "source": [
    "## Session 3 Problem 15: Remove numbers - another example of stupid python"
   ]
  },
  {
   "cell_type": "code",
   "execution_count": null,
   "metadata": {},
   "outputs": [],
   "source": [
    "set_init = set(input().split(\" \"))\n",
    "set_rem = set()\n",
    "set_add = set()\n",
    "\n",
    "i = 0\n",
    "while(True):\n",
    "  s = input()\n",
    "  if (s == \"END\"): break\n",
    "  \n",
    "  li = set(int(c) for c in s.split(\" \") if c)\n",
    "\n",
    "  if (i % 2 == 0):\n",
    "    set_rem.update(li) # used update to add elements of an iterable collection to the set as UNION DIDN'T WORK FOR SOME REASON\n",
    "  else:\n",
    "    set_add.update(li)\n",
    "  \n",
    "  i+=1\n",
    "\n",
    "gna = set_init.union(set_add)\n",
    "gna.discard(set_rem)\n",
    "\n",
    "print(list(set_rem))\n",
    "print(list(set_add))"
   ]
  },
  {
   "cell_type": "code",
   "execution_count": 47,
   "metadata": {},
   "outputs": [
    {
     "name": "stdout",
     "output_type": "stream",
     "text": [
      "123\n",
      "123\n",
      "123\n",
      "123\n",
      "END\n",
      "[]\n"
     ]
    }
   ],
   "source": [
    "# CORRECT SOLUTION - LOST AN HOUR DUE TO STUPIDEST SYNTAX EVER\n",
    "\n",
    "set_init = set(int(c) for c in input().split(\" \") if c)\n",
    "set_rem = set()\n",
    "set_add = set()\n",
    "\n",
    "i = 0\n",
    "while(True):\n",
    "  s = input()\n",
    "  if (s == \"END\"): break\n",
    "  \n",
    "  li = list(int(c) for c in s.split(\" \") if c)\n",
    "\n",
    "  if (i % 2 == 0):\n",
    "    set_init = set_init.difference(li)\n",
    "  else:\n",
    "    set_init.update(li)\n",
    "  \n",
    "  i+=1\n",
    "\n",
    "\n",
    "print(sorted(list(set_init)))"
   ]
  },
  {
   "cell_type": "code",
   "execution_count": 62,
   "metadata": {},
   "outputs": [
    {
     "name": "stdout",
     "output_type": "stream",
     "text": [
      "ASD ASD ASD ASD\n",
      "[1, 2, 3, 4]\n"
     ]
    }
   ],
   "source": [
    "s = input().split(\" \")\n",
    "count_li = [0] * len(s)\n",
    "\n",
    "for i in range(0,len(s)):\n",
    "  for w in s[0:i+1]:\n",
    "    if(w == s[i]):\n",
    "      count_li[i] += 1\n",
    "\n",
    "print(count_li)"
   ]
  },
  {
   "cell_type": "code",
   "execution_count": null,
   "metadata": {},
   "outputs": [],
   "source": []
  }
 ],
 "metadata": {
  "kernelspec": {
   "display_name": "Python 3",
   "language": "python",
   "name": "python3"
  },
  "language_info": {
   "codemirror_mode": {
    "name": "ipython",
    "version": 3
   },
   "file_extension": ".py",
   "mimetype": "text/x-python",
   "name": "python",
   "nbconvert_exporter": "python",
   "pygments_lexer": "ipython3",
   "version": "3.6.5"
  }
 },
 "nbformat": 4,
 "nbformat_minor": 2
}
