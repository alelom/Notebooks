{
 "cells": [
  {
   "cell_type": "markdown",
   "metadata": {},
   "source": [
    "## Theory"
   ]
  },
  {
   "cell_type": "code",
   "execution_count": 3,
   "metadata": {
    "scrolled": true
   },
   "outputs": [
    {
     "data": {
      "text/plain": [
       "'g'"
      ]
     },
     "execution_count": 3,
     "metadata": {},
     "output_type": "execute_result"
    }
   ],
   "source": [
    "s = \"gna\"\n",
    "s[0]"
   ]
  },
  {
   "cell_type": "code",
   "execution_count": 11,
   "metadata": {},
   "outputs": [
    {
     "data": {
      "text/plain": [
       "[1, 2, 3, 1, 2, 3, 1, 2, 3]"
      ]
     },
     "execution_count": 11,
     "metadata": {},
     "output_type": "execute_result"
    }
   ],
   "source": [
    "li = [1,2,3]\n",
    "li*3"
   ]
  },
  {
   "cell_type": "markdown",
   "metadata": {},
   "source": [
    "### Pass-by-assignment"
   ]
  },
  {
   "cell_type": "markdown",
   "metadata": {},
   "source": [
    "Python is _pass-by-object-reference_ , of which it is often said:\n",
    "\n",
    "> Object references are passed by value.\n",
    "\n",
    "[All values in Python are \"references\"](https://stackoverflow.com/questions/6158907/what-does-python-treat-as-reference-types), in the sense that even integers are stored in an object of class integer. \n",
    "\n",
    "https://www.oreilly.com/library/view/learning-python/1565924649/ch04s04.html\n",
    "\n",
    "\n",
    "What you need to worry about is if a type is **mutable** or **immutable**;\n",
    "however the behaviour is really similar to pass-by-reference VS pass-by-value.\n",
    "\n",
    "Immutable arguments act like C’s “by value” mode\n",
    "Objects such as integers and strings are passed by object reference (assignment), but since you can’t change immutable objects in place anyhow, the effect is much like making a copy.\n",
    "\n",
    "Mutable arguments act like C’s “by pointer” mode\n",
    "Objects such as lists and dictionaries are passed by object reference too, which is similar to the way C passes arrays as pointers—mutable objects can be changed in place in the function, much like C arrays.\n",
    "\n",
    "In other words, changing a mutable object in place can impact other references to the object; exactly like changing a reference type in place in C# can impact other references to it."
   ]
  },
  {
   "cell_type": "code",
   "execution_count": 1,
   "metadata": {},
   "outputs": [
    {
     "name": "stdout",
     "output_type": "stream",
     "text": [
      "X is 1;  List is [1, 'spam'];  T is (1, 2, 3)\n"
     ]
    }
   ],
   "source": [
    "def changer(x, y, z):\n",
    "    x = 2             # changes local value only (integer is immutable - it is passed like \"by value\")\n",
    "    y[1] = 'spam'     # changes shared object (list is mutable - it is passed like \"by reference\")\n",
    "    z = (7,8,9)       # changes local value only (tuple is immutable - it is passed like \"by value\")\n",
    "\n",
    "X = 1\n",
    "List = [1, 2]\n",
    "T = (1,2,3)\n",
    "changer(X, List, T)        # pass immutable and mutable\n",
    "print(f\"X is {X}; \",f\"List is {List}; \", f\"T is {T}\")   # X unchanged, L is different, T unchanged"
   ]
  },
  {
   "cell_type": "markdown",
   "metadata": {},
   "source": [
    "Only way to avoid the modification is **cloning** (copy/deepcopy, see [#02](#02) below)"
   ]
  },
  {
   "cell_type": "markdown",
   "metadata": {},
   "source": [
    "## Quizzes"
   ]
  },
  {
   "cell_type": "markdown",
   "metadata": {},
   "source": [
    "### 01\n",
    "Consider a variable A that was assigned to an object O of a given type and the code below that runs immediately after this assignment occurred. Indicate whether the code may change O or not. If the code will result in error for some O of the specified type, indicate that (no need to specify if O will change or not in this case)"
   ]
  },
  {
   "cell_type": "code",
   "execution_count": 14,
   "metadata": {},
   "outputs": [
    {
     "name": "stdout",
     "output_type": "stream",
     "text": [
      "{'john doe': 12345670}\n"
     ]
    }
   ],
   "source": [
    "# Answer 1\n",
    "#A is a dictionary mapping strings to integers, think of a phone book\n",
    "A = {}\n",
    "B=A\n",
    "B['john doe']=12345670\n",
    "print(A)"
   ]
  },
  {
   "cell_type": "code",
   "execution_count": 16,
   "metadata": {},
   "outputs": [
    {
     "name": "stdout",
     "output_type": "stream",
     "text": [
      "['gna', 'new']\n"
     ]
    }
   ],
   "source": [
    "# Answer 2\n",
    "#A assigned to the list of strings\n",
    "A = [\"gna\"] \n",
    "B=A\n",
    "B.append('new')\n",
    "print(A)"
   ]
  },
  {
   "cell_type": "code",
   "execution_count": 18,
   "metadata": {},
   "outputs": [
    {
     "ename": "TypeError",
     "evalue": "'str' object does not support item assignment",
     "output_type": "error",
     "traceback": [
      "\u001b[1;31m---------------------------------------------------------------------------\u001b[0m",
      "\u001b[1;31mTypeError\u001b[0m                                 Traceback (most recent call last)",
      "\u001b[1;32m<ipython-input-18-81df13f96062>\u001b[0m in \u001b[0;36m<module>\u001b[1;34m()\u001b[0m\n\u001b[0;32m      3\u001b[0m \u001b[0mA\u001b[0m \u001b[1;33m=\u001b[0m \u001b[1;34m\"gna\"\u001b[0m\u001b[1;33m\u001b[0m\u001b[0m\n\u001b[0;32m      4\u001b[0m \u001b[0mB\u001b[0m \u001b[1;33m=\u001b[0m \u001b[0mA\u001b[0m\u001b[1;33m\u001b[0m\u001b[0m\n\u001b[1;32m----> 5\u001b[1;33m \u001b[0mB\u001b[0m\u001b[1;33m[\u001b[0m\u001b[1;36m0\u001b[0m\u001b[1;33m]\u001b[0m\u001b[1;33m=\u001b[0m\u001b[1;34m'x'\u001b[0m\u001b[1;33m\u001b[0m\u001b[0m\n\u001b[0m",
      "\u001b[1;31mTypeError\u001b[0m: 'str' object does not support item assignment"
     ]
    }
   ],
   "source": [
    "# Answer 3\n",
    "#A assigned to a string containing at least one symbol\n",
    "A = \"gna\"\n",
    "B = A\n",
    "B[0]='x'"
   ]
  },
  {
   "cell_type": "code",
   "execution_count": null,
   "metadata": {},
   "outputs": [],
   "source": [
    "# Answer 4\n",
    "#A assigned to a string\n",
    "\n",
    "B = A\n",
    "\n",
    "B='extra'"
   ]
  },
  {
   "cell_type": "code",
   "execution_count": null,
   "metadata": {},
   "outputs": [],
   "source": [
    "# Answer 5\n",
    "#A assigned to a set of integers\n",
    "\n",
    "B=A\n",
    "\n",
    "B.add(10)"
   ]
  },
  {
   "cell_type": "code",
   "execution_count": null,
   "metadata": {},
   "outputs": [],
   "source": [
    "# Answer 6\n",
    "#A assigned to a set of integers\n",
    "\n",
    "B=A\n",
    "\n",
    "B = B - {0,1}"
   ]
  },
  {
   "cell_type": "code",
   "execution_count": null,
   "metadata": {},
   "outputs": [],
   "source": [
    "# Answer 7\n",
    "#A assigned to the list of strings\n",
    "\n",
    "B=A\n",
    "\n",
    "B=B+['new']"
   ]
  },
  {
   "cell_type": "code",
   "execution_count": null,
   "metadata": {},
   "outputs": [],
   "source": [
    "# Answer 8\n",
    "#A assigned to the list of strings with more than 2 strings\n",
    "\n",
    "B=A[2:]\n",
    "\n",
    "B.append('new')\n"
   ]
  },
  {
   "cell_type": "code",
   "execution_count": 12,
   "metadata": {},
   "outputs": [],
   "source": [
    "# Answer 9\n",
    "# A is assigned to an integer\n",
    "\n",
    "B=A\n",
    "\n",
    "B=5"
   ]
  },
  {
   "cell_type": "markdown",
   "metadata": {},
   "source": [
    "### 02"
   ]
  },
  {
   "cell_type": "code",
   "execution_count": 6,
   "metadata": {},
   "outputs": [
    {
     "name": "stdout",
     "output_type": "stream",
     "text": [
      "[[0, 2, 3], [0, 5, 6]]\n"
     ]
    }
   ],
   "source": [
    "import copy\n",
    "def nullify_first_column( x ):\n",
    "     y=copy.copy( x )            # CAREFUL! THIS ONLY COPIES THE FIRST LEVEL OF REFERENCES. \n",
    "     for i in range(0, len( y )):\n",
    "          y[i][0] = 0\n",
    "     return y\n",
    "M=[[1,2,3],[4,5,6]] # USING THE ABOVE With A MATRIX (i.e. list of lists) MAY STILL MODIFY IT, BECAUSE WE DIDN'T DO copy.deepcopy!\n",
    "nullify_first_column(M)\n",
    "print(M)"
   ]
  },
  {
   "cell_type": "code",
   "execution_count": 7,
   "metadata": {},
   "outputs": [
    {
     "name": "stdout",
     "output_type": "stream",
     "text": [
      "5\n"
     ]
    }
   ],
   "source": [
    "def add_one( x ):\n",
    "     y = x\n",
    "     return y+1\n",
    "A = 5\n",
    "add_one(A)\n",
    "print(A)"
   ]
  },
  {
   "cell_type": "code",
   "execution_count": 9,
   "metadata": {},
   "outputs": [
    {
     "name": "stdout",
     "output_type": "stream",
     "text": [
      "[1, 2, 3, 0]\n",
      "[1, 2, 3]\n"
     ]
    }
   ],
   "source": [
    "def add_zero( x ):\n",
    "     y=x.copy()\n",
    "     y.append( 0 )\n",
    "     return y\n",
    "    \n",
    "A = [1,2,3]\n",
    "add_zero(A)\n",
    "print(add_zero(A))\n",
    "print(A)"
   ]
  },
  {
   "cell_type": "code",
   "execution_count": 10,
   "metadata": {},
   "outputs": [
    {
     "name": "stdout",
     "output_type": "stream",
     "text": [
      "[1, 2, 3, 0, 0]\n",
      "[1, 2, 3, 0, 0]\n"
     ]
    }
   ],
   "source": [
    "def add_zero( x ): #another version, without the copy\n",
    "     y=x\n",
    "     y.append( 0 )\n",
    "     return y\n",
    "\n",
    "A = [1,2,3]\n",
    "add_zero(A)\n",
    "print(add_zero(A))\n",
    "print(A)"
   ]
  },
  {
   "cell_type": "markdown",
   "metadata": {},
   "source": [
    "## EXERCISES"
   ]
  },
  {
   "cell_type": "code",
   "execution_count": 40,
   "metadata": {},
   "outputs": [
    {
     "data": {
      "text/plain": [
       "(1, 2)"
      ]
     },
     "execution_count": 40,
     "metadata": {},
     "output_type": "execute_result"
    }
   ],
   "source": [
    "def matrix_max_index(M,m,n):\n",
    "    maxValueAllRows = 0\n",
    "    maxValueRowIdx = 0\n",
    "    maxValueColIdx = 0\n",
    "    maxValue = 0\n",
    "    for rowIdx in range(0,m):\n",
    "        maxValueInRow = max(M[rowIdx])\n",
    "        if (maxValueInRow > maxValueAllRows):\n",
    "            maxValueAllRows = maxValueInRow\n",
    "            maxValueRowIdx = rowIdx\n",
    "        for colIdx in range(0,n):\n",
    "            if (M[rowIdx][colIdx] > maxValue):\n",
    "                maxValue = M[rowIdx][colIdx]\n",
    "                maxValueColIdx = colIdx\n",
    "    return (maxValueRowIdx, maxValueColIdx)\n",
    "        \n",
    "M = [[0, 3, 2, 4], [2, 3, 5, 5],  [5, 1, 2, 3]]\n",
    "matrix_max_index(M, 3, 4)\n",
    "#print(matrix_max_index(M, 3, 4))\n",
    "#print(matrix_max_index(M, 3, 4)==(1,2))"
   ]
  },
  {
   "cell_type": "markdown",
   "metadata": {},
   "source": [
    "## 02 \n",
    "Implement the non-fruitful function swap_columns(M, m, n, i, j) that modifies the given matrix M, with m rows and n colums, by swapping the (whole) colums i and j.  \n",
    "\n",
    "For example, result of \n",
    "M =  [[11, 12, 13, 14], [21, 22, 23, 24], [31, 32, 33, 34]]\n",
    "swap_columns(M, 3, 4, 0, 1)\n",
    "print(M)\n",
    "must be\n",
    "[[12, 11, 13, 14],  [22, 21, 23, 24], [32, 31, 33, 34]] "
   ]
  },
  {
   "cell_type": "code",
   "execution_count": 9,
   "metadata": {},
   "outputs": [
    {
     "name": "stdout",
     "output_type": "stream",
     "text": [
      "[[12, 11, 13, 14], [22, 21, 23, 24], [32, 31, 33, 34]]\n"
     ]
    }
   ],
   "source": [
    "def swap_columns(M,m,n,i,j):\n",
    "    col_i=list(M[x][i] for x in range(0,m))\n",
    "    col_j=list(M[x][j] for x in range(0,m))\n",
    "    for rIdx in range(0,m):\n",
    "        for cIdx in range(0,n):\n",
    "            if cIdx == i:\n",
    "                M[rIdx][i] = col_j[rIdx]\n",
    "            if cIdx == j:\n",
    "                M[rIdx][j] = col_i[rIdx]\n",
    "    \n",
    "M = [[11, 12, 13, 14], [21, 22, 23, 24], [31, 32, 33, 34]] \n",
    "swap_columns(M, 3, 4, 0, 1)\n",
    "print(M)"
   ]
  },
  {
   "cell_type": "markdown",
   "metadata": {},
   "source": [
    "## 03\n",
    "Implement a fruitful function scale_matrix(M, m, n, c) that returns the scaled matrix M (where the number at each position is multiplied by c) and does not modify M.\n",
    "\n",
    "For example, the result of:\n",
    "M = [[11, 12, 13, 14], [21, 22, 23, 24], [31, 32, 33, 34]]\n",
    "N = scale_matrix(M, 3, 4, 2)\n",
    "print(M)\n",
    "print(N)\n",
    "must be\n",
    "[[11, 12, 13, 14], [21, 22, 23, 24], [31, 32, 33, 34]]\n",
    "[[22, 24, 26, 28], [42, 44, 46, 48], [62, 64, 66, 68]]"
   ]
  },
  {
   "cell_type": "code",
   "execution_count": 14,
   "metadata": {},
   "outputs": [
    {
     "name": "stdout",
     "output_type": "stream",
     "text": [
      "0\n",
      "1\n",
      "2\n",
      "[[11, 12, 13, 14], [21, 22, 23, 24], [31, 32, 33, 34]]\n",
      "[[22, 24, 26, 28], [42, 44, 46, 48], [62, 64, 66, 68]]\n"
     ]
    }
   ],
   "source": [
    "def scale_matrix(M, m, n, c):\n",
    "    N = []\n",
    "    for rIdx in range(0,m):\n",
    "        row =list(M[rIdx][x]*c for x in range(0,n))\n",
    "        N.append(row)\n",
    "        print(rIdx)\n",
    "    return N\n",
    "    \n",
    "\n",
    "M = [[11, 12, 13, 14], [21, 22, 23, 24], [31, 32, 33, 34]]\n",
    "N = scale_matrix(M, 3, 4, 2)\n",
    "print(M)\n",
    "print(N)"
   ]
  },
  {
   "cell_type": "code",
   "execution_count": null,
   "metadata": {},
   "outputs": [],
   "source": []
  }
 ],
 "metadata": {
  "kernelspec": {
   "display_name": "Python 3",
   "language": "python",
   "name": "python3"
  },
  "language_info": {
   "codemirror_mode": {
    "name": "ipython",
    "version": 3
   },
   "file_extension": ".py",
   "mimetype": "text/x-python",
   "name": "python",
   "nbconvert_exporter": "python",
   "pygments_lexer": "ipython3",
   "version": "3.7.4"
  }
 },
 "nbformat": 4,
 "nbformat_minor": 2
}
