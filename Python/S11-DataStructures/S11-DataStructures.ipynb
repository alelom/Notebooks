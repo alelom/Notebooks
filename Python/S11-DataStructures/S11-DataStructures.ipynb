{
 "cells": [
  {
   "cell_type": "markdown",
   "metadata": {},
   "source": [
    "# Data Structures"
   ]
  },
  {
   "cell_type": "markdown",
   "metadata": {},
   "source": [
    "## Stack\n",
    "Last In First Out **FIFO** Data Structure.\n",
    "\n",
    "(called by the instructor, somewhat erroneously, First In Last Out *FILO*; possibly equivalent, but FIFO is the right acronym)"
   ]
  },
  {
   "cell_type": "markdown",
   "metadata": {},
   "source": [
    "## Queues\n",
    "First In First Out **FIFO** data structure."
   ]
  },
  {
   "cell_type": "markdown",
   "metadata": {},
   "source": [
    "## Linked lists\n",
    "\n",
    "From Wikipedia:\n",
    ">  A **linked list** is a data structure consisting of a group of nodes which together represent a sequence. \n",
    ">\n",
    "> Under the simplest form, each node is composed of a **datum** and a **reference** (in other words, a link) to the next node in the sequence.\n",
    ">\n",
    "> <img src=\"http://i.stack.imgur.com/VbsZn.png\">\n",
    ">\n",
    "> <sup>A linked list whose nodes contain two fields: an integer value and a link to the next node. <br/>The last node is linked to a terminator used to signify the end of the list.</sup>\n",
    "\n",
    "\n",
    "C# LinkedList have actually [few use cases](https://stackoverflow.com/questions/670104); their speed is generally O(n).\n",
    "\n",
    "### Real world use cases\n",
    "No one seems to agree on real world use cases, with [some experts stating that there are none](https://stackoverflow.com/q/670104/3873799) since you could just use another more efficient data structure.\n",
    "\n",
    "[An example usage](https://stackoverflow.com/a/670193/3873799) is for building FIFO data structures; but that's Queues. I guess the advantage over Queues is that Linked Lists might allow for a bit more flexibility, but **TODO: check**.\n",
    "\n",
    "With the same logic they can also be used to build LIFO data structures (Stacks).\n",
    "\n",
    "[This guy on SO](https://stackoverflow.com/a/670310/3873799) states that he found an use case for Linked Lists in building an **LRU Cache**. The application, while criticised, is interesting.\n",
    "\n",
    "One commonly reported pro of Linked Lists is the fact that they *may* help reducing memory fragmentation (I guess moving stuff around while sorting things out?).\n",
    "\n",
    "\n",
    "\n",
    "\n",
    "### C# LinkedList\n",
    "\n",
    "C# `List` is generally preferred over `LinkedList`. \n",
    "This is because [`List` is a wrapper of `ArrayList`](https://stackoverflow.com/questions/9971916/is-listt-a-linked-list) which is backed by an Array, so its speed is generally O(1).\n",
    "\n",
    "Elaborated from [SO](https://stackoverflow.com/a/169983/3873799):\n",
    "`LinkedList<T>` is most efficient when only accessing sequential data (either forwards or backwards); random access is relatively expensive since it must walk the chain each time (hence why it doesn't have an indexer). \n",
    "Because a `List<T>` is essentially just an array (with a wrapper) random access is fine for it.\n",
    "\n",
    "`LinkedList<T>` will have less cost when adding/removing items in the middle of the list, whereas `List<T>` can only cheaply add/remove at the *end* of the list.\n",
    "\n"
   ]
  },
  {
   "cell_type": "markdown",
   "metadata": {},
   "source": [
    "### Lecturer implementation"
   ]
  },
  {
   "cell_type": "code",
   "execution_count": 35,
   "metadata": {},
   "outputs": [],
   "source": [
    "class Node: \n",
    "    def __init__(self, init_data): \n",
    "        self.data = init_data \n",
    "        self.next = None"
   ]
  },
  {
   "cell_type": "code",
   "execution_count": 38,
   "metadata": {},
   "outputs": [
    {
     "name": "stdout",
     "output_type": "stream",
     "text": [
      "head points to:\t\tNone\n",
      "new_node points to:\t<__main__.Node object at 0x0000026106C92D30>\n",
      "head points to:\t\t<__main__.Node object at 0x0000026106C92D30>\n",
      "new_node points to:\t<__main__.Node object at 0x0000026106C92D30>\n"
     ]
    }
   ],
   "source": [
    "head = Node(4)        # adds a head node\n",
    "\n",
    "new_node = Node(6)    # adds a new node\n",
    "new_node.next = head  # newNode -> head (current)\n",
    "print(\"head points to:\\t\\t\" + str(head.next))\n",
    "print(\"new_node points to:\\t\" + str(new_node.next))\n",
    "head = new_node       # head is updated.\n",
    "print(\"head points to:\\t\\t\" + str(head.next))\n",
    "print(\"new_node points to:\\t\" + str(new_node.next))"
   ]
  },
  {
   "cell_type": "code",
   "execution_count": 37,
   "metadata": {},
   "outputs": [
    {
     "name": "stdout",
     "output_type": "stream",
     "text": [
      "head points to:\t\t<__main__.Node object at 0x0000026106D2A588>\n",
      "head points to:\t\t<__main__.Node object at 0x0000026106D2AF60>\n"
     ]
    }
   ],
   "source": [
    "new_node = Node(7)\n",
    "new_node.next = head\n",
    "head = new_node\n",
    "print(\"head points to:\\t\\t\" + str(head.next))\n",
    "\n",
    "new_node = Node(5)\n",
    "new_node.next = head\n",
    "head = new_node\n",
    "print(\"head points to:\\t\\t\" + str(head.next))"
   ]
  },
  {
   "cell_type": "code",
   "execution_count": 32,
   "metadata": {},
   "outputs": [
    {
     "name": "stdout",
     "output_type": "stream",
     "text": [
      "6\n"
     ]
    }
   ],
   "source": [
    "current_node = head\n",
    "for i in range(0,3):\n",
    "    current_node = current_node.next\n",
    "print(current_node.data)"
   ]
  },
  {
   "cell_type": "markdown",
   "metadata": {},
   "source": [
    "### Tutorial exercise\n",
    "Implement the pseudocode below using [Python's `SimpleQueue` class](https://docs.python.org/3/library/queue.html#queue.SimpleQueue).\n",
    "\n",
    "Simple queues lack advanced functionality such as task tracking, but generally are more efficient.\n",
    "\n",
    "```\n",
    "start with empty queue\n",
    "\n",
    "for each num in the input:\n",
    "    if num is a positive number:\n",
    "        queue.enqueue(num)\n",
    "    else: #num is negative\n",
    "        if queue.is_empty(): print “Incorrect” and exit\n",
    "        if queue.dequeue()+num!= 0: print “Incorrect” and exit\n",
    "\n",
    "if queue.is_empty(): print “Correct”\n",
    "else: print “Incorrect”\n",
    "```"
   ]
  },
  {
   "cell_type": "code",
   "execution_count": 8,
   "metadata": {},
   "outputs": [],
   "source": [
    "from queue import SimpleQueue\n",
    "\n",
    "def CheckPrinterLog(pLog): # argument is string of space separated integers\n",
    "    q = SimpleQueue()\n",
    "    for num in pLog.split():\n",
    "        \n"
   ]
  },
  {
   "cell_type": "markdown",
   "metadata": {},
   "source": [
    "# Repl exercises"
   ]
  },
  {
   "cell_type": "markdown",
   "metadata": {},
   "source": [
    "## 1\n",
    "Implement a stack using a link list to store the sequence of its elements (see the lecture notes and slides for definitions and details). \n",
    "\n",
    "Use the provided stub.\n",
    "\n",
    "Your implementation must support the examples/test cases below."
   ]
  },
  {
   "cell_type": "code",
   "execution_count": 19,
   "metadata": {},
   "outputs": [],
   "source": [
    "class Node:\n",
    "    def __init__(self, init_data):\n",
    "        self.data = init_data #datum\n",
    "        self.next = None\n",
    "\n",
    "class Stack:\n",
    "    def __init__(self):\n",
    "        self.top = None    #top stores a Node\n",
    "    \n",
    "    def push(self, x):\n",
    "        #implement this: adds a new Node, ASSIGNS top to it, (used to say \"makes top point to it\")\n",
    "        #old top is \"saved in\" the new Node's next\n",
    "        newNode = Node(x)\n",
    "        newNode.next = self.top\n",
    "        self.top = newNode\n",
    "\n",
    "    def pop(self):\n",
    "        #implement this: makes top the next of the Node pointed to by top\n",
    "        self.top = self.top.next\n",
    "        return self.top\n",
    "\n",
    "    def peek(self):\n",
    "        #implement this: returns the data of the Node pointed to by top\n",
    "        return self.top.data\n",
    "\n",
    "    def is_empty(self):\n",
    "        #implement this: returns True if there are no Nodes in\n",
    "        #Stack, otherwise False\n",
    "        return self.top == None"
   ]
  },
  {
   "cell_type": "code",
   "execution_count": 20,
   "metadata": {},
   "outputs": [],
   "source": [
    "s = Stack()"
   ]
  },
  {
   "cell_type": "code",
   "execution_count": 21,
   "metadata": {},
   "outputs": [
    {
     "data": {
      "text/plain": [
       "True"
      ]
     },
     "execution_count": 21,
     "metadata": {},
     "output_type": "execute_result"
    }
   ],
   "source": [
    "#Test1 checks s.is_empty()==True\n",
    "s.is_empty()==True"
   ]
  },
  {
   "cell_type": "code",
   "execution_count": 22,
   "metadata": {},
   "outputs": [
    {
     "data": {
      "text/plain": [
       "True"
      ]
     },
     "execution_count": 22,
     "metadata": {},
     "output_type": "execute_result"
    }
   ],
   "source": [
    "s.push(1)\n",
    "s.push(2)\n",
    "#Test2 checks s.peek()==2\n",
    "s.peek()==2 "
   ]
  },
  {
   "cell_type": "code",
   "execution_count": 23,
   "metadata": {},
   "outputs": [
    {
     "data": {
      "text/plain": [
       "True"
      ]
     },
     "execution_count": 23,
     "metadata": {},
     "output_type": "execute_result"
    }
   ],
   "source": [
    "s.pop()\n",
    "#Test3 checks s.peek()==1\n",
    "s.peek()==1"
   ]
  },
  {
   "cell_type": "code",
   "execution_count": 24,
   "metadata": {},
   "outputs": [
    {
     "data": {
      "text/plain": [
       "True"
      ]
     },
     "execution_count": 24,
     "metadata": {},
     "output_type": "execute_result"
    }
   ],
   "source": [
    "s.peek()==1 \n",
    "#Test4 checks s.is_empty()==False \n",
    "s.is_empty()==False "
   ]
  },
  {
   "cell_type": "code",
   "execution_count": 25,
   "metadata": {},
   "outputs": [
    {
     "data": {
      "text/plain": [
       "True"
      ]
     },
     "execution_count": 25,
     "metadata": {},
     "output_type": "execute_result"
    }
   ],
   "source": [
    "s.pop() \n",
    "#Test5 checks s.is_empty()==True\n",
    "s.is_empty()==True"
   ]
  },
  {
   "cell_type": "markdown",
   "metadata": {},
   "source": [
    "## 2\n",
    "Attempt this problem after you solved the Linked Lists and Stacks problem (Session 11 Problem 2). This is because you can use your implementation of Stack to solve this problem.\n",
    "\n",
    "Given a string of parentheses of four types, (), [], {} and <>, print True if the parentheses of the string are balanced, otherwise print False. For the examples of balanced/unbalanced strings and the algorithm to solve this problem using Stack, see Session 11 lecture slides.\n",
    "```\n",
    "start with empty stack\n",
    "for each symbol symin the input:\n",
    "    if symis an opening symbol:\n",
    "        stack.push(sym)\n",
    "    else: #symis a closing symbol\n",
    "        if stack.peek() matches sym: stack.pop()\n",
    "        else: print “Incorrect” and exit\n",
    "    if stack.empty(): “Correct”\n",
    "else: “Incorrect”\n",
    "```\n",
    "\n",
    "For example, on input: `([{}<>])` your output must be: `True`"
   ]
  },
  {
   "cell_type": "code",
   "execution_count": 76,
   "metadata": {},
   "outputs": [
    {
     "name": "stdout",
     "output_type": "stream",
     "text": [
      "Error\n"
     ]
    }
   ],
   "source": [
    "s = Stack()\n",
    "#inputString = \"([{<>]})\"\n",
    "inputString=\"asdjna( {asdasd} )<\"\n",
    "\n",
    "matchingSymbols = {\"(\" : \")\", \"{\" : \"}\", \"[\" : \"]\", \"<\" : \">\"}\n",
    "\n",
    "for c in inputString:\n",
    "    if c in matchingSymbols:\n",
    "        #print(f\"Pushing `{c}` to the stack\")\n",
    "        s.push(c)\n",
    "    elif c in matchingSymbols.values():\n",
    "        if c == matchingSymbols[s.peek()]:\n",
    "            s.pop()\n",
    "            #print(f\"Popping `{c}` from the stack\")\n",
    "\n",
    "if s.is_empty():\n",
    "    print(\"No issue found\")\n",
    "else:\n",
    "    print(\"Error\")"
   ]
  },
  {
   "cell_type": "code",
   "execution_count": null,
   "metadata": {},
   "outputs": [],
   "source": []
  }
 ],
 "metadata": {
  "kernelspec": {
   "display_name": "Python 3",
   "language": "python",
   "name": "python3"
  },
  "language_info": {
   "codemirror_mode": {
    "name": "ipython",
    "version": 3
   },
   "file_extension": ".py",
   "mimetype": "text/x-python",
   "name": "python",
   "nbconvert_exporter": "python",
   "pygments_lexer": "ipython3",
   "version": "3.7.3"
  }
 },
 "nbformat": 4,
 "nbformat_minor": 2
}
